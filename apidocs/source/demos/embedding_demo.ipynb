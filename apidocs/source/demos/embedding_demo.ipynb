{
 "cells": [
  {
   "cell_type": "code",
   "execution_count": 1,
   "metadata": {},
   "outputs": [],
   "source": [
    "%matplotlib inline"
   ]
  },
  {
   "cell_type": "markdown",
   "metadata": {},
   "source": [
    "# Getting started with Embeddings\n",
    "\n",
    "This notebook will briefly cover how to run `Embedding` workflows. \n",
    "\n",
    "For more information please [read the docs](https://docs.openprotein.ai/)."
   ]
  },
  {
   "cell_type": "code",
   "execution_count": 2,
   "metadata": {},
   "outputs": [],
   "source": [
    "import numpy as np\n",
    "import matplotlib.pyplot as plt\n",
    "import json"
   ]
  },
  {
   "cell_type": "markdown",
   "metadata": {},
   "source": [
    "## Setup\n",
    "\n",
    "Connect to the OpenProtein backend with your credentials:"
   ]
  },
  {
   "cell_type": "code",
   "execution_count": 3,
   "metadata": {},
   "outputs": [],
   "source": [
    "import openprotein\n",
    "\n",
    "with open('secrets.config', 'r') as f:\n",
    "    config = json.load(f)\n",
    "\n",
    "session = openprotein.connect(username= config['username'], password= config['password'])"
   ]
  },
  {
   "cell_type": "markdown",
   "metadata": {},
   "source": [
    "## Model metadata \n",
    "\n",
    "You can list the available models, and fetch metadata for more information (inc publications and DOIs where available):"
   ]
  },
  {
   "cell_type": "code",
   "execution_count": 4,
   "metadata": {},
   "outputs": [
    {
     "data": {
      "text/plain": [
       "[esm1b_t33_650M_UR50S,\n",
       " esm1v_t33_650M_UR90S_1,\n",
       " esm1v_t33_650M_UR90S_2,\n",
       " esm1v_t33_650M_UR90S_3,\n",
       " esm1v_t33_650M_UR90S_4,\n",
       " esm1v_t33_650M_UR90S_5,\n",
       " esm2_t12_35M_UR50D,\n",
       " esm2_t30_150M_UR50D,\n",
       " esm2_t33_650M_UR50D,\n",
       " esm2_t36_3B_UR50D,\n",
       " esm2_t6_8M_UR50D,\n",
       " poet,\n",
       " prot-seq,\n",
       " rotaprot-large-uniref50w,\n",
       " rotaprot-large-uniref90-ft]"
      ]
     },
     "execution_count": 4,
     "metadata": {},
     "output_type": "execute_result"
    }
   ],
   "source": [
    "session.embedding.list_models()"
   ]
  },
  {
   "cell_type": "markdown",
   "metadata": {},
   "source": [
    "You can view more information on each model:"
   ]
  },
  {
   "cell_type": "code",
   "execution_count": 5,
   "metadata": {},
   "outputs": [
    {
     "data": {
      "text/plain": [
       "{'citation_title': 'Biological Structure and Function Emerge from Scaling Unsupervised Learning to 250 Million Protein Sequences',\n",
       " 'doi': '10.1101/622803',\n",
       " 'summary': 'ESM1b model with 650M parameters'}"
      ]
     },
     "execution_count": 5,
     "metadata": {},
     "output_type": "execute_result"
    }
   ],
   "source": [
    "esm_model = session.embedding.list_models()[0]\n",
    "esm_model.metadata.dict()['description']"
   ]
  },
  {
   "cell_type": "markdown",
   "metadata": {},
   "source": [
    "or with:"
   ]
  },
  {
   "cell_type": "code",
   "execution_count": 6,
   "metadata": {},
   "outputs": [
    {
     "name": "stdout",
     "output_type": "stream",
     "text": [
      "\u001b[0;31mType:\u001b[0m            ProtembedModel\n",
      "\u001b[0;31mString form:\u001b[0m     prot-seq\n",
      "\u001b[0;31mFile:\u001b[0m            ~/work/openprotein-python/openprotein/api/embedding.py\n",
      "\u001b[0;31mDocstring:\u001b[0m      \n",
      "Masked protein language model (~300M parameters) trained on UniRef50 with contact and secondary structure prediction as secondary objectives. Uses random Fourier position embeddings and FlashAttention to enable fast inference.\n",
      "max_sequence_length = 1024\n",
      "supported outputs = ['attn', 'embed', 'logits']\n",
      "supported tokens = ['A', 'R', 'N', 'D', 'C', 'Q', 'E', 'G', 'H', 'I', 'L', 'K', 'M', 'F', 'P', 'S', 'T', 'W', 'Y', 'V', 'X', 'O', 'U', 'B', 'Z'] \n",
      "\u001b[0;31mClass docstring:\u001b[0m Class providing inference endpoints for protein embedding models served by OpenProtein."
     ]
    }
   ],
   "source": [
    "session.embedding.prot_seq?"
   ]
  },
  {
   "cell_type": "markdown",
   "metadata": {},
   "source": [
    "There's data available on supported tokens and outputs too:"
   ]
  },
  {
   "cell_type": "code",
   "execution_count": 7,
   "metadata": {},
   "outputs": [
    {
     "data": {
      "text/plain": [
       "{'model_id': 'esm1b_t33_650M_UR50S',\n",
       " 'description': {'citation_title': 'Biological Structure and Function Emerge from Scaling Unsupervised Learning to 250 Million Protein Sequences',\n",
       "  'doi': '10.1101/622803',\n",
       "  'summary': 'ESM1b model with 650M parameters'},\n",
       " 'max_sequence_length': 1022,\n",
       " 'dimension': 1280,\n",
       " 'output_types': ['attn', 'embed', 'logits'],\n",
       " 'input_tokens': ['A',\n",
       "  'R',\n",
       "  'N',\n",
       "  'D',\n",
       "  'C',\n",
       "  'Q',\n",
       "  'E',\n",
       "  'G',\n",
       "  'H',\n",
       "  'I',\n",
       "  'L',\n",
       "  'K',\n",
       "  'M',\n",
       "  'F',\n",
       "  'P',\n",
       "  'S',\n",
       "  'T',\n",
       "  'W',\n",
       "  'Y',\n",
       "  'V',\n",
       "  'X',\n",
       "  'O',\n",
       "  'U',\n",
       "  'B',\n",
       "  'Z'],\n",
       " 'output_tokens': ['<cls>',\n",
       "  '<pad>',\n",
       "  '<eos>',\n",
       "  '<unk>',\n",
       "  'L',\n",
       "  'A',\n",
       "  'G',\n",
       "  'V',\n",
       "  'S',\n",
       "  'E',\n",
       "  'R',\n",
       "  'T',\n",
       "  'I',\n",
       "  'D',\n",
       "  'P',\n",
       "  'K',\n",
       "  'Q',\n",
       "  'N',\n",
       "  'F',\n",
       "  'Y',\n",
       "  'M',\n",
       "  'H',\n",
       "  'W',\n",
       "  'C',\n",
       "  '<null_0>',\n",
       "  'B',\n",
       "  'U',\n",
       "  'Z',\n",
       "  'O',\n",
       "  '.',\n",
       "  '-',\n",
       "  '<null_1>',\n",
       "  'X'],\n",
       " 'token_descriptions': [[{'id': 0,\n",
       "    'token': '<cls>',\n",
       "    'primary': True,\n",
       "    'description': 'Start token'}],\n",
       "  [{'id': 1,\n",
       "    'token': '<pad>',\n",
       "    'primary': True,\n",
       "    'description': 'Padding token'}],\n",
       "  [{'id': 2, 'token': '<eos>', 'primary': True, 'description': 'Stop token'}],\n",
       "  [{'id': 3,\n",
       "    'token': '<unk>',\n",
       "    'primary': True,\n",
       "    'description': 'Unknown token'}],\n",
       "  [{'id': 4, 'token': 'L', 'primary': True, 'description': 'Leucine'}],\n",
       "  [{'id': 5, 'token': 'A', 'primary': True, 'description': 'Alanine'}],\n",
       "  [{'id': 6, 'token': 'G', 'primary': True, 'description': 'Glycine'}],\n",
       "  [{'id': 7, 'token': 'V', 'primary': True, 'description': 'Valine'}],\n",
       "  [{'id': 8, 'token': 'S', 'primary': True, 'description': 'Serine'}],\n",
       "  [{'id': 9, 'token': 'E', 'primary': True, 'description': 'Glutamic acid'}],\n",
       "  [{'id': 10, 'token': 'R', 'primary': True, 'description': 'Arginine'}],\n",
       "  [{'id': 11, 'token': 'T', 'primary': True, 'description': 'Threonine'}],\n",
       "  [{'id': 12, 'token': 'I', 'primary': True, 'description': 'Isoleucine'}],\n",
       "  [{'id': 13, 'token': 'D', 'primary': True, 'description': 'Aspartic acid'}],\n",
       "  [{'id': 14, 'token': 'P', 'primary': True, 'description': 'Proline'}],\n",
       "  [{'id': 15, 'token': 'K', 'primary': True, 'description': 'Lysine'}],\n",
       "  [{'id': 16, 'token': 'Q', 'primary': True, 'description': 'Glutamine'}],\n",
       "  [{'id': 17, 'token': 'N', 'primary': True, 'description': 'Asparagine'}],\n",
       "  [{'id': 18, 'token': 'F', 'primary': True, 'description': 'Phenylalanine'}],\n",
       "  [{'id': 19, 'token': 'Y', 'primary': True, 'description': 'Tyrosine'}],\n",
       "  [{'id': 20, 'token': 'M', 'primary': True, 'description': 'Methionine'}],\n",
       "  [{'id': 21, 'token': 'H', 'primary': True, 'description': 'Histidine'}],\n",
       "  [{'id': 22, 'token': 'W', 'primary': True, 'description': 'Tryptophan'}],\n",
       "  [{'id': 23, 'token': 'C', 'primary': True, 'description': 'Cysteine'}],\n",
       "  [{'id': 24,\n",
       "    'token': '<null_0>',\n",
       "    'primary': True,\n",
       "    'description': 'Null token, unused'}],\n",
       "  [{'id': 25,\n",
       "    'token': 'B',\n",
       "    'primary': True,\n",
       "    'description': 'Aspartic acid or Asparagine'}],\n",
       "  [{'id': 26, 'token': 'U', 'primary': True, 'description': 'Selenocysteine'}],\n",
       "  [{'id': 27,\n",
       "    'token': 'Z',\n",
       "    'primary': True,\n",
       "    'description': 'Glutamic acid or Glutamine'}],\n",
       "  [{'id': 28, 'token': 'O', 'primary': True, 'description': 'Pyrrolysine'}],\n",
       "  [{'id': 29,\n",
       "    'token': '.',\n",
       "    'primary': True,\n",
       "    'description': 'Insertion token, unused'}],\n",
       "  [{'id': 30,\n",
       "    'token': '-',\n",
       "    'primary': True,\n",
       "    'description': 'Gap token, unused'}],\n",
       "  [{'id': 31,\n",
       "    'token': '<null_1>',\n",
       "    'primary': True,\n",
       "    'description': 'Null token, unused'}],\n",
       "  [{'id': 32,\n",
       "    'token': 'X',\n",
       "    'primary': True,\n",
       "    'description': 'Mask token; represents any amino acid'}]]}"
      ]
     },
     "execution_count": 7,
     "metadata": {},
     "output_type": "execute_result"
    }
   ],
   "source": [
    "esm_model.metadata.dict()"
   ]
  },
  {
   "cell_type": "markdown",
   "metadata": {},
   "source": [
    "## Making requests"
   ]
  },
  {
   "cell_type": "markdown",
   "metadata": {},
   "source": [
    "We can make embedding requests from the model directly or from the API:"
   ]
  },
  {
   "cell_type": "code",
   "execution_count": 8,
   "metadata": {},
   "outputs": [],
   "source": [
    "# dummy data\n",
    "sequences= [\"AAAAPLHLALA\".encode()]"
   ]
  },
  {
   "cell_type": "code",
   "execution_count": 9,
   "metadata": {},
   "outputs": [
    {
     "data": {
      "text/plain": [
       "Job(status=<JobStatus.SUCCESS: 'SUCCESS'>, job_id='3f55dfcc-1af1-462a-8aec-843ba6aabbda', job_type='/embeddings/embed', created_date=datetime.datetime(2024, 4, 3, 9, 29, 53, 253030, tzinfo=datetime.timezone.utc), start_date=datetime.datetime(2024, 4, 3, 9, 29, 53, 272956, tzinfo=datetime.timezone.utc), end_date=datetime.datetime(2024, 4, 3, 9, 29, 53, 272956, tzinfo=datetime.timezone.utc), prerequisite_job_id=None, progress_message=None, progress_counter=100, num_records=1, sequence_length=None)"
      ]
     },
     "execution_count": 9,
     "metadata": {},
     "output_type": "execute_result"
    }
   ],
   "source": [
    "\n",
    "esm_job = esm_model.embed(sequences=sequences)\n",
    "esm_job.job"
   ]
  },
  {
   "cell_type": "code",
   "execution_count": 11,
   "metadata": {},
   "outputs": [
    {
     "data": {
      "text/plain": [
       "Job(status=<JobStatus.SUCCESS: 'SUCCESS'>, job_id='90cbbccb-6c25-4c64-96ab-3e8b8dc16545', job_type='/embeddings/embed', created_date=datetime.datetime(2024, 4, 3, 9, 30, 11, 175222, tzinfo=datetime.timezone.utc), start_date=datetime.datetime(2024, 4, 3, 9, 30, 11, 199390, tzinfo=datetime.timezone.utc), end_date=datetime.datetime(2024, 4, 3, 9, 30, 11, 199391, tzinfo=datetime.timezone.utc), prerequisite_job_id=None, progress_message=None, progress_counter=100, num_records=1, sequence_length=None)"
      ]
     },
     "execution_count": 11,
     "metadata": {},
     "output_type": "execute_result"
    }
   ],
   "source": [
    "embedjob = session.embedding.prot_seq.embed(sequences= sequences )\n",
    "embedjob.job"
   ]
  },
  {
   "cell_type": "markdown",
   "metadata": {},
   "source": [
    "## Getting results\n",
    "\n",
    "You can get the results by `wait()` which will wait for the job to complete:"
   ]
  },
  {
   "cell_type": "code",
   "execution_count": 12,
   "metadata": {},
   "outputs": [
    {
     "name": "stderr",
     "output_type": "stream",
     "text": [
      "Waiting: 100%|██████████| 100/100 [00:00<00:00, 9108.15it/s, status=SUCCESS]\n",
      "Retrieving: 100%|██████████| 1/1 [00:00<00:00, 26.32it/s]\n"
     ]
    }
   ],
   "source": [
    "results = embedjob.wait(verbose=True) # wait for results"
   ]
  },
  {
   "cell_type": "code",
   "execution_count": 13,
   "metadata": {},
   "outputs": [
    {
     "data": {
      "text/plain": [
       "(b'AAAAPLHLALA', (1024,))"
      ]
     },
     "execution_count": 13,
     "metadata": {},
     "output_type": "execute_result"
    }
   ],
   "source": [
    "results[0][0],results[0][1].shape"
   ]
  },
  {
   "cell_type": "code",
   "execution_count": 14,
   "metadata": {},
   "outputs": [
    {
     "data": {
      "text/plain": [
       "array([ 0.35324928,  0.20608798, -2.9375222 ], dtype=float32)"
      ]
     },
     "execution_count": 14,
     "metadata": {},
     "output_type": "execute_result"
    }
   ],
   "source": [
    "results[0][1][0:3]"
   ]
  },
  {
   "cell_type": "code",
   "execution_count": 15,
   "metadata": {},
   "outputs": [
    {
     "data": {
      "text/plain": [
       "True"
      ]
     },
     "execution_count": 15,
     "metadata": {},
     "output_type": "execute_result"
    }
   ],
   "source": [
    "embedjob.done()"
   ]
  },
  {
   "cell_type": "markdown",
   "metadata": {},
   "source": [
    "You can aso fetch results by sequence (useful for when we have many sequence embeddings!):"
   ]
  },
  {
   "cell_type": "code",
   "execution_count": 16,
   "metadata": {},
   "outputs": [
    {
     "data": {
      "text/plain": [
       "array([ 0.35324928,  0.20608798, -2.9375222 ], dtype=float32)"
      ]
     },
     "execution_count": 16,
     "metadata": {},
     "output_type": "execute_result"
    }
   ],
   "source": [
    "embedjob.get_item(b\"AAAAPLHLALA\")[0:3]"
   ]
  },
  {
   "cell_type": "markdown",
   "metadata": {},
   "source": [
    "Lastly, you can also use the `get()` method as with other workflows:"
   ]
  },
  {
   "cell_type": "code",
   "execution_count": 17,
   "metadata": {},
   "outputs": [
    {
     "data": {
      "text/plain": [
       "[(b'AAAAPLHLALA',\n",
       "  array([ 0.35324928,  0.20608798, -2.9375222 , ..., -0.5398171 ,\n",
       "          0.44970703, -2.0318716 ], dtype=float32))]"
      ]
     },
     "execution_count": 17,
     "metadata": {},
     "output_type": "execute_result"
    }
   ],
   "source": [
    "embedjob.get()"
   ]
  },
  {
   "cell_type": "markdown",
   "metadata": {},
   "source": [
    "## Resume workflows \n",
    "\n",
    "Lastly, it's possible to resume from where you left off with the job id:"
   ]
  },
  {
   "cell_type": "code",
   "execution_count": 18,
   "metadata": {},
   "outputs": [],
   "source": [
    "embedjob_job_id = esm_job.job.job_id"
   ]
  },
  {
   "cell_type": "code",
   "execution_count": 19,
   "metadata": {},
   "outputs": [
    {
     "data": {
      "text/plain": [
       "Job(status=<JobStatus.SUCCESS: 'SUCCESS'>, job_id='3f55dfcc-1af1-462a-8aec-843ba6aabbda', job_type='/embeddings/embed', created_date=datetime.datetime(2024, 4, 3, 9, 29, 53, 253030), start_date=datetime.datetime(2024, 4, 3, 9, 29, 53, 272956), end_date=datetime.datetime(2024, 4, 3, 9, 29, 53, 272956), prerequisite_job_id=None, progress_message=None, progress_counter=100, num_records=None, sequence_length=None)"
      ]
     },
     "execution_count": 19,
     "metadata": {},
     "output_type": "execute_result"
    }
   ],
   "source": [
    "reloaded_job = session.load_job(embedjob_job_id)\n",
    "reloaded_job.job"
   ]
  },
  {
   "cell_type": "code",
   "execution_count": 20,
   "metadata": {},
   "outputs": [
    {
     "data": {
      "text/plain": [
       "[b'AAAAPLHLALA']"
      ]
     },
     "execution_count": 20,
     "metadata": {},
     "output_type": "execute_result"
    }
   ],
   "source": [
    "reloaded_job.sequences"
   ]
  }
 ],
 "metadata": {
  "kernelspec": {
   "display_name": "py38",
   "language": "python",
   "name": "python3"
  },
  "language_info": {
   "codemirror_mode": {
    "name": "ipython",
    "version": 3
   },
   "file_extension": ".py",
   "mimetype": "text/x-python",
   "name": "python",
   "nbconvert_exporter": "python",
   "pygments_lexer": "ipython3",
   "version": "3.8.16"
  },
  "orig_nbformat": 4
 },
 "nbformat": 4,
 "nbformat_minor": 2
}
