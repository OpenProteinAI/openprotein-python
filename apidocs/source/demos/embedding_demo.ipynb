{
 "cells": [
  {
   "cell_type": "code",
   "execution_count": 1,
   "metadata": {},
   "outputs": [],
   "source": [
    "%matplotlib inline"
   ]
  },
  {
   "cell_type": "markdown",
   "metadata": {},
   "source": [
    "# Demo of Embeddings workflow functionality \n",
    "\n",
    "This notebook will briefly cover how to run `Embedding` workflows. \n",
    "\n",
    "For more information please [read the docs](https://docs.openprotein.ai/)."
   ]
  },
  {
   "cell_type": "code",
   "execution_count": 2,
   "metadata": {},
   "outputs": [],
   "source": [
    "import numpy as np\n",
    "import matplotlib\n",
    "import matplotlib.pyplot as plt\n",
    "import time\n",
    "import json\n",
    "import pandas as pd\n",
    "import seaborn as sns \n",
    "sns.set() \n",
    "\n",
    "from AWSTools.Batchtools.batch_utils import fakeseq # Used for creating fake protein sequences for testing\n"
   ]
  },
  {
   "cell_type": "markdown",
   "metadata": {},
   "source": [
    "## Setup\n",
    "\n",
    "Connect to the OpenProtein backend with your credentials:"
   ]
  },
  {
   "cell_type": "code",
   "execution_count": 3,
   "metadata": {},
   "outputs": [],
   "source": [
    "import openprotein\n",
    "\n",
    "with open('../../../secrets.config', 'r') as f:\n",
    "    config = json.load(f)\n",
    "\n",
    "session = openprotein.connect(username= config['username'], password= config['password'])"
   ]
  },
  {
   "cell_type": "markdown",
   "metadata": {},
   "source": [
    "## Model metadata \n",
    "\n",
    "You can list the available models, and fetch metadata for more information (inc publications and DOIs where available):"
   ]
  },
  {
   "cell_type": "code",
   "execution_count": 4,
   "metadata": {},
   "outputs": [
    {
     "data": {
      "text/plain": [
       "[esm1b_t33_650M_UR50S,\n",
       " esm1v_t33_650M_UR90S_1,\n",
       " esm1v_t33_650M_UR90S_2,\n",
       " esm1v_t33_650M_UR90S_3,\n",
       " esm1v_t33_650M_UR90S_4,\n",
       " esm1v_t33_650M_UR90S_5,\n",
       " esm2_t12_35M_UR50D,\n",
       " esm2_t30_150M_UR50D,\n",
       " esm2_t33_650M_UR50D,\n",
       " esm2_t36_3B_UR50D,\n",
       " esm2_t6_8M_UR50D,\n",
       " prot-seq,\n",
       " rotaprot-large-uniref50w,\n",
       " rotaprot-large-uniref90-ft,\n",
       " test-model]"
      ]
     },
     "execution_count": 4,
     "metadata": {},
     "output_type": "execute_result"
    }
   ],
   "source": [
    "session.embedding.list_models()"
   ]
  },
  {
   "cell_type": "markdown",
   "metadata": {},
   "source": [
    "You can view more information on each model:"
   ]
  },
  {
   "cell_type": "code",
   "execution_count": 5,
   "metadata": {},
   "outputs": [
    {
     "data": {
      "text/plain": [
       "{'citation_title': 'Biological Structure and Function Emerge from Scaling Unsupervised Learning to 250 Million Protein Sequences',\n",
       " 'doi': '10.1101/622803',\n",
       " 'summary': 'ESM1b model with 650M parameters'}"
      ]
     },
     "execution_count": 5,
     "metadata": {},
     "output_type": "execute_result"
    }
   ],
   "source": [
    "esm_model = session.embedding.list_models()[0]\n",
    "esm_model.metadata.dict()['description']"
   ]
  },
  {
   "cell_type": "markdown",
   "metadata": {},
   "source": [
    "There's data available on supported tokens and outputs too:"
   ]
  },
  {
   "cell_type": "code",
   "execution_count": 6,
   "metadata": {},
   "outputs": [
    {
     "data": {
      "text/plain": [
       "{'model_id': 'esm1b_t33_650M_UR50S',\n",
       " 'description': {'citation_title': 'Biological Structure and Function Emerge from Scaling Unsupervised Learning to 250 Million Protein Sequences',\n",
       "  'doi': '10.1101/622803',\n",
       "  'summary': 'ESM1b model with 650M parameters'},\n",
       " 'max_sequence_length': 1022,\n",
       " 'dimension': 1280,\n",
       " 'output_types': ['attn', 'embed', 'logits'],\n",
       " 'input_tokens': ['A',\n",
       "  'R',\n",
       "  'N',\n",
       "  'D',\n",
       "  'C',\n",
       "  'Q',\n",
       "  'E',\n",
       "  'G',\n",
       "  'H',\n",
       "  'I',\n",
       "  'L',\n",
       "  'K',\n",
       "  'M',\n",
       "  'F',\n",
       "  'P',\n",
       "  'S',\n",
       "  'T',\n",
       "  'W',\n",
       "  'Y',\n",
       "  'V',\n",
       "  'X',\n",
       "  'O',\n",
       "  'U',\n",
       "  'B',\n",
       "  'Z'],\n",
       " 'output_tokens': ['<cls>',\n",
       "  '<pad>',\n",
       "  '<eos>',\n",
       "  '<unk>',\n",
       "  'L',\n",
       "  'A',\n",
       "  'G',\n",
       "  'V',\n",
       "  'S',\n",
       "  'E',\n",
       "  'R',\n",
       "  'T',\n",
       "  'I',\n",
       "  'D',\n",
       "  'P',\n",
       "  'K',\n",
       "  'Q',\n",
       "  'N',\n",
       "  'F',\n",
       "  'Y',\n",
       "  'M',\n",
       "  'H',\n",
       "  'W',\n",
       "  'C',\n",
       "  '<null_0>',\n",
       "  'B',\n",
       "  'U',\n",
       "  'Z',\n",
       "  'O',\n",
       "  '.',\n",
       "  '-',\n",
       "  '<null_1>',\n",
       "  'X'],\n",
       " 'token_descriptions': [[{'id': 0,\n",
       "    'token': '<cls>',\n",
       "    'primary': True,\n",
       "    'description': 'Start token'}],\n",
       "  [{'id': 1,\n",
       "    'token': '<pad>',\n",
       "    'primary': True,\n",
       "    'description': 'Padding token'}],\n",
       "  [{'id': 2, 'token': '<eos>', 'primary': True, 'description': 'Stop token'}],\n",
       "  [{'id': 3,\n",
       "    'token': '<unk>',\n",
       "    'primary': True,\n",
       "    'description': 'Unknown token'}],\n",
       "  [{'id': 4, 'token': 'L', 'primary': True, 'description': 'Leucine'}],\n",
       "  [{'id': 5, 'token': 'A', 'primary': True, 'description': 'Alanine'}],\n",
       "  [{'id': 6, 'token': 'G', 'primary': True, 'description': 'Glycine'}],\n",
       "  [{'id': 7, 'token': 'V', 'primary': True, 'description': 'Valine'}],\n",
       "  [{'id': 8, 'token': 'S', 'primary': True, 'description': 'Serine'}],\n",
       "  [{'id': 9, 'token': 'E', 'primary': True, 'description': 'Glutamic acid'}],\n",
       "  [{'id': 10, 'token': 'R', 'primary': True, 'description': 'Arginine'}],\n",
       "  [{'id': 11, 'token': 'T', 'primary': True, 'description': 'Threonine'}],\n",
       "  [{'id': 12, 'token': 'I', 'primary': True, 'description': 'Isoleucine'}],\n",
       "  [{'id': 13, 'token': 'D', 'primary': True, 'description': 'Aspartic acid'}],\n",
       "  [{'id': 14, 'token': 'P', 'primary': True, 'description': 'Proline'}],\n",
       "  [{'id': 15, 'token': 'K', 'primary': True, 'description': 'Lysine'}],\n",
       "  [{'id': 16, 'token': 'Q', 'primary': True, 'description': 'Glutamine'}],\n",
       "  [{'id': 17, 'token': 'N', 'primary': True, 'description': 'Asparagine'}],\n",
       "  [{'id': 18, 'token': 'F', 'primary': True, 'description': 'Phenylalanine'}],\n",
       "  [{'id': 19, 'token': 'Y', 'primary': True, 'description': 'Tyrosine'}],\n",
       "  [{'id': 20, 'token': 'M', 'primary': True, 'description': 'Methionine'}],\n",
       "  [{'id': 21, 'token': 'H', 'primary': True, 'description': 'Histidine'}],\n",
       "  [{'id': 22, 'token': 'W', 'primary': True, 'description': 'Tryptophan'}],\n",
       "  [{'id': 23, 'token': 'C', 'primary': True, 'description': 'Cysteine'}],\n",
       "  [{'id': 24,\n",
       "    'token': '<null_0>',\n",
       "    'primary': True,\n",
       "    'description': 'Null token, unused'}],\n",
       "  [{'id': 25,\n",
       "    'token': 'B',\n",
       "    'primary': True,\n",
       "    'description': 'Aspartic acid or Asparagine'}],\n",
       "  [{'id': 26, 'token': 'U', 'primary': True, 'description': 'Selenocysteine'}],\n",
       "  [{'id': 27,\n",
       "    'token': 'Z',\n",
       "    'primary': True,\n",
       "    'description': 'Glutamic acid or Glutamine'}],\n",
       "  [{'id': 28, 'token': 'O', 'primary': True, 'description': 'Pyrrolysine'}],\n",
       "  [{'id': 29,\n",
       "    'token': '.',\n",
       "    'primary': True,\n",
       "    'description': 'Insertion token, unused'}],\n",
       "  [{'id': 30,\n",
       "    'token': '-',\n",
       "    'primary': True,\n",
       "    'description': 'Gap token, unused'}],\n",
       "  [{'id': 31,\n",
       "    'token': '<null_1>',\n",
       "    'primary': True,\n",
       "    'description': 'Null token, unused'}],\n",
       "  [{'id': 32,\n",
       "    'token': 'X',\n",
       "    'primary': True,\n",
       "    'description': 'Mask token; represents any amino acid'}]]}"
      ]
     },
     "execution_count": 6,
     "metadata": {},
     "output_type": "execute_result"
    }
   ],
   "source": [
    "esm_model.metadata.dict()"
   ]
  },
  {
   "cell_type": "markdown",
   "metadata": {},
   "source": [
    "## Making requests"
   ]
  },
  {
   "cell_type": "markdown",
   "metadata": {},
   "source": [
    "We can make embedding requests from the model directly or from the API:"
   ]
  },
  {
   "cell_type": "code",
   "execution_count": 7,
   "metadata": {},
   "outputs": [],
   "source": [
    "# dummy data\n",
    "sequences= [\"AAAAPLHLALA\".encode()]"
   ]
  },
  {
   "cell_type": "code",
   "execution_count": 8,
   "metadata": {},
   "outputs": [
    {
     "data": {
      "text/plain": [
       "Job(status=<JobStatus.PENDING: 'PENDING'>, job_id='f304e749-6d36-4a8b-85df-4206acfaf50b', job_type='/embeddings/embed_reduced', created_date=datetime.datetime(2023, 7, 28, 2, 57, 16, 347282, tzinfo=datetime.timezone.utc), start_date=None, end_date=None, prerequisite_job_id=None, progress_message=None, progress_counter=0, num_records=1)"
      ]
     },
     "execution_count": 8,
     "metadata": {},
     "output_type": "execute_result"
    }
   ],
   "source": [
    "\n",
    "esm_job = esm_model.embed(sequences=sequences)\n",
    "esm_job.job"
   ]
  },
  {
   "cell_type": "code",
   "execution_count": 9,
   "metadata": {},
   "outputs": [
    {
     "data": {
      "text/plain": [
       "Job(status=<JobStatus.PENDING: 'PENDING'>, job_id='84ed7e57-20ab-469e-bbca-0560bd294c30', job_type='/embeddings/embed_reduced', created_date=datetime.datetime(2023, 7, 28, 2, 57, 16, 361915, tzinfo=datetime.timezone.utc), start_date=None, end_date=None, prerequisite_job_id=None, progress_message=None, progress_counter=0, num_records=1)"
      ]
     },
     "execution_count": 9,
     "metadata": {},
     "output_type": "execute_result"
    }
   ],
   "source": [
    "embedjob = session.embedding.embed(model=\"esm1b_t33_650M_UR50S\", sequences= sequences )\n",
    "embedjob.job"
   ]
  },
  {
   "cell_type": "markdown",
   "metadata": {},
   "source": [
    "## Getting results\n",
    "\n",
    "You can get the results by `wait()` which will wait for the job to complete:"
   ]
  },
  {
   "cell_type": "code",
   "execution_count": 10,
   "metadata": {},
   "outputs": [
    {
     "name": "stderr",
     "output_type": "stream",
     "text": [
      "Waiting: 100%|██████████| 100/100 [00:00<00:00, 7605.54it/s, status=SUCCESS]\n",
      "Retrieving: 100%|██████████| 1/1 [00:00<00:00, 13.12it/s]\n"
     ]
    }
   ],
   "source": [
    "results = embedjob.wait(verbose=True) # wait for results"
   ]
  },
  {
   "cell_type": "code",
   "execution_count": 11,
   "metadata": {},
   "outputs": [
    {
     "data": {
      "text/plain": [
       "(b'AAAAPLHLALA', (1280,))"
      ]
     },
     "execution_count": 11,
     "metadata": {},
     "output_type": "execute_result"
    }
   ],
   "source": [
    "results[0][0],results[0][1].shape"
   ]
  },
  {
   "cell_type": "code",
   "execution_count": 12,
   "metadata": {},
   "outputs": [
    {
     "data": {
      "text/plain": [
       "array([ 0.15882437, -0.03162469,  0.11416737], dtype=float32)"
      ]
     },
     "execution_count": 12,
     "metadata": {},
     "output_type": "execute_result"
    }
   ],
   "source": [
    "results[0][1][0:3]"
   ]
  },
  {
   "cell_type": "code",
   "execution_count": 13,
   "metadata": {},
   "outputs": [
    {
     "data": {
      "text/plain": [
       "False"
      ]
     },
     "execution_count": 13,
     "metadata": {},
     "output_type": "execute_result"
    }
   ],
   "source": [
    "esm_job.done()"
   ]
  },
  {
   "cell_type": "code",
   "execution_count": 14,
   "metadata": {},
   "outputs": [
    {
     "name": "stderr",
     "output_type": "stream",
     "text": [
      "Waiting: 100%|██████████| 100/100 [00:00<00:00, 4872.51it/s, status=SUCCESS]\n",
      "Retrieving: 100%|██████████| 1/1 [00:00<00:00, 36.59it/s]\n"
     ]
    }
   ],
   "source": [
    "results2 = esm_job.wait(verbose=True) # wait for results"
   ]
  },
  {
   "cell_type": "code",
   "execution_count": 15,
   "metadata": {},
   "outputs": [
    {
     "data": {
      "text/plain": [
       "(b'AAAAPLHLALA', (1280,))"
      ]
     },
     "execution_count": 15,
     "metadata": {},
     "output_type": "execute_result"
    }
   ],
   "source": [
    "results2[0][0],results2[0][1].shape"
   ]
  },
  {
   "cell_type": "code",
   "execution_count": 16,
   "metadata": {},
   "outputs": [
    {
     "data": {
      "text/plain": [
       "array([ 0.15882437, -0.03162469,  0.11416737], dtype=float32)"
      ]
     },
     "execution_count": 16,
     "metadata": {},
     "output_type": "execute_result"
    }
   ],
   "source": [
    "results2[0][1][0:3]"
   ]
  },
  {
   "cell_type": "markdown",
   "metadata": {},
   "source": [
    "You can aso fetch results by sequence (useful for when we have many sequence embeddings!):"
   ]
  },
  {
   "cell_type": "code",
   "execution_count": 17,
   "metadata": {},
   "outputs": [
    {
     "data": {
      "text/plain": [
       "array([ 0.15882437, -0.03162469,  0.11416737], dtype=float32)"
      ]
     },
     "execution_count": 17,
     "metadata": {},
     "output_type": "execute_result"
    }
   ],
   "source": [
    "esm_job.get_item(b\"AAAAPLHLALA\")[0:3]"
   ]
  },
  {
   "cell_type": "markdown",
   "metadata": {},
   "source": [
    "Lastly, you can also use the `get()` method as with other workflows:"
   ]
  },
  {
   "cell_type": "code",
   "execution_count": 18,
   "metadata": {},
   "outputs": [
    {
     "data": {
      "text/plain": [
       "[(b'AAAAPLHLALA',\n",
       "  array([ 0.15882437, -0.03162469,  0.11416737, ..., -0.17913206,\n",
       "          0.19573624,  0.13490376], dtype=float32))]"
      ]
     },
     "execution_count": 18,
     "metadata": {},
     "output_type": "execute_result"
    }
   ],
   "source": [
    "esm_job.get()"
   ]
  },
  {
   "cell_type": "markdown",
   "metadata": {},
   "source": [
    "## Resume workflows \n",
    "\n",
    "Lastly, it's possible to resume from where you left off with the job id:"
   ]
  },
  {
   "cell_type": "code",
   "execution_count": 19,
   "metadata": {},
   "outputs": [],
   "source": [
    "esm_job_id = esm_job.job.job_id"
   ]
  },
  {
   "cell_type": "code",
   "execution_count": 20,
   "metadata": {},
   "outputs": [
    {
     "data": {
      "text/plain": [
       "Job(status=<JobStatus.SUCCESS: 'SUCCESS'>, job_id='f304e749-6d36-4a8b-85df-4206acfaf50b', job_type='/embeddings/embed_reduced', created_date=datetime.datetime(2023, 7, 28, 2, 57, 16, 347282), start_date=datetime.datetime(2023, 7, 28, 2, 57, 16, 431629), end_date=datetime.datetime(2023, 7, 28, 2, 57, 16, 431629), prerequisite_job_id=None, progress_message=None, progress_counter=100, num_records=None)"
      ]
     },
     "execution_count": 20,
     "metadata": {},
     "output_type": "execute_result"
    }
   ],
   "source": [
    "reloaded_job = session.embedding.load_job(esm_job_id)\n",
    "reloaded_job.job"
   ]
  },
  {
   "cell_type": "code",
   "execution_count": 21,
   "metadata": {},
   "outputs": [
    {
     "data": {
      "text/plain": [
       "[b'AAAAPLHLALA']"
      ]
     },
     "execution_count": 21,
     "metadata": {},
     "output_type": "execute_result"
    }
   ],
   "source": [
    "reloaded_job.sequences"
   ]
  },
  {
   "cell_type": "code",
   "execution_count": 22,
   "metadata": {},
   "outputs": [
    {
     "data": {
      "text/plain": [
       "array([ 0.15882437, -0.03162469,  0.11416737, ..., -0.17913206,\n",
       "        0.19573624,  0.13490376], dtype=float32)"
      ]
     },
     "execution_count": 22,
     "metadata": {},
     "output_type": "execute_result"
    }
   ],
   "source": [
    "reloaded_job.get_item(b\"AAAAPLHLALA\")"
   ]
  }
 ],
 "metadata": {
  "kernelspec": {
   "display_name": "py38",
   "language": "python",
   "name": "python3"
  },
  "language_info": {
   "codemirror_mode": {
    "name": "ipython",
    "version": 3
   },
   "file_extension": ".py",
   "mimetype": "text/x-python",
   "name": "python",
   "nbconvert_exporter": "python",
   "pygments_lexer": "ipython3",
   "version": "3.8.16"
  },
  "orig_nbformat": 4
 },
 "nbformat": 4,
 "nbformat_minor": 2
}
