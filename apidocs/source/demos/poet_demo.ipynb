{
 "cells": [
  {
   "cell_type": "code",
   "execution_count": 1,
   "metadata": {},
   "outputs": [],
   "source": [
    "%matplotlib inline"
   ]
  },
  {
   "cell_type": "markdown",
   "metadata": {},
   "source": [
    "# Getting started with PoET\n",
    "\n",
    "This notebook will briefly cover how to run `align` and `PoET` workflows. \n",
    "\n",
    "For more information please [read the docs](https://docs.openprotein.ai/)."
   ]
  },
  {
   "cell_type": "code",
   "execution_count": 2,
   "metadata": {},
   "outputs": [],
   "source": [
    "import matplotlib.pyplot as plt\n",
    "import json\n",
    "import pandas as pd"
   ]
  },
  {
   "cell_type": "markdown",
   "metadata": {},
   "source": [
    "## Setup\n",
    "\n",
    "Connect to the OpenProtein backend with your credentials:"
   ]
  },
  {
   "cell_type": "code",
   "execution_count": 3,
   "metadata": {},
   "outputs": [],
   "source": [
    "import openprotein\n",
    "\n",
    "with open('secrets.config', 'r') as f:\n",
    "    config = json.load(f)\n",
    "\n",
    "session = openprotein.connect(username= config['username'], password= config['password']) "
   ]
  },
  {
   "cell_type": "markdown",
   "metadata": {},
   "source": [
    "We will use a small sample of the AMIE PSEAE dataset as a demo, the full data is available on our [website](https://docs.openprotein.ai/walkthroughs/demo-datasets-page.html):"
   ]
  },
  {
   "cell_type": "code",
   "execution_count": 4,
   "metadata": {},
   "outputs": [
    {
     "data": {
      "text/html": [
       "<div>\n",
       "<style scoped>\n",
       "    .dataframe tbody tr th:only-of-type {\n",
       "        vertical-align: middle;\n",
       "    }\n",
       "\n",
       "    .dataframe tbody tr th {\n",
       "        vertical-align: top;\n",
       "    }\n",
       "\n",
       "    .dataframe thead th {\n",
       "        text-align: right;\n",
       "    }\n",
       "</style>\n",
       "<table border=\"1\" class=\"dataframe\">\n",
       "  <thead>\n",
       "    <tr style=\"text-align: right;\">\n",
       "      <th></th>\n",
       "      <th>sequence</th>\n",
       "    </tr>\n",
       "  </thead>\n",
       "  <tbody>\n",
       "    <tr>\n",
       "      <th>0</th>\n",
       "      <td>WRHGDISSSNDTVGVAVVNYKMPRLHTAAEVLDNARKIAEMIVGMK...</td>\n",
       "    </tr>\n",
       "    <tr>\n",
       "      <th>1</th>\n",
       "      <td>WRHGDISSSNDTVGVAVVNYKMPRLHTAAEVLDNARKIAEMIVGMK...</td>\n",
       "    </tr>\n",
       "  </tbody>\n",
       "</table>\n",
       "</div>"
      ],
      "text/plain": [
       "                                            sequence\n",
       "0  WRHGDISSSNDTVGVAVVNYKMPRLHTAAEVLDNARKIAEMIVGMK...\n",
       "1  WRHGDISSSNDTVGVAVVNYKMPRLHTAAEVLDNARKIAEMIVGMK..."
      ]
     },
     "execution_count": 4,
     "metadata": {},
     "output_type": "execute_result"
    }
   ],
   "source": [
    "dataset = pd.read_csv(\"./data/AMIE_PSEAE.csv\")[['sequence']]\n",
    "dataset.head(2)"
   ]
  },
  {
   "cell_type": "markdown",
   "metadata": {},
   "source": [
    "## Create an MSA \n",
    "\n",
    "We can create an MSA either from a seed, or by uploading a ready-made file. Here we will explore the seed workflow:"
   ]
  },
  {
   "cell_type": "code",
   "execution_count": 5,
   "metadata": {},
   "outputs": [],
   "source": [
    "# Create an MSA from a seed sequence\n",
    "seed = dataset.sequence[0]"
   ]
  },
  {
   "cell_type": "markdown",
   "metadata": {},
   "source": [
    "We'll create an MSA from a seed sequence using the `Align` module:"
   ]
  },
  {
   "cell_type": "code",
   "execution_count": 6,
   "metadata": {},
   "outputs": [
    {
     "name": "stdout",
     "output_type": "stream",
     "text": [
      "status=<JobStatus.SUCCESS: 'SUCCESS'> job_id='20015eae-5872-4ad7-aa4a-71844c354c7d' job_type=<JobType.align_align: '/align/align'> created_date=datetime.datetime(2024, 4, 3, 9, 30, 39, 12506) start_date=None end_date=datetime.datetime(2024, 4, 3, 9, 30, 39, 12838) prerequisite_job_id=None progress_message=None progress_counter=None num_records=None sequence_length=None msa_id='20015eae-5872-4ad7-aa4a-71844c354c7d'\n"
     ]
    }
   ],
   "source": [
    "msa = session.align.create_msa(seed.encode())\n",
    "print(msa)\n",
    "\n"
   ]
  },
  {
   "cell_type": "code",
   "execution_count": 7,
   "metadata": {},
   "outputs": [
    {
     "data": {
      "text/plain": [
       "[['seed',\n",
       "  'WRHGDISSSNDTVGVAVVNYKMPRLHTAAEVLDNARKIAEMIVGMKQGLPGMDLVVFPEYSLQGIMYDPAEMMETAVAIPGEETEIFSRACRKANVWGVFSLTGERHEEHPRKAPYNTLVLIDNNGEIVQKYRKIIPWCPIEGWYPGGQTYVSEGPKGMKISLIICDDGNYPEIWRDCAMKGAELIVRCQGYMYPAKDQQVMMAKAMAWANNCYVAVANAAGFDGVYSYFGHSAIIGFDGRTLGECGEEEMGIQYAQLSLSQIRDARANDQSQNHLFKILHRGYSGLQASGDGDRGLAECPFEFYRTWVTDAEKARENVERLTRSTTGVAQCPVGRLPYEGLEKEA'],\n",
       " ['UniRef100_UPI0004660BEB',\n",
       "  '-RHGDISSSNDTVGVAVVNYKMPRLHTVAEVLDNARKIADMIVGMKQGLPGMDLVVFPEYSLQGIMYDPAEMMETAVAIPGEETEIFSRACRKANVWGVFSLTGERHEEHPRKAPYNTLVLIDNNGEIVQKYRKIIPWCPIEGWYPGGQTYVSEGPKGMKISLIICDDGNYPEIWRDCAMKGAELIVRCQGYMYPAKDQQVMMAKAMAWANNCYVAVANAAGFDGVYSYFGHSAIIGFDGRTLGECGEEEMGIQYAQLSLSQIRDARSNDQSQNHLFKILHRGYSGLQASGDGDRGLAECPFEFYRTWVTDAEKARENVERLTRSTTGVAQCPVGRLPYEGLEKEA'],\n",
       " ['UniRef100_UPI000730B3B9',\n",
       "  '-RHGDISSSNDTVGVAVVNYKMPRLHSREEVLANAQKIADMVVGMKQGLPGMDLVIFPEYSLQGIMYDPAEMMETAVAIPGDETELLARACRKANVWGVFSLTGERHEEHPNKAPYNTLVLIDNKGEVVQKYRKIIPWCPIEGWYPGGQTYVSEGPKGMKISMIICDDGNYPEIWRDCAMKGAELIVRCQGYMYPAKEQQVLMAKAMAWANNTYVAVANAAGFDGVYSYFGHSAIIGFDGRTLGECGEEEMGIQYAQLSVSQIRDARANDQSQNHLYKILHRGYTGLNNSGEGDRGLAECPFEFYKTWVTDAEKARENVEKITRSTSGVAQCPVGRLPYEGEEKEA']]"
      ]
     },
     "execution_count": 7,
     "metadata": {},
     "output_type": "execute_result"
    }
   ],
   "source": [
    "r = msa.wait() \n",
    "list(r)[0:3]"
   ]
  },
  {
   "cell_type": "markdown",
   "metadata": {},
   "source": [
    "We can examine our inputs:"
   ]
  },
  {
   "cell_type": "code",
   "execution_count": 8,
   "metadata": {},
   "outputs": [
    {
     "data": {
      "text/plain": [
       "[['seed',\n",
       "  'WRHGDISSSNDTVGVAVVNYKMPRLHTAAEVLDNARKIAEMIVGMKQGLPGMDLVVFPEYSLQGIMYDPAEMMETAVAIPGEETEIFSRACRKANVWGVFSLTGERHEEHPRKAPYNTLVLIDNNGEIVQKYRKIIPWCPIEGWYPGGQTYVSEGPKGMKISLIICDDGNYPEIWRDCAMKGAELIVRCQGYMYPAKDQQVMMAKAMAWANNCYVAVANAAGFDGVYSYFGHSAIIGFDGRTLGECGEEEMGIQYAQLSLSQIRDARANDQSQNHLFKILHRGYSGLQASGDGDRGLAECPFEFYRTWVTDAEKARENVERLTRSTTGVAQCPVGRLPYEGLEKEA']]"
      ]
     },
     "execution_count": 8,
     "metadata": {},
     "output_type": "execute_result"
    }
   ],
   "source": [
    "list(msa.get_input(\"RAW\"))"
   ]
  },
  {
   "cell_type": "markdown",
   "metadata": {},
   "source": [
    "and the resulting MSA (limited here to 4 sequences for brevity):"
   ]
  },
  {
   "cell_type": "code",
   "execution_count": 9,
   "metadata": {},
   "outputs": [
    {
     "data": {
      "text/plain": [
       "[['seed',\n",
       "  'WRHGDISSSNDTVGVAVVNYKMPRLHTAAEVLDNARKIAEMIVGMKQGLPGMDLVVFPEYSLQGIMYDPAEMMETAVAIPGEETEIFSRACRKANVWGVFSLTGERHEEHPRKAPYNTLVLIDNNGEIVQKYRKIIPWCPIEGWYPGGQTYVSEGPKGMKISLIICDDGNYPEIWRDCAMKGAELIVRCQGYMYPAKDQQVMMAKAMAWANNCYVAVANAAGFDGVYSYFGHSAIIGFDGRTLGECGEEEMGIQYAQLSLSQIRDARANDQSQNHLFKILHRGYSGLQASGDGDRGLAECPFEFYRTWVTDAEKARENVERLTRSTTGVAQCPVGRLPYEGLEKEA'],\n",
       " ['UniRef100_UPI0004660BEB',\n",
       "  '-RHGDISSSNDTVGVAVVNYKMPRLHTVAEVLDNARKIADMIVGMKQGLPGMDLVVFPEYSLQGIMYDPAEMMETAVAIPGEETEIFSRACRKANVWGVFSLTGERHEEHPRKAPYNTLVLIDNNGEIVQKYRKIIPWCPIEGWYPGGQTYVSEGPKGMKISLIICDDGNYPEIWRDCAMKGAELIVRCQGYMYPAKDQQVMMAKAMAWANNCYVAVANAAGFDGVYSYFGHSAIIGFDGRTLGECGEEEMGIQYAQLSLSQIRDARSNDQSQNHLFKILHRGYSGLQASGDGDRGLAECPFEFYRTWVTDAEKARENVERLTRSTTGVAQCPVGRLPYEGLEKEA'],\n",
       " ['UniRef100_UPI000730B3B9',\n",
       "  '-RHGDISSSNDTVGVAVVNYKMPRLHSREEVLANAQKIADMVVGMKQGLPGMDLVIFPEYSLQGIMYDPAEMMETAVAIPGDETELLARACRKANVWGVFSLTGERHEEHPNKAPYNTLVLIDNKGEVVQKYRKIIPWCPIEGWYPGGQTYVSEGPKGMKISMIICDDGNYPEIWRDCAMKGAELIVRCQGYMYPAKEQQVLMAKAMAWANNTYVAVANAAGFDGVYSYFGHSAIIGFDGRTLGECGEEEMGIQYAQLSVSQIRDARANDQSQNHLYKILHRGYTGLNNSGEGDRGLAECPFEFYKTWVTDAEKARENVEKITRSTSGVAQCPVGRLPYEGEEKEA'],\n",
       " ['UniRef100_UPI00235F2AA4',\n",
       "  '-RHGDISSSNDTVGVAVVNYKMPRLHNREQVLDNAERIAAMIVGMKQGLPGMDLVIFPEYSLQGIMYDPAEMYETAVSIPGDETEIFSRACRKAGTWGVFSLTGERHEEHPRKAPYNTLVLINNKGEVVQKYRKIIPWCPIEGWYPGNQTFVSEGPKGLKISLIICDDGNYPEIWRDCAMKGAELIVRCQGYMYPAKEQQVLMAKAMAWANNCYVAVANAAGFDGVYSYFGHSAIIGFDGRTLGECGEEEMGIQYAQLSLSQIRDARANDQSQNHLFKILHRGYSGLHASGEGDKGLAECPFEFYKTWVNDAEKAREQVQAITRTTSGVAQCPVGKLPYDGLEKQA']]"
      ]
     },
     "execution_count": 9,
     "metadata": {},
     "output_type": "execute_result"
    }
   ],
   "source": [
    "list(msa.get_input(\"GENERATED\"))[0:4]"
   ]
  },
  {
   "cell_type": "markdown",
   "metadata": {},
   "source": [
    "\n",
    "## Prompt \n",
    "\n",
    "We can use this MSA to create a prompt with a sampling regime (see the docs for details):"
   ]
  },
  {
   "cell_type": "code",
   "execution_count": 10,
   "metadata": {},
   "outputs": [],
   "source": [
    "prompt = msa.sample_prompt(num_ensemble_prompts=3, random_seed=42)\n"
   ]
  },
  {
   "cell_type": "code",
   "execution_count": 11,
   "metadata": {},
   "outputs": [
    {
     "data": {
      "text/plain": [
       "'efe5a167-ff2a-49ac-8d04-0134a995a3a1'"
      ]
     },
     "execution_count": 11,
     "metadata": {},
     "output_type": "execute_result"
    }
   ],
   "source": [
    "prompt.id # or prompt.job.job_id"
   ]
  },
  {
   "cell_type": "code",
   "execution_count": 12,
   "metadata": {},
   "outputs": [
    {
     "data": {
      "text/plain": [
       "<_csv.reader at 0x7f0a4d710580>"
      ]
     },
     "execution_count": 12,
     "metadata": {},
     "output_type": "execute_result"
    }
   ],
   "source": [
    "# We can wait, or not, for the prompt to create\n",
    "prompt.wait()"
   ]
  },
  {
   "cell_type": "markdown",
   "metadata": {},
   "source": [
    "As we specified 3 prompts above we will have 3 different prompts all drawn from the same MSA:"
   ]
  },
  {
   "cell_type": "code",
   "execution_count": 13,
   "metadata": {},
   "outputs": [
    {
     "data": {
      "text/plain": [
       "[['UniRef100_A0A194RN05',\n",
       "  'FNTHIIIDNKGDIVQTYRKLHLFDESDFTSPGSHVVTPVDTPVGRIGLEICYDMRFPELSTTLGSMRADILTFPSAFTYTGMAHWHLLLRARAIENQCYVLAAAQTGHNAKRRSYGHALCVDPWGEVLADCEEEGPCYKIAEISLEKLADVRRNMPVFQHR'],\n",
       " ['UniRef100_A0A7W0G9W8',\n",
       "  'GGSAILGPDGAYLAGPLYDEEGILYAELDPTRLAEERQRDPAGHYHRPDV'],\n",
       " ['UniRef100_A0A6F9EEE2',\n",
       "  'RHGDISSSPDTVGVAVVNYKMPRLHTREQVLDNARKIADMIVGMKQGLPGMDLVVFPEYSTMGIMYDPDEMFETACTVPGEETEIFGRACREANTWGVFSLTGERHEEHPRKSPYNTLVLINNRGEIVQKYRKILPWAPIEGWYPGDKTYVSDGPKGLKVSLIICDDGNYPEIWRDCAMKGAELIVRPQGYMYPAKEQQIMMAKTMAWANNVYVAVANATGFDGVYSYFGHSAIIGFDGRTLGECGEEEYGIQYAELSISAIRDARQNWQSQNQLFKLLHRGYTGIYNSGDGDKGLAECPFDFYRTWVLDAKKAQENVEKITRTELTTACCPVGGLPYNGAEREA']]"
      ]
     },
     "execution_count": 13,
     "metadata": {},
     "output_type": "execute_result"
    }
   ],
   "source": [
    "list(prompt.get_prompt(1))[0:3]"
   ]
  },
  {
   "cell_type": "code",
   "execution_count": 14,
   "metadata": {},
   "outputs": [
    {
     "data": {
      "text/plain": [
       "[['UniRef100_A0A7I7RR00', 'FEFYKLLVTDAQKAQEVVESVTRDTVGVADCRVGNLPVE'],\n",
       " ['UniRef100_UPI001C6965F0',\n",
       "  'GLNPSPGALVLGLVQARVPVISEPADLTATAERLAAQLRKAKKAMPSLDLLVFPEYSLNGLDPGTWLDDRLLCDLDGPEITQQAKACAEAGVWGCFSLMERNPGGAPWNSGIIVDASGEIKLYYRKMHPWVPAEPWQPGDGVPVCDGPAGSRLALIICHDGMLPEMAAREA'],\n",
       " ['UniRef100_A0A920N8X4',\n",
       "  'LFNTTCLVGADGVLSKYRKVNPWIPWELHASPDDPFPVVDTELGKLGAAICYDWLFPETIRQLAFNGAEVLIRVSAYMTPPMDWWTLFNRARAAENTAYVVACNQGAAFENYPWPGGSMVVDFDGRVLAQADAGGEKVVVAPIDLAALRAERQRRDMRSHLRSEVH']]"
      ]
     },
     "execution_count": 14,
     "metadata": {},
     "output_type": "execute_result"
    }
   ],
   "source": [
    "list(prompt.get_prompt(2))[0:3]"
   ]
  },
  {
   "cell_type": "code",
   "execution_count": 15,
   "metadata": {},
   "outputs": [
    {
     "data": {
      "text/plain": [
       "[['UniRef100_A0A381V2N6',\n",
       "  'HGDIGSSKDTVGTAVVNYKMPRLHSKAEVLENTRKIAEMLEGMKVGLPGLDLVIFPEYSTHGIMYDEKEMYETASSCPGEETEILGQACRNAKVWGVFSLTGERHEDHPNKAPYNTLILMNDQGEIVQKYRKIMPWVPIEGWYPGNSTYVSDGPKGLKVSLIICDDGNYPEIWRDCAMRGAELIVRCQGYMYPAKEQQVTMAKAMAWANNSYVAVSNATGFDGVYSYFGYSSIIGFDGRTLGACAEEEMGVQYAQLGISAIRDARKNSQSNNHLFKLLHRGYTGMINSGDGDKGVADCPFEFYSKWVNDPESTREMVEAMTRDTIGTEECPIEGIP'],\n",
       " ['UniRef100_A0A3A9FM73',\n",
       "  'ECLSVVGAQYAPIGAVSMTDVDRNLNTLLNFMDRASGAFPGTDLIVAPEACLQGFPQSGWENALLTLEAQQVKALCEKCAELEMWGVFAFLLKSELPGAFTNTAVLVDDKGKIRHTYDKMNPWIPFETSLPGESCTVCDGPKGAKIGLIICADGDYPEIWREAAVNGANVIIRPTHYMDPWQNAWEITNKAGAYFNQVYVVAVNASGENENYSCFGRSMILGPDGNIICEGGNGVPSMIKANLYPGIIDAMRKQAVHSAPMYSYDHRGASSRKYAGTGRGTEDYRSYA'],\n",
       " ['UniRef100_UPI0008305C87',\n",
       "  'RHGDISSSPDTVGVAVVNYKMPRLHTRAEVVDNAKAIAEMVVGMKSGLPGMDLVVFPEYSTQGIMYDEQEMFDTAATIPGQETAIFSEACRKARVWGVFSITGERHEDHPDKPPYNTLVLIDDNGDIVQKYRKILPWCPIEGWYPGDTTHVTVGPKGMKISLIICDDGNYPEIWRDCAMKGAELIVRCQGYMYPAKEQQVLMAKAMAWANNCYVAVANAAGFDGVYSYFGNSALIGFDGRTLGETGEEEYGIQYAQLSVSAIRDARAHDQSQNHLFKLLHRGYTGVHAAGDGAHGVAECPFDFYREWVTDPAKAQHRVESFTRDTVGVANCPVGSLP']]"
      ]
     },
     "execution_count": 15,
     "metadata": {},
     "output_type": "execute_result"
    }
   ],
   "source": [
    "list(prompt.get_prompt(3))[0:3]"
   ]
  },
  {
   "cell_type": "code",
   "execution_count": 16,
   "metadata": {},
   "outputs": [
    {
     "name": "stdout",
     "output_type": "stream",
     "text": [
      "N seqs in prompt1: 45, prompt2: 47 prompt3: 42\n",
      "Seqs found in all 3 prompts: 1 \n"
     ]
    }
   ],
   "source": [
    "prompt1_seqs = [i[1] for i in list(prompt.get_prompt(1))]\n",
    "prompt2_seqs = [i[1] for i in list(prompt.get_prompt(2))]\n",
    "prompt3_seqs = [i[1] for i in list(prompt.get_prompt(3))]\n",
    "\n",
    "print(f\"N seqs in prompt1: {len(prompt1_seqs)}, prompt2: {len(prompt2_seqs)} prompt3: {len(prompt3_seqs)}\") \n",
    "print(f\"Seqs found in all 3 prompts: {len(set(prompt1_seqs) & set(prompt2_seqs)  & set(prompt3_seqs))} \")"
   ]
  },
  {
   "cell_type": "code",
   "execution_count": 17,
   "metadata": {},
   "outputs": [
    {
     "data": {
      "text/plain": [
       "('20015eae-5872-4ad7-aa4a-71844c354c7d',\n",
       " 'efe5a167-ff2a-49ac-8d04-0134a995a3a1')"
      ]
     },
     "execution_count": 17,
     "metadata": {},
     "output_type": "execute_result"
    }
   ],
   "source": [
    "msa.msa_id, prompt.prompt_id"
   ]
  },
  {
   "cell_type": "markdown",
   "metadata": {},
   "source": [
    "## Scoring with PoET\n",
    "\n",
    "We can then use our prompt object with the Poet model from embeddings to access various Poet functions:"
   ]
  },
  {
   "cell_type": "code",
   "execution_count": 18,
   "metadata": {},
   "outputs": [],
   "source": [
    "seqs = [i.encode() for i in dataset.sequence] # prepare seqs from our dataset"
   ]
  },
  {
   "cell_type": "code",
   "execution_count": 19,
   "metadata": {},
   "outputs": [],
   "source": [
    "poet = session.embedding.get_model('poet')"
   ]
  },
  {
   "cell_type": "code",
   "execution_count": 20,
   "metadata": {},
   "outputs": [],
   "source": [
    "scorejob = poet.score(prompt=prompt.prompt_id, sequences=seqs )\n"
   ]
  },
  {
   "cell_type": "code",
   "execution_count": 21,
   "metadata": {},
   "outputs": [
    {
     "data": {
      "text/plain": [
       "('sequence-01',\n",
       " b'WRHGDISSSNDTVGVAVVNYKMPRLHTAAEVLDNARKIAEMIVGMKQGLPGMDLVVFPEYSLQGIMYDPAEMMETAVAIPGEETEIFSRACRKANVWGVFSLTGERHEEHPRKAPYNTLVLIDNNGEIVQKYRKIIPWCPIEGWYPGGQTYVSEGPKGMKISLIICDDGNYPEIWRDCAMKGAELIVRCQGYMYPAKDQQVMMAKAMAWANNCYVAVANAAGFDGVYSYFGHSAIIGFDGRTLGECGEEEMGIQYAQLSLSQIRDARANDQSQNHLFKILHRGYSGLQASGDGDRGLAECPFEFYRTWVTDAEKARENVERLTRSTTGVAQCPVGRLPYEGLEKEA',\n",
       " array([-161.7098999 , -179.46661377, -111.26499939]))"
      ]
     },
     "execution_count": 21,
     "metadata": {},
     "output_type": "execute_result"
    }
   ],
   "source": [
    "score_results = scorejob.wait()\n",
    "score_results[0]"
   ]
  },
  {
   "cell_type": "markdown",
   "metadata": {},
   "source": [
    "## Single site analysis with PoET\n",
    "\n",
    "A similar flow yields a single site mutation analysis of a sequence:"
   ]
  },
  {
   "cell_type": "code",
   "execution_count": 22,
   "metadata": {},
   "outputs": [],
   "source": [
    "sspjob = poet.single_site(prompt=prompt, sequence=\"AAPLAA\".encode())\n"
   ]
  },
  {
   "cell_type": "code",
   "execution_count": 25,
   "metadata": {},
   "outputs": [
    {
     "data": {
      "text/plain": [
       "array([-29.60253906, -30.09863281, -30.48925781])"
      ]
     },
     "execution_count": 25,
     "metadata": {},
     "output_type": "execute_result"
    }
   ],
   "source": [
    "ssp_results = sspjob.wait()\n",
    "ssp_results[b'A1R']"
   ]
  },
  {
   "cell_type": "markdown",
   "metadata": {},
   "source": [
    "## Generate *de novo* sequences\n",
    "\n",
    "Lastly, we can use the generation workflow:"
   ]
  },
  {
   "cell_type": "code",
   "execution_count": 26,
   "metadata": {},
   "outputs": [],
   "source": [
    "genjob  = poet.generate(prompt=prompt.prompt_id, num_samples=10) #make 10 sequences based on our prompt\n"
   ]
  },
  {
   "cell_type": "code",
   "execution_count": 27,
   "metadata": {},
   "outputs": [
    {
     "data": {
      "text/plain": [
       "('generated-sequence-1',\n",
       " b'RHGDISSSPDTVGVAVVNYKMPRLHTREEVLDNCRKIADMIEGMKQGLPGLDLVVFPEYSTQGIMYDRAEMLRTASTVPGVETDILGRACRKHKVWGVFSLTGERHEDHPAKAPYNTLVLINDRGEIVQKYRKILPWTPIEGWYPGDRTYVSKGPKGMKVSLVICDDGNYPEIWRDCAMKGAELIVRPQGYMYPAKDQQVMMARAMAWANNVYVAVVNASGYDGVYSYFGHSAIVGFDGRVLGECGSEEYGAQYAELFVSAIREARANWQAQNHLYKLLHRGYTGTLISGEDPKGDAECQFEFFRDWVLDAERTRANAERITRSSIGTEHCPINNLFED',\n",
       " array([-241.18112183, -265.58514404, -268.01791382]))"
      ]
     },
     "execution_count": 27,
     "metadata": {},
     "output_type": "execute_result"
    }
   ],
   "source": [
    "\n",
    "gen_results = genjob.wait()\n",
    "gen_results[0]"
   ]
  },
  {
   "cell_type": "markdown",
   "metadata": {},
   "source": [
    "## Resuming work"
   ]
  },
  {
   "cell_type": "markdown",
   "metadata": {},
   "source": [
    "You can reload a prompt, MSA or PoET job to resume where you left off:"
   ]
  },
  {
   "cell_type": "code",
   "execution_count": 28,
   "metadata": {},
   "outputs": [
    {
     "data": {
      "text/plain": [
       "MSAJob(status=<JobStatus.SUCCESS: 'SUCCESS'>, job_id='20015eae-5872-4ad7-aa4a-71844c354c7d', job_type=<JobType.align_align: '/align/align'>, created_date=datetime.datetime(2024, 4, 3, 9, 30, 39, 12506), start_date=None, end_date=datetime.datetime(2024, 4, 3, 9, 30, 39, 12838), prerequisite_job_id=None, progress_message=None, progress_counter=None, num_records=None, sequence_length=None, msa_id='20015eae-5872-4ad7-aa4a-71844c354c7d')"
      ]
     },
     "execution_count": 28,
     "metadata": {},
     "output_type": "execute_result"
    }
   ],
   "source": [
    "old_msa = session.load_job(msa.msa_id)\n",
    "old_msa.job"
   ]
  },
  {
   "cell_type": "markdown",
   "metadata": {},
   "source": [
    "The same functionality is present:"
   ]
  },
  {
   "cell_type": "code",
   "execution_count": 29,
   "metadata": {},
   "outputs": [
    {
     "data": {
      "text/plain": [
       "PromptJob(status=<JobStatus.PENDING: 'PENDING'>, job_id='c8e3f9cc-5c39-45a6-8a59-d3e4261bd33c', job_type=<JobType.align_prompt: '/align/prompt'>, created_date=datetime.datetime(2024, 4, 3, 9, 42, 0, 871445), start_date=None, end_date=None, prerequisite_job_id=None, progress_message=None, progress_counter=None, num_records=None, sequence_length=None, msa_id='c8e3f9cc-5c39-45a6-8a59-d3e4261bd33c', prompt_id='c8e3f9cc-5c39-45a6-8a59-d3e4261bd33c')"
      ]
     },
     "execution_count": 29,
     "metadata": {},
     "output_type": "execute_result"
    }
   ],
   "source": [
    "new_prompt = old_msa.sample_prompt(1)\n",
    "new_prompt.job"
   ]
  },
  {
   "cell_type": "code",
   "execution_count": 30,
   "metadata": {},
   "outputs": [
    {
     "data": {
      "text/plain": [
       "PromptJob(status=<JobStatus.SUCCESS: 'SUCCESS'>, job_id='efe5a167-ff2a-49ac-8d04-0134a995a3a1', job_type=<JobType.align_prompt: '/align/prompt'>, created_date=datetime.datetime(2024, 4, 3, 9, 30, 42, 842814), start_date=datetime.datetime(2024, 4, 3, 9, 30, 43, 686853), end_date=datetime.datetime(2024, 4, 3, 9, 30, 52, 26321), prerequisite_job_id=None, progress_message=None, progress_counter=None, num_records=None, sequence_length=None, msa_id='efe5a167-ff2a-49ac-8d04-0134a995a3a1', prompt_id='efe5a167-ff2a-49ac-8d04-0134a995a3a1')"
      ]
     },
     "execution_count": 30,
     "metadata": {},
     "output_type": "execute_result"
    }
   ],
   "source": [
    "oldprompt = session.load_job(prompt.prompt_id)\n",
    "oldprompt.job"
   ]
  },
  {
   "cell_type": "code",
   "execution_count": 32,
   "metadata": {},
   "outputs": [
    {
     "data": {
      "text/plain": [
       "array([-30.65429688, -30.94726562, -31.69726562])"
      ]
     },
     "execution_count": 32,
     "metadata": {},
     "output_type": "execute_result"
    }
   ],
   "source": [
    "old_job = session.load_job(sspjob.job.job_id)\n",
    "old_job.get()[b'A1N']"
   ]
  }
 ],
 "metadata": {
  "kernelspec": {
   "display_name": "py38",
   "language": "python",
   "name": "python3"
  },
  "language_info": {
   "codemirror_mode": {
    "name": "ipython",
    "version": 3
   },
   "file_extension": ".py",
   "mimetype": "text/x-python",
   "name": "python",
   "nbconvert_exporter": "python",
   "pygments_lexer": "ipython3",
   "version": "3.8.16"
  },
  "orig_nbformat": 4
 },
 "nbformat": 4,
 "nbformat_minor": 2
}
