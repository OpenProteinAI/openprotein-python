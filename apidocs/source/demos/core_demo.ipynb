{
 "cells": [
  {
   "cell_type": "code",
   "execution_count": 1,
   "metadata": {},
   "outputs": [],
   "source": [
    "%matplotlib inline"
   ]
  },
  {
   "cell_type": "markdown",
   "metadata": {},
   "source": [
    "# Getting started with sequence-based learning\n",
    "\n",
    "This notebook will briefly cover how to run `assaydata`, `train`, `predict`, `design` workflows. \n",
    "\n",
    "For more information please [read the docs](https://docs.openprotein.ai/)."
   ]
  },
  {
   "cell_type": "code",
   "execution_count": 2,
   "metadata": {},
   "outputs": [],
   "source": [
    "import numpy as np\n",
    "import matplotlib.pyplot as plt\n",
    "import json\n",
    "import pandas as pd\n",
    "import seaborn as sns \n",
    "sns.set() \n"
   ]
  },
  {
   "cell_type": "markdown",
   "metadata": {},
   "source": [
    "## Setup\n",
    "\n",
    "Connect to the OpenProtein backend with your credentials:"
   ]
  },
  {
   "cell_type": "code",
   "execution_count": 3,
   "metadata": {},
   "outputs": [],
   "source": [
    "import openprotein\n",
    "\n",
    "with open('secrets.config', 'r') as f:\n",
    "    config = json.load(f)\n",
    "\n",
    "session = openprotein.connect(username= config['username'], password= config['password']) "
   ]
  },
  {
   "cell_type": "markdown",
   "metadata": {},
   "source": [
    "We will use a small sample of the AMIE PSEAE dataset as a demo, the full data is available on our [website](https://docs.openprotein.ai/walkthroughs/demo-datasets-page.html):"
   ]
  },
  {
   "cell_type": "code",
   "execution_count": 4,
   "metadata": {},
   "outputs": [
    {
     "data": {
      "text/html": [
       "<div>\n",
       "<style scoped>\n",
       "    .dataframe tbody tr th:only-of-type {\n",
       "        vertical-align: middle;\n",
       "    }\n",
       "\n",
       "    .dataframe tbody tr th {\n",
       "        vertical-align: top;\n",
       "    }\n",
       "\n",
       "    .dataframe thead th {\n",
       "        text-align: right;\n",
       "    }\n",
       "</style>\n",
       "<table border=\"1\" class=\"dataframe\">\n",
       "  <thead>\n",
       "    <tr style=\"text-align: right;\">\n",
       "      <th></th>\n",
       "      <th>sequence</th>\n",
       "      <th>isobutyramide_normalized_fitness</th>\n",
       "      <th>acetamide_normalized_fitness</th>\n",
       "      <th>propionamide_normalized_fitness</th>\n",
       "    </tr>\n",
       "  </thead>\n",
       "  <tbody>\n",
       "    <tr>\n",
       "      <th>0</th>\n",
       "      <td>WRHGDISSSNDTVGVAVVNYKMPRLHTAAEVLDNARKIAEMIVGMK...</td>\n",
       "      <td>-0.5174</td>\n",
       "      <td>NaN</td>\n",
       "      <td>NaN</td>\n",
       "    </tr>\n",
       "    <tr>\n",
       "      <th>1</th>\n",
       "      <td>WRHGDISSSNDTVGVAVVNYKMPRLHTAAEVLDNARKIAEMIVGMK...</td>\n",
       "      <td>-0.5154</td>\n",
       "      <td>-2.1514</td>\n",
       "      <td>-1.1457</td>\n",
       "    </tr>\n",
       "  </tbody>\n",
       "</table>\n",
       "</div>"
      ],
      "text/plain": [
       "                                            sequence  \\\n",
       "0  WRHGDISSSNDTVGVAVVNYKMPRLHTAAEVLDNARKIAEMIVGMK...   \n",
       "1  WRHGDISSSNDTVGVAVVNYKMPRLHTAAEVLDNARKIAEMIVGMK...   \n",
       "\n",
       "   isobutyramide_normalized_fitness  acetamide_normalized_fitness  \\\n",
       "0                           -0.5174                           NaN   \n",
       "1                           -0.5154                       -2.1514   \n",
       "\n",
       "   propionamide_normalized_fitness  \n",
       "0                              NaN  \n",
       "1                          -1.1457  "
      ]
     },
     "execution_count": 4,
     "metadata": {},
     "output_type": "execute_result"
    }
   ],
   "source": [
    "dataset = pd.read_csv(\"./data/AMIE_PSEAE.csv\")\n",
    "dataset.head(2)"
   ]
  },
  {
   "cell_type": "markdown",
   "metadata": {},
   "source": [
    "## Data Upload\n",
    "\n",
    "Create the Demo data in the backend to be able to use it with our suite of tools:"
   ]
  },
  {
   "cell_type": "code",
   "execution_count": 5,
   "metadata": {},
   "outputs": [
    {
     "data": {
      "text/plain": [
       "AssayMetadata(assay_name='Dataset Name', assay_description='Dataset description', assay_id='476d6e9b-33ba-410d-aec2-5e3a20e33285', original_filename='assay_data', created_date=datetime.datetime(2024, 4, 9, 2, 4, 37, 973215), num_rows=15, num_entries=41, measurement_names=['isobutyramide_normalized_fitness', 'acetamide_normalized_fitness', 'propionamide_normalized_fitness'], sequence_length=346)"
      ]
     },
     "execution_count": 5,
     "metadata": {},
     "output_type": "execute_result"
    }
   ],
   "source": [
    "# Create\n",
    "assay = session.data.create(dataset, \"Dataset Name\", \"Dataset description\")\n",
    "assay_id = assay.id\n",
    "assay"
   ]
  },
  {
   "cell_type": "markdown",
   "metadata": {},
   "source": [
    "We could also have loaded a job from an old job ID. This will be faster and more efficient for users resuming workflows:"
   ]
  },
  {
   "cell_type": "code",
   "execution_count": 6,
   "metadata": {},
   "outputs": [],
   "source": [
    "assay = session.data.load_assay(assay_id) # can reload job to resume workflows"
   ]
  },
  {
   "cell_type": "code",
   "execution_count": 7,
   "metadata": {},
   "outputs": [
    {
     "data": {
      "text/html": [
       "<div>\n",
       "<style scoped>\n",
       "    .dataframe tbody tr th:only-of-type {\n",
       "        vertical-align: middle;\n",
       "    }\n",
       "\n",
       "    .dataframe tbody tr th {\n",
       "        vertical-align: top;\n",
       "    }\n",
       "\n",
       "    .dataframe thead th {\n",
       "        text-align: right;\n",
       "    }\n",
       "</style>\n",
       "<table border=\"1\" class=\"dataframe\">\n",
       "  <thead>\n",
       "    <tr style=\"text-align: right;\">\n",
       "      <th></th>\n",
       "      <th>sequence</th>\n",
       "      <th>isobutyramide_normalized_fitness</th>\n",
       "      <th>acetamide_normalized_fitness</th>\n",
       "      <th>propionamide_normalized_fitness</th>\n",
       "    </tr>\n",
       "  </thead>\n",
       "  <tbody>\n",
       "    <tr>\n",
       "      <th>0</th>\n",
       "      <td>WRHGDISSSNDTVGVAVVNYKMPRLHTAAEVLDNARKIAEMIVGMK...</td>\n",
       "      <td>-0.5174</td>\n",
       "      <td>None</td>\n",
       "      <td>None</td>\n",
       "    </tr>\n",
       "  </tbody>\n",
       "</table>\n",
       "</div>"
      ],
      "text/plain": [
       "                                            sequence  \\\n",
       "0  WRHGDISSSNDTVGVAVVNYKMPRLHTAAEVLDNARKIAEMIVGMK...   \n",
       "\n",
       "   isobutyramide_normalized_fitness acetamide_normalized_fitness  \\\n",
       "0                           -0.5174                         None   \n",
       "\n",
       "  propionamide_normalized_fitness  \n",
       "0                            None  "
      ]
     },
     "execution_count": 7,
     "metadata": {},
     "output_type": "execute_result"
    }
   ],
   "source": [
    "assay.get_first()"
   ]
  },
  {
   "cell_type": "code",
   "execution_count": 8,
   "metadata": {},
   "outputs": [
    {
     "data": {
      "text/html": [
       "<div>\n",
       "<style scoped>\n",
       "    .dataframe tbody tr th:only-of-type {\n",
       "        vertical-align: middle;\n",
       "    }\n",
       "\n",
       "    .dataframe tbody tr th {\n",
       "        vertical-align: top;\n",
       "    }\n",
       "\n",
       "    .dataframe thead th {\n",
       "        text-align: right;\n",
       "    }\n",
       "</style>\n",
       "<table border=\"1\" class=\"dataframe\">\n",
       "  <thead>\n",
       "    <tr style=\"text-align: right;\">\n",
       "      <th></th>\n",
       "      <th>sequence</th>\n",
       "      <th>isobutyramide_normalized_fitness</th>\n",
       "      <th>acetamide_normalized_fitness</th>\n",
       "      <th>propionamide_normalized_fitness</th>\n",
       "    </tr>\n",
       "  </thead>\n",
       "  <tbody>\n",
       "    <tr>\n",
       "      <th>0</th>\n",
       "      <td>MRHGDISSSNDTVGVAVVNYKMPRLHTAAEVLDNARKWAEMIVGMK...</td>\n",
       "      <td>NaN</td>\n",
       "      <td>NaN</td>\n",
       "      <td>-0.7550</td>\n",
       "    </tr>\n",
       "    <tr>\n",
       "      <th>1</th>\n",
       "      <td>MRHGDISSSNDTVGVAVVNYKMPRLHTAAEVLDNARKYAEMIVGMK...</td>\n",
       "      <td>-0.7448</td>\n",
       "      <td>-1.7992</td>\n",
       "      <td>-0.9711</td>\n",
       "    </tr>\n",
       "  </tbody>\n",
       "</table>\n",
       "</div>"
      ],
      "text/plain": [
       "                                            sequence  \\\n",
       "0  MRHGDISSSNDTVGVAVVNYKMPRLHTAAEVLDNARKWAEMIVGMK...   \n",
       "1  MRHGDISSSNDTVGVAVVNYKMPRLHTAAEVLDNARKYAEMIVGMK...   \n",
       "\n",
       "   isobutyramide_normalized_fitness  acetamide_normalized_fitness  \\\n",
       "0                               NaN                           NaN   \n",
       "1                           -0.7448                       -1.7992   \n",
       "\n",
       "   propionamide_normalized_fitness  \n",
       "0                          -0.7550  \n",
       "1                          -0.9711  "
      ]
     },
     "execution_count": 8,
     "metadata": {},
     "output_type": "execute_result"
    }
   ],
   "source": [
    "assay.get_slice(start=3, end=5)"
   ]
  },
  {
   "cell_type": "code",
   "execution_count": 9,
   "metadata": {},
   "outputs": [
    {
     "data": {
      "text/plain": [
       "346"
      ]
     },
     "execution_count": 9,
     "metadata": {},
     "output_type": "execute_result"
    }
   ],
   "source": [
    "assay.sequence_length"
   ]
  },
  {
   "cell_type": "markdown",
   "metadata": {},
   "source": [
    "## Model training\n",
    "\n",
    "We can use the assay object to create a training job:"
   ]
  },
  {
   "cell_type": "code",
   "execution_count": 10,
   "metadata": {},
   "outputs": [
    {
     "data": {
      "text/plain": [
       "Job(status=<JobStatus.PENDING: 'PENDING'>, job_id='150860c1-d8b0-4804-8914-28409bbcc0fe', job_type='/workflow/train', created_date=datetime.datetime(2024, 4, 9, 2, 4, 38, 309629), start_date=None, end_date=None, prerequisite_job_id='ccad1469-5843-414c-90cd-2f93149df1f3', progress_message=None, progress_counter=None, num_records=None, sequence_length=346)"
      ]
     },
     "execution_count": 10,
     "metadata": {},
     "output_type": "execute_result"
    }
   ],
   "source": [
    "train = session.train.create_training_job(assay,\n",
    "                                          measurement_name=[\"acetamide_normalized_fitness\"],\n",
    "                                          model_name=\"mymodel\") # name the resulting model\n",
    "train_id = train.id\n",
    "train"
   ]
  },
  {
   "cell_type": "code",
   "execution_count": 11,
   "metadata": {},
   "outputs": [
    {
     "data": {
      "text/plain": [
       "<JobStatus.PENDING: 'PENDING'>"
      ]
     },
     "execution_count": 11,
     "metadata": {},
     "output_type": "execute_result"
    }
   ],
   "source": [
    "train.refresh()\n",
    "train.status"
   ]
  },
  {
   "cell_type": "markdown",
   "metadata": {},
   "source": [
    "We can wait for the results before proceeding:"
   ]
  },
  {
   "cell_type": "code",
   "execution_count": 12,
   "metadata": {},
   "outputs": [
    {
     "name": "stderr",
     "output_type": "stream",
     "text": [
      "Waiting: 100%|██████████| 100/100 [01:18<00:00,  1.28it/s, status=SUCCESS]\n"
     ]
    }
   ],
   "source": [
    "results = train.wait(verbose=True)"
   ]
  },
  {
   "cell_type": "code",
   "execution_count": 13,
   "metadata": {},
   "outputs": [
    {
     "data": {
      "image/png": "[encoded data removed]",
      "text/plain": [
       "<Figure size 640x480 with 1 Axes>"
      ]
     },
     "metadata": {},
     "output_type": "display_data"
    }
   ],
   "source": [
    "\n",
    "sns.scatterplot(x=range(len(results[\"acetamide_normalized_fitness\"])), y=results[\"acetamide_normalized_fitness\"] )\n",
    "plt.xlabel(\"Steps\")\n",
    "plt.ylabel(\"Loss\");"
   ]
  },
  {
   "cell_type": "markdown",
   "metadata": {},
   "source": [
    "We can also request a cross-validation job to see the training results in more detail:"
   ]
  },
  {
   "cell_type": "code",
   "execution_count": 14,
   "metadata": {},
   "outputs": [
    {
     "data": {
      "text/plain": [
       "<JobStatus.PENDING: 'PENDING'>"
      ]
     },
     "execution_count": 14,
     "metadata": {},
     "output_type": "execute_result"
    }
   ],
   "source": [
    "cvjob = train.crossvalidate()\n",
    "cvjob.status"
   ]
  },
  {
   "cell_type": "code",
   "execution_count": 15,
   "metadata": {},
   "outputs": [
    {
     "name": "stderr",
     "output_type": "stream",
     "text": [
      "Waiting: 100%|██████████| 100/100 [00:05<00:00, 19.87it/s, status=SUCCESS]\n"
     ]
    }
   ],
   "source": [
    "cvdata = cvjob.wait(verbose=True)"
   ]
  },
  {
   "cell_type": "code",
   "execution_count": 16,
   "metadata": {},
   "outputs": [
    {
     "data": {
      "text/html": [
       "<div>\n",
       "<style scoped>\n",
       "    .dataframe tbody tr th:only-of-type {\n",
       "        vertical-align: middle;\n",
       "    }\n",
       "\n",
       "    .dataframe tbody tr th {\n",
       "        vertical-align: top;\n",
       "    }\n",
       "\n",
       "    .dataframe thead th {\n",
       "        text-align: right;\n",
       "    }\n",
       "</style>\n",
       "<table border=\"1\" class=\"dataframe\">\n",
       "  <thead>\n",
       "    <tr style=\"text-align: right;\">\n",
       "      <th></th>\n",
       "      <th>row_index</th>\n",
       "      <th>sequence</th>\n",
       "      <th>measurement_name</th>\n",
       "      <th>y</th>\n",
       "      <th>y_mu</th>\n",
       "      <th>y_var</th>\n",
       "    </tr>\n",
       "  </thead>\n",
       "  <tbody>\n",
       "    <tr>\n",
       "      <th>0</th>\n",
       "      <td>1</td>\n",
       "      <td>WRHGDISSSNDTVGVAVVNYKMPRLHTAAEVLDNARKIAEMIVGMK...</td>\n",
       "      <td>acetamide_normalized_fitness</td>\n",
       "      <td>-2.1514</td>\n",
       "      <td>-2.150992</td>\n",
       "      <td>0.000373</td>\n",
       "    </tr>\n",
       "    <tr>\n",
       "      <th>1</th>\n",
       "      <td>2</td>\n",
       "      <td>WRHGDISSSNDTVGVAVVNYKMPRLHTAAEVLDNARKIAEMIVGMK...</td>\n",
       "      <td>acetamide_normalized_fitness</td>\n",
       "      <td>-2.1514</td>\n",
       "      <td>-2.150993</td>\n",
       "      <td>0.000373</td>\n",
       "    </tr>\n",
       "    <tr>\n",
       "      <th>2</th>\n",
       "      <td>4</td>\n",
       "      <td>MRHGDISSSNDTVGVAVVNYKMPRLHTAAEVLDNARKYAEMIVGMK...</td>\n",
       "      <td>acetamide_normalized_fitness</td>\n",
       "      <td>-1.7992</td>\n",
       "      <td>-0.757357</td>\n",
       "      <td>0.299005</td>\n",
       "    </tr>\n",
       "    <tr>\n",
       "      <th>3</th>\n",
       "      <td>5</td>\n",
       "      <td>MRHGDISSSNDTVGVAVVNYKMPRLHTAAEVLDNARKPAEMIVGMK...</td>\n",
       "      <td>acetamide_normalized_fitness</td>\n",
       "      <td>-1.6838</td>\n",
       "      <td>-1.446090</td>\n",
       "      <td>0.407005</td>\n",
       "    </tr>\n",
       "    <tr>\n",
       "      <th>4</th>\n",
       "      <td>6</td>\n",
       "      <td>MRHGDISSSNDTVGVAVVNYKMPRLHTAAEVLDNARKMAEMIVGMK...</td>\n",
       "      <td>acetamide_normalized_fitness</td>\n",
       "      <td>-0.1761</td>\n",
       "      <td>-0.607089</td>\n",
       "      <td>0.162582</td>\n",
       "    </tr>\n",
       "  </tbody>\n",
       "</table>\n",
       "</div>"
      ],
      "text/plain": [
       "   row_index                                           sequence  \\\n",
       "0          1  WRHGDISSSNDTVGVAVVNYKMPRLHTAAEVLDNARKIAEMIVGMK...   \n",
       "1          2  WRHGDISSSNDTVGVAVVNYKMPRLHTAAEVLDNARKIAEMIVGMK...   \n",
       "2          4  MRHGDISSSNDTVGVAVVNYKMPRLHTAAEVLDNARKYAEMIVGMK...   \n",
       "3          5  MRHGDISSSNDTVGVAVVNYKMPRLHTAAEVLDNARKPAEMIVGMK...   \n",
       "4          6  MRHGDISSSNDTVGVAVVNYKMPRLHTAAEVLDNARKMAEMIVGMK...   \n",
       "\n",
       "               measurement_name       y      y_mu     y_var  \n",
       "0  acetamide_normalized_fitness -2.1514 -2.150992  0.000373  \n",
       "1  acetamide_normalized_fitness -2.1514 -2.150993  0.000373  \n",
       "2  acetamide_normalized_fitness -1.7992 -0.757357  0.299005  \n",
       "3  acetamide_normalized_fitness -1.6838 -1.446090  0.407005  \n",
       "4  acetamide_normalized_fitness -0.1761 -0.607089  0.162582  "
      ]
     },
     "execution_count": 16,
     "metadata": {},
     "output_type": "execute_result"
    }
   ],
   "source": [
    "cvdata = pd.DataFrame(cvdata)\n",
    "cvdata.head()"
   ]
  },
  {
   "cell_type": "code",
   "execution_count": 17,
   "metadata": {},
   "outputs": [
    {
     "data": {
      "image/png": "[encoded data removed]",
      "text/plain": [
       "<Figure size 640x480 with 1 Axes>"
      ]
     },
     "metadata": {},
     "output_type": "display_data"
    }
   ],
   "source": [
    "\n",
    "sns.regplot(x=cvdata.y.to_list() , y=cvdata.y_mu.to_list() )\n",
    "plt.xlabel(\"Y\")\n",
    "plt.title(\"Cross validation results\")\n",
    "plt.ylabel(\"Y-hat\");"
   ]
  },
  {
   "cell_type": "markdown",
   "metadata": {},
   "source": [
    "We can examine the models associated with a train or assaydata set. These will be identical here but multiple train jobs are possible on a single assaydata:"
   ]
  },
  {
   "cell_type": "markdown",
   "metadata": {},
   "source": [
    "## Sequence predictions\n",
    "\n",
    "We can also predict scores for new sequences using our models trained on our old sequences:"
   ]
  },
  {
   "cell_type": "code",
   "execution_count": 18,
   "metadata": {},
   "outputs": [
    {
     "data": {
      "text/plain": [
       "['STATPFQPLPDQKEGQDIPRFLQETADNVHQMCYMMTLMDAAPSFMCETKHLANCSFYFCMMCMRHKMHVIGTGTYRMGADMHGYNDCQSGYKMFAGSMICALQNPTYVPRSLKWPYTVCVTWKKYVLGDMVVYFMFGLVEWQAWPGKRYHTYDIKQWYRDRGIGRWTCCDLEGCQKSPYYMPFETPMAFDMGHCCGATKHDETKSPDIGWYKHCCKDRLPWLCFLWMSVINMRMMTQAKVFQHMNLHYPYGAQIPLVRMAAWSFMIGGDRPCYMVYHDQMVCQAWQWLWFATDMRYQYYFPLEEHSIMKWYEFLRVSSFRACCRTFCRQKKAYNWIGEKVFWQSW',\n",
       " 'WFTKHANIMHIMRADTYKIWARPEKSCIWDLHMSMCSACSWYYFSDALERAYIGHPLLGMPWGQHIADLSFKYKQVAIWIVTDNISGPRTGCIDAHENTSAKNPLIIKCQPIDGGCGSRCPFMLPGCFTMSFERNDLLCYNFRRVWPTQQWMNLKERASIRMWLPKRNDSQYKMEVHSNNMQMDPSDVLRHYTHSDWAKCPTCKIVKFDDFPFHDGNEPNRHQFHKMVKVRVTDAEEITGVRQWSPMHQEMVRNQGPRVCHQCQDQEAPMNQNPEHYFCTCGVIAPPDSRGCPSQMMFDGCPGRTHAYGGFQDAHGWHYQTRHHKWQYHISTWLHKQDADGDWWWA',\n",
       " 'SLRACPERANHESNLANDVLHPKTQMHHIYHEYARVGKFHKTGGYLMMQKALLKQSRVYGWSMSQTSKACPYWKGTFKLSPEYSSMNNCHFDSGEMWFKLHKNFCGFLDRCFYCVQSEPKEKHITHGCCDQSNNWMKLWGRTWTHINWKRMEAVEMATFDNGEVPAMAIMSFPTLHCWSCCWWYVEEEYQTKKPQKASMNEWYSHPVDGAPGAQMWWLHIQNNFYIGASVGIWTHCCFAFSIDRHFMYWTQRWCHVIWHRLDETHYLTLNHSCVLQAFIEPCKWKPSFGTGHVQGTPDERGNERVLLVVKHNPDEMVHLRFSNAKAKNNVFIYVMHQWNACEGMWK']"
      ]
     },
     "execution_count": 18,
     "metadata": {},
     "output_type": "execute_result"
    }
   ],
   "source": [
    "import random \n",
    "def fakeseq(length=100, amino_acids=\"GAVLIMFWPSTCYNQDEKRH\"):\n",
    "    simulated_protein = \"\"\n",
    "    for i in range(length):\n",
    "        aa = random.choice(amino_acids)\n",
    "        simulated_protein += aa \n",
    "    return simulated_protein\n",
    "\n",
    "# Create some random sequences to predict\n",
    "np.random.seed(111)\n",
    "p_seqs = [fakeseq(assay.sequence_length) for i in range(3)]\n",
    "p_seqs\n"
   ]
  },
  {
   "cell_type": "code",
   "execution_count": 19,
   "metadata": {},
   "outputs": [
    {
     "data": {
      "text/plain": [
       "PredictJob(status=<JobStatus.PENDING: 'PENDING'>, job_id='44658be8-90e4-4fda-9adf-250332de6754', job_type=<JobType.workflow_predict: '/workflow/predict'>, created_date=None, start_date=None, end_date=None, prerequisite_job_id=None, progress_message=None, progress_counter=0, num_records=None, sequence_length=None, result=None)"
      ]
     },
     "execution_count": 19,
     "metadata": {},
     "output_type": "execute_result"
    }
   ],
   "source": [
    "pjob = train.predict(sequences=p_seqs)\n",
    "pjob_id = pjob.id\n",
    "pjob"
   ]
  },
  {
   "cell_type": "code",
   "execution_count": 20,
   "metadata": {},
   "outputs": [
    {
     "name": "stderr",
     "output_type": "stream",
     "text": [
      "Waiting: 100%|██████████| 100/100 [00:21<00:00,  4.76it/s, status=SUCCESS]\n"
     ]
    }
   ],
   "source": [
    "results = pjob.wait(verbose=True)"
   ]
  },
  {
   "cell_type": "code",
   "execution_count": 21,
   "metadata": {},
   "outputs": [
    {
     "data": {
      "text/plain": [
       "{'STATPFQPLPDQKEGQDIPRFLQETADNVHQMCYMMTLMDAAPSFMCETKHLANCSFYFCMMCMRHKMHVIGTGTYRMGADMHGYNDCQSGYKMFAGSMICALQNPTYVPRSLKWPYTVCVTWKKYVLGDMVVYFMFGLVEWQAWPGKRYHTYDIKQWYRDRGIGRWTCCDLEGCQKSPYYMPFETPMAFDMGHCCGATKHDETKSPDIGWYKHCCKDRLPWLCFLWMSVINMRMMTQAKVFQHMNLHYPYGAQIPLVRMAAWSFMIGGDRPCYMVYHDQMVCQAWQWLWFATDMRYQYYFPLEEHSIMKWYEFLRVSSFRACCRTFCRQKKAYNWIGEKVFWQSW': {'mean': -1.4383549690246582,\n",
       "  'variance': 0.40846166014671326},\n",
       " 'WFTKHANIMHIMRADTYKIWARPEKSCIWDLHMSMCSACSWYYFSDALERAYIGHPLLGMPWGQHIADLSFKYKQVAIWIVTDNISGPRTGCIDAHENTSAKNPLIIKCQPIDGGCGSRCPFMLPGCFTMSFERNDLLCYNFRRVWPTQQWMNLKERASIRMWLPKRNDSQYKMEVHSNNMQMDPSDVLRHYTHSDWAKCPTCKIVKFDDFPFHDGNEPNRHQFHKMVKVRVTDAEEITGVRQWSPMHQEMVRNQGPRVCHQCQDQEAPMNQNPEHYFCTCGVIAPPDSRGCPSQMMFDGCPGRTHAYGGFQDAHGWHYQTRHHKWQYHISTWLHKQDADGDWWWA': {'mean': -1.4383549690246582,\n",
       "  'variance': 0.40846166014671326},\n",
       " 'SLRACPERANHESNLANDVLHPKTQMHHIYHEYARVGKFHKTGGYLMMQKALLKQSRVYGWSMSQTSKACPYWKGTFKLSPEYSSMNNCHFDSGEMWFKLHKNFCGFLDRCFYCVQSEPKEKHITHGCCDQSNNWMKLWGRTWTHINWKRMEAVEMATFDNGEVPAMAIMSFPTLHCWSCCWWYVEEEYQTKKPQKASMNEWYSHPVDGAPGAQMWWLHIQNNFYIGASVGIWTHCCFAFSIDRHFMYWTQRWCHVIWHRLDETHYLTLNHSCVLQAFIEPCKWKPSFGTGHVQGTPDERGNERVLLVVKHNPDEMVHLRFSNAKAKNNVFIYVMHQWNACEGMWK': {'mean': -1.4383549690246582,\n",
       "  'variance': 0.40846166014671326}}"
      ]
     },
     "execution_count": 21,
     "metadata": {},
     "output_type": "execute_result"
    }
   ],
   "source": [
    "results['acetamide_normalized_fitness']"
   ]
  },
  {
   "cell_type": "markdown",
   "metadata": {},
   "source": [
    "We can also send a single sequence for single site mutation analysis:"
   ]
  },
  {
   "cell_type": "code",
   "execution_count": 22,
   "metadata": {},
   "outputs": [],
   "source": [
    "sequence = assay.get_first().sequence[0]\n",
    "\n",
    "sspredict = train.predict_single_site(sequence)\n"
   ]
  },
  {
   "cell_type": "code",
   "execution_count": 23,
   "metadata": {},
   "outputs": [
    {
     "data": {
      "text/plain": [
       "PredictSingleSiteJob(status=<JobStatus.PENDING: 'PENDING'>, job_id='d02b1dcd-c54b-4618-8c75-0da93ac64d1a', job_type=<JobType.worflow_predict_single_site: '/workflow/predict/single_site'>, created_date=None, start_date=None, end_date=None, prerequisite_job_id=None, progress_message=None, progress_counter=0, num_records=None, sequence_length=None, result=None)"
      ]
     },
     "execution_count": 23,
     "metadata": {},
     "output_type": "execute_result"
    }
   ],
   "source": [
    "sspredict"
   ]
  },
  {
   "cell_type": "code",
   "execution_count": 24,
   "metadata": {},
   "outputs": [
    {
     "name": "stderr",
     "output_type": "stream",
     "text": [
      "Waiting: 100%|██████████| 100/100 [02:10<00:00,  1.31s/it, status=SUCCESS]\n"
     ]
    },
    {
     "data": {
      "text/plain": [
       "{'acetamide_normalized_fitness': {'1A': {'mean': -1.7794826030731201,\n",
       "   'variance': 0.26442772150039673},\n",
       "  '1R': {'mean': -1.6590332984924316, 'variance': 0.10373711585998535},\n",
       "  '1N': {'mean': -1.6732349395751953, 'variance': 0.11181345582008362},\n",
       "  '1D': {'mean': -1.8756608963012695, 'variance': 0.07105949521064758},\n",
       "  '1C': {'mean': -1.993727445602417, 'variance': 0.032051652669906616},\n",
       "  '1Q': {'mean': -1.8167214393615723, 'variance': 0.1441706120967865},\n",
       "  '1E': {'mean': -1.8260889053344727, 'variance': 0.13430163264274597},\n",
       "  '1G': {'mean': -1.6185598373413086, 'variance': 0.28286102414131165},\n",
       "  '1H': {'mean': -1.7767642736434937, 'variance': 0.08603918552398682},\n",
       "  '1I': {'mean': -1.8753705024719238, 'variance': 0.05880221724510193},\n",
       "  '1L': {'mean': -1.7715799808502197, 'variance': 0.07957172393798828},\n",
       "  '1K': {'mean': -1.6627717018127441, 'variance': 0.10839229822158813},\n",
       "  '1M': {'mean': -0.00047397613525390625, 'variance': 0.0001863539218902588},\n",
       "  '1F': {'mean': -1.8901938199996948, 'variance': 0.05498844385147095},\n",
       "  '1P': {'mean': -1.7599549293518066, 'variance': 0.09633493423461914},\n",
       "  '1S': {'mean': -1.4439477920532227, 'variance': 0.408444881439209},\n",
       "  '1T': {'mean': -1.7595491409301758, 'variance': 0.09276843070983887},\n",
       "  '1W': {'mean': -2.1511964797973633, 'variance': 9.325146675109863e-05},\n",
       "  '1Y': {'mean': -2.062904119491577, 'variance': 0.015890032052993774},\n",
       "  '1V': {'mean': -1.6995875835418701, 'variance': 0.1006917953491211},\n",
       "  '2A': {'mean': -2.1710927486419678, 'variance': 0.0036908090114593506},\n",
       "  '2R': {'mean': -2.1511964797973633, 'variance': 9.325146675109863e-05},\n",
       "  '2N': {'mean': -2.1487464904785156, 'variance': 0.002555936574935913},\n",
       "  '2D': {'mean': -2.156862497329712, 'variance': 0.003920376300811768},\n",
       "  '2C': {'mean': -2.1451008319854736, 'variance': 0.004432648420333862},\n",
       "  '2Q': {'mean': -2.152397394180298, 'variance': 0.0009229779243469238},\n",
       "  '2E': {'mean': -2.152420997619629, 'variance': 0.0016646385192871094},\n",
       "  '2G': {'mean': -2.1610922813415527, 'variance': 0.005591899156570435},\n",
       "  '2H': {'mean': -2.1715519428253174, 'variance': 0.005139857530593872},\n",
       "  '2I': {'mean': -2.149867534637451, 'variance': 0.0074169933795928955},\n",
       "  '2L': {'mean': -2.1572415828704834, 'variance': 0.0036069750785827637},\n",
       "  '2K': {'mean': -2.1252944469451904, 'variance': 0.0021159350872039795},\n",
       "  '2M': {'mean': -2.127723217010498, 'variance': 0.0030149519443511963},\n",
       "  '2F': {'mean': -2.1695384979248047, 'variance': 0.006145507097244263},\n",
       "  '2P': {'mean': -2.1518702507019043, 'variance': 0.005528390407562256},\n",
       "  '2S': {'mean': -2.1331894397735596, 'variance': 0.005079835653305054},\n",
       "  '2T': {'mean': -2.1694815158843994, 'variance': 0.004883766174316406},\n",
       "  '2W': {'mean': -2.1884243488311768, 'variance': 0.009221643209457397},\n",
       "  '2Y': {'mean': -2.1796154975891113, 'variance': 0.009063959121704102},\n",
       "  '2V': {'mean': -2.164551258087158, 'variance': 0.007073312997817993},\n",
       "  '3A': {'mean': -2.130664110183716, 'variance': 0.0025659501552581787},\n",
       "  '3R': {'mean': -2.093970775604248, 'variance': 0.007247358560562134},\n",
       "  '3N': {'mean': -2.1290581226348877, 'variance': 0.0022049248218536377},\n",
       "  '3D': {'mean': -2.147104024887085, 'variance': 0.0020695626735687256},\n",
       "  '3C': {'mean': -2.124629020690918, 'variance': 0.0027192234992980957},\n",
       "  '3Q': {'mean': -2.1008453369140625, 'variance': 0.00634610652923584},\n",
       "  '3E': {'mean': -2.111293315887451, 'variance': 0.005238652229309082},\n",
       "  '3G': {'mean': -2.1379144191741943, 'variance': 0.0019585788249969482},\n",
       "  '3H': {'mean': -2.1511964797973633, 'variance': 9.325146675109863e-05},\n",
       "  '3I': {'mean': -2.110104560852051, 'variance': 0.005064040422439575},\n",
       "  '3L': {'mean': -2.1168479919433594, 'variance': 0.0033156275749206543},\n",
       "  '3K': {'mean': -2.072004795074463, 'variance': 0.011263787746429443},\n",
       "  '3M': {'mean': -2.0456953048706055, 'variance': 0.01564478874206543},\n",
       "  '3F': {'mean': -2.149428367614746, 'variance': 0.0016902387142181396},\n",
       "  '3P': {'mean': -2.1143312454223633, 'variance': 0.005050033330917358},\n",
       "  '3S': {'mean': -2.095770835876465, 'variance': 0.007748275995254517},\n",
       "  '3T': {'mean': -2.138551712036133, 'variance': 0.0017851591110229492},\n",
       "  '3W': {'mean': -2.1691648960113525, 'variance': 0.004468768835067749},\n",
       "  '3Y': {'mean': -2.167498826980591, 'variance': 0.0031601786613464355},\n",
       "  '3V': {'mean': -2.1300501823425293, 'variance': 0.0030653774738311768},\n",
       "  '4A': {'mean': -2.1036009788513184, 'variance': 0.00579264760017395},\n",
       "  '4R': {'mean': -2.0553531646728516, 'variance': 0.015032470226287842},\n",
       "  '4N': {'mean': -2.086409091949463, 'variance': 0.0088711678981781},\n",
       "  '4D': {'mean': -2.067413806915283, 'variance': 0.015786707401275635},\n",
       "  '4C': {'mean': -2.119636058807373, 'variance': 0.004154384136199951},\n",
       "  '4Q': {'mean': -2.056765556335449, 'variance': 0.01691320538520813},\n",
       "  '4E': {'mean': -2.0660297870635986, 'variance': 0.015081733465194702},\n",
       "  '4G': {'mean': -2.1511964797973633, 'variance': 9.325146675109863e-05},\n",
       "  '4H': {'mean': -2.095916271209717, 'variance': 0.007823437452316284},\n",
       "  '4I': {'mean': -2.0918822288513184, 'variance': 0.009984642267227173},\n",
       "  '4L': {'mean': -2.093198776245117, 'variance': 0.00788220763206482},\n",
       "  '4K': {'mean': -2.0406062602996826, 'variance': 0.018660366535186768},\n",
       "  '4M': {'mean': -2.0194849967956543, 'variance': 0.025734037160873413},\n",
       "  '4F': {'mean': -2.1308677196502686, 'variance': 0.006913721561431885},\n",
       "  '4P': {'mean': -2.120615243911743, 'variance': 0.006705522537231445},\n",
       "  '4S': {'mean': -2.0666444301605225, 'variance': 0.013856828212738037},\n",
       "  '4T': {'mean': -2.1016194820404053, 'variance': 0.0065084099769592285},\n",
       "  '4W': {'mean': -2.1595215797424316, 'variance': 0.004752367734909058},\n",
       "  '4Y': {'mean': -2.1459436416625977, 'variance': 0.004442781209945679},\n",
       "  '4V': {'mean': -2.1109490394592285, 'variance': 0.007069110870361328},\n",
       "  '5A': {'mean': -2.1236188411712646, 'variance': 0.005603283643722534},\n",
       "  '5R': {'mean': -2.0944390296936035, 'variance': 0.008480072021484375},\n",
       "  '5N': {'mean': -2.1244070529937744, 'variance': 0.0029096603393554688},\n",
       "  '5D': {'mean': -2.1511964797973633, 'variance': 9.325146675109863e-05},\n",
       "  '5C': {'mean': -2.1018571853637695, 'variance': 0.0067393481731414795},\n",
       "  '5Q': {'mean': -2.110637664794922, 'variance': 0.005906194448471069},\n",
       "  '5E': {'mean': -2.12331485748291, 'variance': 0.002843320369720459},\n",
       "  '5G': {'mean': -2.1304702758789062, 'variance': 0.003148972988128662},\n",
       "  '5H': {'mean': -2.1146702766418457, 'variance': 0.004717439413070679},\n",
       "  '5I': {'mean': -2.107020854949951, 'variance': 0.006456702947616577},\n",
       "  '5L': {'mean': -2.097207546234131, 'variance': 0.007214605808258057},\n",
       "  '5K': {'mean': -2.0934276580810547, 'variance': 0.007903426885604858},\n",
       "  '5M': {'mean': -2.0577750205993652, 'variance': 0.015340954065322876},\n",
       "  '5F': {'mean': -2.1251649856567383, 'variance': 0.005109697580337524},\n",
       "  '5P': {'mean': -2.104527473449707, 'variance': 0.007869809865951538},\n",
       "  '5S': {'mean': -2.0815000534057617, 'variance': 0.010935097932815552},\n",
       "  '5T': {'mean': -2.1256566047668457, 'variance': 0.004666447639465332},\n",
       "  '5W': {'mean': -2.1260993480682373, 'variance': 0.005119889974594116},\n",
       "  '5Y': {'mean': -2.1462044715881348, 'variance': 0.00347331166267395},\n",
       "  '5V': {'mean': -2.1258902549743652, 'variance': 0.004987090826034546},\n",
       "  '6A': {'mean': -2.0634818077087402, 'variance': 0.025562196969985962},\n",
       "  '6R': {'mean': -2.0315909385681152, 'variance': 0.027294844388961792},\n",
       "  '6N': {'mean': -2.027311086654663, 'variance': 0.03822067379951477},\n",
       "  '6D': {'mean': -2.025195598602295, 'variance': 0.039578258991241455},\n",
       "  '6C': {'mean': -2.089750051498413, 'variance': 0.010980844497680664},\n",
       "  '6Q': {'mean': -2.0297536849975586, 'variance': 0.03281334042549133},\n",
       "  '6E': {'mean': -2.027738571166992, 'variance': 0.03313261270523071},\n",
       "  '6G': {'mean': -2.0870795249938965, 'variance': 0.023823261260986328},\n",
       "  '6H': {'mean': -2.0483012199401855, 'variance': 0.023790866136550903},\n",
       "  '6I': {'mean': -2.1511964797973633, 'variance': 9.325146675109863e-05},\n",
       "  '6L': {'mean': -2.1274936199188232, 'variance': 0.0033548474311828613},\n",
       "  '6K': {'mean': -2.0219225883483887, 'variance': 0.03168556094169617},\n",
       "  '6M': {'mean': -1.9796804189682007, 'variance': 0.03324788808822632},\n",
       "  '6F': {'mean': -2.1447038650512695, 'variance': 0.0007090270519256592},\n",
       "  '6P': {'mean': -2.1089963912963867, 'variance': 0.02154010534286499},\n",
       "  '6S': {'mean': -2.023824691772461, 'variance': 0.057639747858047485},\n",
       "  '6T': {'mean': -2.0890679359436035, 'variance': 0.01744741201400757},\n",
       "  '6W': {'mean': -2.159085273742676, 'variance': 0.0036981403827667236},\n",
       "  '6Y': {'mean': -2.1532769203186035, 'variance': 0.0014555156230926514},\n",
       "  '6V': {'mean': -2.137603282928467, 'variance': 0.0022909939289093018},\n",
       "  '7A': {'mean': -2.175449848175049, 'variance': 0.005919724702835083},\n",
       "  '7R': {'mean': -2.156541347503662, 'variance': 0.0009942352771759033},\n",
       "  '7N': {'mean': -2.158878803253174, 'variance': 0.0006105005741119385},\n",
       "  '7D': {'mean': -2.1627907752990723, 'variance': 0.0008204877376556396},\n",
       "  '7C': {'mean': -2.162599563598633, 'variance': 0.0069959163665771484},\n",
       "  '7Q': {'mean': -2.164547920227051, 'variance': 0.0014109015464782715},\n",
       "  '7E': {'mean': -2.161099433898926, 'variance': 0.0006937682628631592},\n",
       "  '7G': {'mean': -2.163379669189453, 'variance': 0.0016334354877471924},\n",
       "  '7H': {'mean': -2.16618013381958, 'variance': 0.003927469253540039},\n",
       "  '7I': {'mean': -2.1766271591186523, 'variance': 0.01248970627784729},\n",
       "  '7L': {'mean': -2.177396059036255, 'variance': 0.008144676685333252},\n",
       "  '7K': {'mean': -2.148479700088501, 'variance': 0.000675588846206665},\n",
       "  '7M': {'mean': -2.0911221504211426, 'variance': 0.01011967658996582},\n",
       "  '7F': {'mean': -2.180178165435791, 'variance': 0.012121111154556274},\n",
       "  '7P': {'mean': -2.1664116382598877, 'variance': 0.0026631951332092285},\n",
       "  '7S': {'mean': -2.1511964797973633, 'variance': 9.325146675109863e-05},\n",
       "  '7T': {'mean': -2.1740195751190186, 'variance': 0.003967255353927612},\n",
       "  '7W': {'mean': -2.191390037536621, 'variance': 0.01685953140258789},\n",
       "  '7Y': {'mean': -2.1849284172058105, 'variance': 0.014267951250076294},\n",
       "  '7V': {'mean': -2.1791133880615234, 'variance': 0.0100974440574646},\n",
       "  '8A': {'mean': -2.1720352172851562, 'variance': 0.0042559802532196045},\n",
       "  '8R': {'mean': -2.1442723274230957, 'variance': 0.0009166598320007324},\n",
       "  '8N': {'mean': -2.151949882507324, 'variance': 0.0003775954246520996},\n",
       "  '8D': {'mean': -2.14406156539917, 'variance': 0.00089225172996521},\n",
       "  '8C': {'mean': -2.1625897884368896, 'variance': 0.009619027376174927},\n",
       "  '8Q': {'mean': -2.1502864360809326, 'variance': 0.0004672408103942871},\n",
       "  '8E': {'mean': -2.140896797180176, 'variance': 0.0013017356395721436},\n",
       "  '8G': {'mean': -2.1606035232543945, 'variance': 0.002859354019165039},\n",
       "  '8H': {'mean': -2.159893035888672, 'variance': 0.002426654100418091},\n",
       "  '8I': {'mean': -2.1673240661621094, 'variance': 0.009373962879180908},\n",
       "  '8L': {'mean': -2.1685383319854736, 'variance': 0.0055474042892456055},\n",
       "  '8K': {'mean': -2.137000560760498, 'variance': 0.0008067190647125244},\n",
       "  '8M': {'mean': -2.0977113246917725, 'variance': 0.008266240358352661},\n",
       "  '8F': {'mean': -2.176264524459839, 'variance': 0.011020541191101074},\n",
       "  '8P': {'mean': -2.1670050621032715, 'variance': 0.0019903182983398438},\n",
       "  '8S': {'mean': -2.1511964797973633, 'variance': 9.325146675109863e-05},\n",
       "  '8T': {'mean': -2.1731090545654297, 'variance': 0.003727436065673828},\n",
       "  '8W': {'mean': -2.183159828186035, 'variance': 0.00985303521156311},\n",
       "  '8Y': {'mean': -2.180088996887207, 'variance': 0.01238200068473816},\n",
       "  '8V': {'mean': -2.170290470123291, 'variance': 0.007569104433059692},\n",
       "  '9A': {'mean': -2.1619479656219482, 'variance': 0.001689910888671875},\n",
       "  '9R': {'mean': -2.144376277923584, 'variance': 0.0015912950038909912},\n",
       "  '9N': {'mean': -2.146944522857666, 'variance': 0.0005571842193603516},\n",
       "  '9D': {'mean': -2.138082265853882, 'variance': 0.001979321241378784},\n",
       "  '9C': {'mean': -2.162468433380127, 'variance': 0.006927669048309326},\n",
       "  '9Q': {'mean': -2.144049644470215, 'variance': 0.0007996559143066406},\n",
       "  '9E': {'mean': -2.1361145973205566, 'variance': 0.0025281012058258057},\n",
       "  '9G': {'mean': -2.1522672176361084, 'variance': 0.00273054838180542},\n",
       "  '9H': {'mean': -2.1613054275512695, 'variance': 0.002839207649230957},\n",
       "  '9I': {'mean': -2.162721633911133, 'variance': 0.005562335252761841},\n",
       "  '9L': {'mean': -2.1584203243255615, 'variance': 0.0028299689292907715},\n",
       "  '9K': {'mean': -2.1320879459381104, 'variance': 0.0017833411693572998},\n",
       "  '9M': {'mean': -2.1400415897369385, 'variance': 0.005785226821899414},\n",
       "  '9F': {'mean': -2.175264835357666, 'variance': 0.007637649774551392},\n",
       "  '9P': {'mean': -2.15836238861084, 'variance': 0.0006557106971740723},\n",
       "  '9S': {'mean': -2.1511964797973633, 'variance': 9.325146675109863e-05},\n",
       "  '9T': {'mean': -2.171905517578125, 'variance': 0.002697378396987915},\n",
       "  '9W': {'mean': -2.179182529449463, 'variance': 0.008581310510635376},\n",
       "  '9Y': {'mean': -2.178699016571045, 'variance': 0.011133939027786255},\n",
       "  '9V': {'mean': -2.16738224029541, 'variance': 0.0050484538078308105},\n",
       "  '10A': {'mean': -2.138547897338867, 'variance': 0.0029716193675994873},\n",
       "  '10R': {'mean': -2.1244969367980957, 'variance': 0.003336668014526367},\n",
       "  '10N': {'mean': -2.1511964797973633, 'variance': 9.325146675109863e-05},\n",
       "  '10D': {'mean': -2.139721632003784, 'variance': 0.0014950037002563477},\n",
       "  '10C': {'mean': -2.1506271362304688, 'variance': 0.002815753221511841},\n",
       "  '10Q': {'mean': -2.140223979949951, 'variance': 0.0016020238399505615},\n",
       "  '10E': {'mean': -2.135753631591797, 'variance': 0.0017306208610534668},\n",
       "  '10G': {'mean': -2.1360838413238525, 'variance': 0.0017948746681213379},\n",
       "  '10H': {'mean': -2.150324583053589, 'variance': 0.0008081197738647461},\n",
       "  '10I': {'mean': -2.139464855194092, 'variance': 0.002539515495300293},\n",
       "  '10L': {'mean': -2.1341614723205566, 'variance': 0.0021035075187683105},\n",
       "  '10K': {'mean': -2.1235127449035645, 'variance': 0.002672642469406128},\n",
       "  '10M': {'mean': -2.114764928817749, 'variance': 0.005093663930892944},\n",
       "  '10F': {'mean': -2.157021999359131, 'variance': 0.0037544965744018555},\n",
       "  '10P': {'mean': -2.143787384033203, 'variance': 0.0009500384330749512},\n",
       "  '10S': {'mean': -2.1325201988220215, 'variance': 0.0012992322444915771},\n",
       "  '10T': {'mean': -2.153263568878174, 'variance': 0.0007302761077880859},\n",
       "  '10W': {'mean': -2.1633682250976562, 'variance': 0.004315078258514404},\n",
       "  '10Y': {'mean': -2.169036626815796, 'variance': 0.006732046604156494},\n",
       "  '10V': {'mean': -2.141664981842041, 'variance': 0.002096503973007202},\n",
       "  '11A': {'mean': -2.1471805572509766, 'variance': 0.004999995231628418},\n",
       "  '11R': {'mean': -2.089205503463745, 'variance': 0.009827971458435059},\n",
       "  '11N': {'mean': -2.1411337852478027, 'variance': 0.003067582845687866},\n",
       "  '11D': {'mean': -2.1511964797973633, 'variance': 9.325146675109863e-05},\n",
       "  '11C': {'mean': -2.154010772705078, 'variance': 0.012907594442367554},\n",
       "  '11Q': {'mean': -2.120438814163208, 'variance': 0.0045278966426849365},\n",
       "  '11E': {'mean': -2.129746913909912, 'variance': 0.001846909523010254},\n",
       "  '11G': {'mean': -2.1577024459838867, 'variance': 0.003572404384613037},\n",
       "  '11H': {'mean': -2.149200439453125, 'variance': 0.006916135549545288},\n",
       "  '11I': {'mean': -2.1328701972961426, 'variance': 0.021235883235931396},\n",
       "  '11L': {'mean': -2.130615711212158, 'variance': 0.016298532485961914},\n",
       "  '11K': {'mean': -2.0805258750915527, 'variance': 0.011429756879806519},\n",
       "  '11M': {'mean': -2.1232006549835205, 'variance': 0.01090306043624878},\n",
       "  '11F': {'mean': -2.1536595821380615, 'variance': 0.021499305963516235},\n",
       "  '11P': {'mean': -2.1496896743774414, 'variance': 0.007294297218322754},\n",
       "  '11S': {'mean': -2.134413957595825, 'variance': 0.005628317594528198},\n",
       "  '11T': {'mean': -2.151534080505371, 'variance': 0.007530808448791504},\n",
       "  '11W': {'mean': -2.164726972579956, 'variance': 0.019705504179000854},\n",
       "  '11Y': {'mean': -2.158555507659912, 'variance': 0.021527111530303955},\n",
       "  '11V': {'mean': -2.1422393321990967, 'variance': 0.01640915870666504},\n",
       "  '12A': {'mean': -2.1443135738372803, 'variance': 0.0017286241054534912},\n",
       "  '12R': {'mean': -2.1249008178710938, 'variance': 0.003428548574447632},\n",
       "  '12N': {'mean': -2.144840717315674, 'variance': 0.001769423484802246},\n",
       "  '12D': {'mean': -2.1271181106567383, 'variance': 0.0060005784034729},\n",
       "  '12C': {'mean': -2.1501760482788086, 'variance': 0.004114419221878052},\n",
       "  '12Q': {'mean': -2.138664722442627, 'variance': 0.0024032294750213623},\n",
       "  '12E': {'mean': -2.122851610183716, 'variance': 0.005806624889373779},\n",
       "  '12G': {'mean': -2.1566195487976074, 'variance': 0.004310041666030884},\n",
       "  '12H': {'mean': -2.154646635055542, 'variance': 0.0015488266944885254},\n",
       "  '12I': {'mean': -2.1302008628845215, 'variance': 0.002903759479522705},\n",
       "  '12L': {'mean': -2.135880708694458, 'variance': 0.0019038021564483643},\n",
       "  '12K': {'mean': -2.112391471862793, 'variance': 0.005078017711639404},\n",
       "  '12M': {'mean': -2.121288776397705, 'variance': 0.00358659029006958},\n",
       "  '12F': {'mean': -2.1573846340179443, 'variance': 0.0021771788597106934},\n",
       "  '12P': {'mean': -2.1274254322052, 'variance': 0.004209309816360474},\n",
       "  '12S': {'mean': -2.139298915863037, 'variance': 0.001337289810180664},\n",
       "  '12T': {'mean': -2.1511964797973633, 'variance': 9.325146675109863e-05},\n",
       "  '12W': {'mean': -2.1540517807006836, 'variance': 0.003226548433303833},\n",
       "  '12Y': {'mean': -2.1624112129211426, 'variance': 0.0029963254928588867},\n",
       "  '12V': {'mean': -2.1427862644195557, 'variance': 0.0013286471366882324},\n",
       "  '13A': {'mean': -2.1451010704040527, 'variance': 0.0035042762756347656},\n",
       "  '13R': {'mean': -2.111889362335205, 'variance': 0.009716331958770752},\n",
       "  '13N': {'mean': -2.124640941619873, 'variance': 0.01225253939628601},\n",
       "  '13D': {'mean': -2.0994296073913574, 'variance': 0.019580304622650146},\n",
       "  '13C': {'mean': -2.1569342613220215, 'variance': 0.0019131004810333252},\n",
       "  '13Q': {'mean': -2.1217098236083984, 'variance': 0.010953754186630249},\n",
       "  '13E': {'mean': -2.08420991897583, 'variance': 0.022005021572113037},\n",
       "  '13G': {'mean': -2.1398637294769287, 'variance': 0.011906594038009644},\n",
       "  '13H': {'mean': -2.144658088684082, 'variance': 0.00470009446144104},\n",
       "  '13I': {'mean': -2.143298864364624, 'variance': 0.000541001558303833},\n",
       "  '13L': {'mean': -2.1396915912628174, 'variance': 0.0011575818061828613},\n",
       "  '13K': {'mean': -2.0961921215057373, 'variance': 0.014705866575241089},\n",
       "  '13M': {'mean': -2.14731764793396, 'variance': 0.0015712976455688477},\n",
       "  '13F': {'mean': -2.165428638458252, 'variance': 0.002685070037841797},\n",
       "  '13P': {'mean': -2.1149661540985107, 'variance': 0.011553168296813965},\n",
       "  '13S': {'mean': -2.1139307022094727, 'variance': 0.01227298378944397},\n",
       "  '13T': {'mean': -2.15440034866333, 'variance': 0.005201488733291626},\n",
       "  '13W': {'mean': -2.1635334491729736, 'variance': 0.005877584218978882},\n",
       "  '13Y': {'mean': -2.171414613723755, 'variance': 0.004809379577636719},\n",
       "  '13V': {'mean': -2.1511964797973633, 'variance': 9.325146675109863e-05},\n",
       "  '14A': {'mean': -2.095271110534668, 'variance': 0.006654918193817139},\n",
       "  '14R': {'mean': -1.96345055103302, 'variance': 0.0537644624710083},\n",
       "  '14N': {'mean': -2.05783748626709, 'variance': 0.020801693201065063},\n",
       "  '14D': {'mean': -2.036592483520508, 'variance': 0.024344205856323242},\n",
       "  '14C': {'mean': -2.091465473175049, 'variance': 0.007313638925552368},\n",
       "  '14Q': {'mean': -2.0319061279296875, 'variance': 0.02792501449584961},\n",
       "  '14E': {'mean': -2.0020108222961426, 'variance': 0.03449288010597229},\n",
       "  '14G': {'mean': -2.1511964797973633, 'variance': 9.325146675109863e-05},\n",
       "  '14H': {'mean': -2.0685181617736816, 'variance': 0.01604461669921875},\n",
       "  '14I': {'mean': -2.0825984477996826, 'variance': 0.010531783103942871},\n",
       "  '14L': {'mean': -2.081267833709717, 'variance': 0.011751532554626465},\n",
       "  '14K': {'mean': -1.9429880380630493, 'variance': 0.061959415674209595},\n",
       "  '14M': {'mean': -2.0754599571228027, 'variance': 0.010882079601287842},\n",
       "  '14F': {'mean': -2.128438711166382, 'variance': 0.00430026650428772},\n",
       "  '14P': {'mean': -2.0424280166625977, 'variance': 0.03220260143280029},\n",
       "  '14S': {'mean': -2.041712999343872, 'variance': 0.022689133882522583},\n",
       "  '14T': {'mean': -2.0315685272216797, 'variance': 0.02629798650741577},\n",
       "  '14W': {'mean': -2.1283867359161377, 'variance': 0.005468487739562988},\n",
       "  '14Y': {'mean': -2.1291418075561523, 'variance': 0.00535544753074646},\n",
       "  '14V': {'mean': -2.093352794647217, 'variance': 0.011148989200592041},\n",
       "  '15A': {'mean': -2.15763258934021, 'variance': 0.004721134901046753},\n",
       "  '15R': {'mean': -2.124683380126953, 'variance': 0.012263208627700806},\n",
       "  '15N': {'mean': -2.1350910663604736, 'variance': 0.018525540828704834},\n",
       "  '15D': {'mean': -2.0804479122161865, 'variance': 0.036730170249938965},\n",
       "  '15C': {'mean': -2.16005539894104, 'variance': 0.0015791654586791992},\n",
       "  '15Q': {'mean': -2.135768413543701, 'variance': 0.014672845602035522},\n",
       "  '15E': {'mean': -2.094451904296875, 'variance': 0.028783440589904785},\n",
       "  '15G': {'mean': -2.1459336280822754, 'variance': 0.022299766540527344},\n",
       "  '15H': {'mean': -2.149568796157837, 'variance': 0.011189848184585571},\n",
       "  '15I': {'mean': -2.133727788925171, 'variance': 0.0009781122207641602},\n",
       "  '15L': {'mean': -2.146620988845825, 'variance': 0.0005436837673187256},\n",
       "  '15K': {'mean': -2.095228672027588, 'variance': 0.022583752870559692},\n",
       "  '15M': {'mean': -2.1553120613098145, 'variance': 0.0012005865573883057},\n",
       "  '15F': {'mean': -2.1660351753234863, 'variance': 0.0018747150897979736},\n",
       "  '15P': {'mean': -2.1096534729003906, 'variance': 0.024947047233581543},\n",
       "  '15S': {'mean': -2.1357412338256836, 'variance': 0.015545308589935303},\n",
       "  '15T': {'mean': -2.1553187370300293, 'variance': 0.007608473300933838},\n",
       "  '15W': {'mean': -2.1730804443359375, 'variance': 0.007661789655685425},\n",
       "  '15Y': {'mean': -2.1761884689331055, 'variance': 0.0074506402015686035},\n",
       "  '15V': {'mean': -2.1511964797973633, 'variance': 9.325146675109863e-05},\n",
       "  '16A': {'mean': -2.1511964797973633, 'variance': 9.325146675109863e-05},\n",
       "  '16R': {'mean': -2.0983400344848633, 'variance': 0.01723504066467285},\n",
       "  '16N': {'mean': -2.1497035026550293, 'variance': 0.003952831029891968},\n",
       "  '16D': {'mean': -2.1240484714508057, 'variance': 0.01599159836769104},\n",
       "  '16C': {'mean': -2.151773452758789, 'variance': 0.0006697773933410645},\n",
       "  '16Q': {'mean': -2.137812376022339, 'variance': 0.0037560462951660156},\n",
       "  '16E': {'mean': -2.1138367652893066, 'variance': 0.016055643558502197},\n",
       "  '16G': {'mean': -2.1553854942321777, 'variance': 0.0021442174911499023},\n",
       "  '16H': {'mean': -2.14673113822937, 'variance': 0.003446042537689209},\n",
       "  '16I': {'mean': -2.143892288208008, 'variance': 0.006344497203826904},\n",
       "  '16L': {'mean': -2.1415185928344727, 'variance': 0.004570871591567993},\n",
       "  '16K': {'mean': -2.0802597999572754, 'variance': 0.022822678089141846},\n",
       "  '16M': {'mean': -2.153909683227539, 'variance': 0.002200007438659668},\n",
       "  '16F': {'mean': -2.16133189201355, 'variance': 0.007835537195205688},\n",
       "  '16P': {'mean': -2.129849433898926, 'variance': 0.028519660234451294},\n",
       "  '16S': {'mean': -2.1436328887939453, 'variance': 0.0018915235996246338},\n",
       "  '16T': {'mean': -2.1471190452575684, 'variance': 0.0014807581901550293},\n",
       "  '16W': {'mean': -2.170626640319824, 'variance': 0.011362403631210327},\n",
       "  '16Y': {'mean': -2.1713104248046875, 'variance': 0.005998373031616211},\n",
       "  '16V': {'mean': -2.152510166168213, 'variance': 0.003975331783294678},\n",
       "  '17A': {'mean': -2.158811569213867, 'variance': 0.0031043291091918945},\n",
       "  '17R': {'mean': -2.140547513961792, 'variance': 0.020536214113235474},\n",
       "  '17N': {'mean': -2.1399497985839844, 'variance': 0.018262356519699097},\n",
       "  '17D': {'mean': -2.1131997108459473, 'variance': 0.04144620895385742},\n",
       "  '17C': {'mean': -2.1578564643859863, 'variance': 0.001540154218673706},\n",
       "  '17Q': {'mean': -2.1422462463378906, 'variance': 0.021909892559051514},\n",
       "  '17E': {'mean': -2.1234545707702637, 'variance': 0.03360635042190552},\n",
       "  '17G': {'mean': -2.1475319862365723, 'variance': 0.01715761423110962},\n",
       "  '17H': {'mean': -2.1565752029418945, 'variance': 0.016928136348724365},\n",
       "  '17I': {'mean': -2.147570848464966, 'variance': 0.0006364285945892334},\n",
       "  '17L': {'mean': -2.157668113708496, 'variance': 0.0007869601249694824},\n",
       "  '17K': {'mean': -2.1257166862487793, 'variance': 0.027267634868621826},\n",
       "  '17M': {'mean': -2.1633315086364746, 'variance': 0.002147108316421509},\n",
       "  '17F': {'mean': -2.1681737899780273, 'variance': 0.002450704574584961},\n",
       "  '17P': {'mean': -2.115601062774658, 'variance': 0.044661879539489746},\n",
       "  '17S': {'mean': -2.150458574295044, 'variance': 0.014363646507263184},\n",
       "  '17T': {'mean': -2.1651835441589355, 'variance': 0.009652942419052124},\n",
       "  '17W': {'mean': -2.177339553833008, 'variance': 0.01432904601097107},\n",
       "  '17Y': {'mean': -2.1805286407470703, 'variance': 0.011038243770599365},\n",
       "  '17V': {'mean': -2.1511964797973633, 'variance': 9.325146675109863e-05},\n",
       "  '18A': {'mean': -2.148949146270752, 'variance': 0.0019699037075042725},\n",
       "  '18R': {'mean': -2.1172752380371094, 'variance': 0.029446899890899658},\n",
       "  '18N': {'mean': -2.1467971801757812, 'variance': 0.02375948429107666},\n",
       "  '18D': {'mean': -2.117720127105713, 'variance': 0.038176923990249634},\n",
       "  '18C': {'mean': -2.1492342948913574, 'variance': 0.002362161874771118},\n",
       "  '18Q': {'mean': -2.1358284950256348, 'variance': 0.017048418521881104},\n",
       "  '18E': {'mean': -2.109714984893799, 'variance': 0.03423580527305603},\n",
       "  '18G': {'mean': -2.1409056186676025, 'variance': 0.012065201997756958},\n",
       "  '18H': {'mean': -2.141709089279175, 'variance': 0.016413480043411255},\n",
       "  '18I': {'mean': -2.1460392475128174, 'variance': 0.0005154311656951904},\n",
       "  '18L': {'mean': -2.1456003189086914, 'variance': 0.0008206069469451904},\n",
       "  '18K': {'mean': -2.1070518493652344, 'variance': 0.03185516595840454},\n",
       "  '18M': {'mean': -2.1504909992218018, 'variance': 0.001866370439529419},\n",
       "  '18F': {'mean': -2.156365394592285, 'variance': 0.0018521249294281006},\n",
       "  '18P': {'mean': -2.1207504272460938, 'variance': 0.038339316844940186},\n",
       "  '18S': {'mean': -2.13871431350708, 'variance': 0.012059807777404785},\n",
       "  '18T': {'mean': -2.1512207984924316, 'variance': 0.007195264101028442},\n",
       "  '18W': {'mean': -2.152362108230591, 'variance': 0.00849837064743042},\n",
       "  '18Y': {'mean': -2.162916660308838, 'variance': 0.007020801305770874},\n",
       "  '18V': {'mean': -2.1511964797973633, 'variance': 9.325146675109863e-05},\n",
       "  '19A': {'mean': -2.1271286010742188, 'variance': 0.005245625972747803},\n",
       "  '19R': {'mean': -2.120978355407715, 'variance': 0.005118370056152344},\n",
       "  '19N': {'mean': -2.1511964797973633, 'variance': 9.325146675109863e-05},\n",
       "  '19D': {'mean': -2.1363511085510254, 'variance': 0.004299640655517578},\n",
       "  '19C': {'mean': -2.121483087539673, 'variance': 0.006197333335876465},\n",
       "  '19Q': {'mean': -2.116116762161255, 'variance': 0.0038359761238098145},\n",
       "  '19E': {'mean': -2.1078760623931885, 'variance': 0.005885779857635498},\n",
       "  '19G': {'mean': -2.1280250549316406, 'variance': 0.006102144718170166},\n",
       "  '19H': {'mean': -2.1232900619506836, 'variance': 0.0024163126945495605},\n",
       "  '19I': {'mean': -2.0951180458068848, 'variance': 0.012409389019012451},\n",
       "  '19L': {'mean': -2.121852159500122, 'variance': 0.008782923221588135},\n",
       "  '19K': {'mean': -2.119875431060791, 'variance': 0.004911839962005615},\n",
       "  '19M': {'mean': -2.132657051086426, 'variance': 0.004603773355484009},\n",
       "  '19F': {'mean': -2.1386032104492188, 'variance': 0.007712990045547485},\n",
       "  '19P': {'mean': -2.1475796699523926, 'variance': 0.006973385810852051},\n",
       "  '19S': {'mean': -2.1263513565063477, 'variance': 0.004095882177352905},\n",
       "  '19T': {'mean': -2.1269118785858154, 'variance': 0.004892945289611816},\n",
       "  '19W': {'mean': -2.1483678817749023, 'variance': 0.007618576288223267},\n",
       "  '19Y': {'mean': -2.150942325592041, 'variance': 0.006024688482284546},\n",
       "  '19V': {'mean': -2.094122886657715, 'variance': 0.012487977743148804},\n",
       "  '20A': {'mean': -2.137509346008301, 'variance': 0.005835920572280884},\n",
       "  '20R': {'mean': -2.1224770545959473, 'variance': 0.02028071880340576},\n",
       "  '20N': {'mean': -2.140324354171753, 'variance': 0.01832100749015808},\n",
       "  '20D': {'mean': -2.1237854957580566, 'variance': 0.029027491807937622},\n",
       "  '20C': {'mean': -2.1287646293640137, 'variance': 0.013403654098510742},\n",
       "  '20Q': {'mean': -2.1259372234344482, 'variance': 0.01597827672958374},\n",
       "  '20E': {'mean': -2.1223902702331543, 'variance': 0.025683283805847168},\n",
       "  '20G': {'mean': -2.1246140003204346, 'variance': 0.042169153690338135},\n",
       "  '20H': {'mean': -2.137871503829956, 'variance': 0.006966322660446167},\n",
       "  '20I': {'mean': -2.081139326095581, 'variance': 0.010070353746414185},\n",
       "  '20L': {'mean': -2.1008265018463135, 'variance': 0.006757080554962158},\n",
       "  '20K': {'mean': -2.122114896774292, 'variance': 0.02697676420211792},\n",
       "  '20M': {'mean': -2.116010904312134, 'variance': 0.004232823848724365},\n",
       "  '20F': {'mean': -2.1162853240966797, 'variance': 0.003715425729751587},\n",
       "  '20P': {'mean': -2.139185905456543, 'variance': 0.021452277898788452},\n",
       "  '20S': {'mean': -2.1412317752838135, 'variance': 0.011082500219345093},\n",
       "  '20T': {'mean': -2.1410529613494873, 'variance': 0.00590553879737854},\n",
       "  '20W': {'mean': -2.130962371826172, 'variance': 0.0043510496616363525},\n",
       "  '20Y': {'mean': -2.1511964797973633, 'variance': 9.325146675109863e-05},\n",
       "  '20V': {'mean': -2.094280242919922, 'variance': 0.007878214120864868},\n",
       "  '21A': {'mean': -2.1449904441833496, 'variance': 0.008550882339477539},\n",
       "  '21R': {'mean': -2.1461617946624756, 'variance': 0.0008699297904968262},\n",
       "  '21N': {'mean': -2.117229700088501, 'variance': 0.014485597610473633},\n",
       "  '21D': {'mean': -2.134206533432007, 'variance': 0.003288835287094116},\n",
       "  '21C': {'mean': -2.1381568908691406, 'variance': 0.00679701566696167},\n",
       "  '21Q': {'mean': -2.1190104484558105, 'variance': 0.011552095413208008},\n",
       "  '21E': {'mean': -2.131652593612671, 'variance': 0.004454165697097778},\n",
       "  '21G': {'mean': -2.127413749694824, 'variance': 0.011222511529922485},\n",
       "  '21H': {'mean': -2.118030548095703, 'variance': 0.008293181657791138},\n",
       "  '21I': {'mean': -2.144503116607666, 'variance': 0.005071908235549927},\n",
       "  '21L': {'mean': -2.1462409496307373, 'variance': 0.004651278257369995},\n",
       "  '21K': {'mean': -2.1511964797973633, 'variance': 9.325146675109863e-05},\n",
       "  '21M': {'mean': -2.1485533714294434, 'variance': 0.004520446062088013},\n",
       "  '21F': {'mean': -2.146306037902832, 'variance': 0.003912508487701416},\n",
       "  '21P': {'mean': -2.148632287979126, 'variance': 0.0033486783504486084},\n",
       "  '21S': {'mean': -2.139586925506592, 'variance': 0.0032497644424438477},\n",
       "  '21T': {'mean': -2.1582162380218506, 'variance': 0.0032078325748443604},\n",
       "  '21W': {'mean': -2.152395009994507, 'variance': 0.008100628852844238},\n",
       "  '21Y': {'mean': -2.1427927017211914, 'variance': 0.0052385032176971436},\n",
       "  '21V': {'mean': -2.1506667137145996, 'variance': 0.004919588565826416},\n",
       "  '22A': {'mean': -2.141843318939209, 'variance': 0.0031861066818237305},\n",
       "  '22R': {'mean': -2.1314611434936523, 'variance': 0.007047295570373535},\n",
       "  '22N': {'mean': -2.158196449279785, 'variance': 0.010674327611923218},\n",
       "  '22D': {'mean': -2.160888195037842, 'variance': 0.013258039951324463},\n",
       "  '22C': {'mean': -2.1339004039764404, 'variance': 0.024725615978240967},\n",
       "  '22Q': {'mean': -2.141838312149048, 'variance': 0.005848616361618042},\n",
       "  '22E': {'mean': -2.144711494445801, 'variance': 0.007573992013931274},\n",
       "  '22G': {'mean': -2.128214120864868, 'variance': 0.016914963722229004},\n",
       "  '22H': {'mean': -2.1529550552368164, 'variance': 0.006038308143615723},\n",
       "  '22I': {'mean': -2.1526331901550293, 'variance': 0.0013040006160736084},\n",
       "  '22L': {'mean': -2.1554784774780273, 'variance': 0.0013229548931121826},\n",
       "  '22K': {'mean': -2.133429765701294, 'variance': 0.009099632501602173},\n",
       "  '22M': {'mean': -2.1511964797973633, 'variance': 9.325146675109863e-05},\n",
       "  '22F': {'mean': -2.159027338027954, 'variance': 0.0012886524200439453},\n",
       "  '22P': {'mean': -2.134018898010254, 'variance': 0.005879342555999756},\n",
       "  '22S': {'mean': -2.1386518478393555, 'variance': 0.00609201192855835},\n",
       "  '22T': {'mean': -2.147498607635498, 'variance': 0.004764348268508911},\n",
       "  '22W': {'mean': -2.1581432819366455, 'variance': 0.006328850984573364},\n",
       "  '22Y': {'mean': -2.1696090698242188, 'variance': 0.002772510051727295},\n",
       "  '22V': {'mean': -2.156355619430542, 'variance': 0.0016780495643615723},\n",
       "  '23A': {'mean': -2.1230082511901855, 'variance': 0.011587083339691162},\n",
       "  '23R': {'mean': -2.0957562923431396, 'variance': 0.0188654363155365},\n",
       "  '23N': {'mean': -2.120867967605591, 'variance': 0.013219684362411499},\n",
       "  '23D': {'mean': -2.1313159465789795, 'variance': 0.012974649667739868},\n",
       "  '23C': {'mean': -2.083484172821045, 'variance': 0.01934105157852173},\n",
       "  '23Q': {'mean': -2.1082000732421875, 'variance': 0.01827201247215271},\n",
       "  '23E': {'mean': -2.1164488792419434, 'variance': 0.018766731023788452},\n",
       "  '23G': {'mean': -2.124039649963379, 'variance': 0.021700352430343628},\n",
       "  '23H': {'mean': -2.0973868370056152, 'variance': 0.01437467336654663},\n",
       "  '23I': {'mean': -2.0831704139709473, 'variance': 0.028459638357162476},\n",
       "  '23L': {'mean': -2.111196994781494, 'variance': 0.01373302936553955},\n",
       "  '23K': {'mean': -2.101470947265625, 'variance': 0.025233447551727295},\n",
       "  '23M': {'mean': -2.1190929412841797, 'variance': 0.010354548692703247},\n",
       "  '23F': {'mean': -2.1151514053344727, 'variance': 0.00987619161605835},\n",
       "  '23P': {'mean': -2.1511964797973633, 'variance': 9.325146675109863e-05},\n",
       "  '23S': {'mean': -2.114307403564453, 'variance': 0.011181443929672241},\n",
       "  '23T': {'mean': -2.1203458309173584, 'variance': 0.010746419429779053},\n",
       "  '23W': {'mean': -2.1173973083496094, 'variance': 0.011993706226348877},\n",
       "  '23Y': {'mean': -2.12591552734375, 'variance': 0.008421093225479126},\n",
       "  '23V': {'mean': -2.0948047637939453, 'variance': 0.021675586700439453},\n",
       "  '24A': {'mean': -2.1357102394104004, 'variance': 0.004515975713729858},\n",
       "  '24R': {'mean': -2.1511964797973633, 'variance': 9.325146675109863e-05},\n",
       "  '24N': {'mean': -2.1493704319000244, 'variance': 0.00360947847366333},\n",
       "  '24D': {'mean': -2.1538074016571045, 'variance': 0.005360424518585205},\n",
       "  '24C': {'mean': -2.0977985858917236, 'variance': 0.01689833402633667},\n",
       "  '24Q': {'mean': -2.1518068313598633, 'variance': 0.00215303897857666},\n",
       "  '24E': {'mean': -2.1612050533294678, 'variance': 0.0031885504722595215},\n",
       "  '24G': {'mean': -2.1489992141723633, 'variance': 0.0054531097412109375},\n",
       "  '24H': {'mean': -2.125826358795166, 'variance': 0.007268637418746948},\n",
       "  '24I': {'mean': -2.1032371520996094, 'variance': 0.02982354164123535},\n",
       "  '24L': {'mean': -2.112814426422119, 'variance': 0.02013075351715088},\n",
       "  '24K': {'mean': -2.1605818271636963, 'variance': 0.0012113749980926514},\n",
       "  '24M': {'mean': -2.1163744926452637, 'variance': 0.013834506273269653},\n",
       "  '24F': {'mean': -2.1072187423706055, 'variance': 0.0209043025970459},\n",
       "  '24P': {'mean': -2.157907247543335, 'variance': 0.003735274076461792},\n",
       "  '24S': {'mean': -2.1356234550476074, 'variance': 0.0034800469875335693},\n",
       "  '24T': {'mean': -2.144845724105835, 'variance': 0.004775375127792358},\n",
       "  '24W': {'mean': -2.1034202575683594, 'variance': 0.029463857412338257},\n",
       "  '24Y': {'mean': -2.129880428314209, 'variance': 0.01212453842163086},\n",
       "  '24V': {'mean': -2.1180450916290283, 'variance': 0.020629316568374634},\n",
       "  '25A': {'mean': -2.1581192016601562, 'variance': 0.012121915817260742},\n",
       "  '25R': {'mean': -2.147378921508789, 'variance': 0.008315473794937134},\n",
       "  '25N': {'mean': -2.1669840812683105, 'variance': 0.013160556554794312},\n",
       "  '25D': {'mean': -2.1685895919799805, 'variance': 0.018931567668914795},\n",
       "  '25C': {'mean': -2.1440482139587402, 'variance': 0.005134612321853638},\n",
       "  '25Q': {'mean': -2.1590747833251953, 'variance': 0.011070877313613892},\n",
       "  '25E': {'mean': -2.1639020442962646, 'variance': 0.019924283027648926},\n",
       "  '25G': {'mean': -2.151515007019043, 'variance': 0.011667102575302124},\n",
       "  '25H': {'mean': -2.157510280609131, 'variance': 0.00602385401725769},\n",
       "  '25I': {'mean': -2.1490986347198486, 'variance': 0.0010311603546142578},\n",
       "  '25L': {'mean': -2.1511964797973633, 'variance': 9.325146675109863e-05},\n",
       "  '25K': {'mean': -2.1554229259490967, 'variance': 0.015100091695785522},\n",
       "  '25M': {'mean': -2.153522491455078, 'variance': 0.002096205949783325},\n",
       "  '25F': {'mean': -2.1576342582702637, 'variance': 0.0015467405319213867},\n",
       "  '25P': {'mean': -2.167524576187134, 'variance': 0.013926118612289429},\n",
       "  '25S': {'mean': -2.1528491973876953, 'variance': 0.00829663872718811},\n",
       "  '25T': {'mean': -2.1620707511901855, 'variance': 0.00947675108909607},\n",
       "  '25W': {'mean': -2.1576390266418457, 'variance': 0.004807114601135254},\n",
       "  '25Y': {'mean': -2.167377471923828, 'variance': 0.0035389959812164307},\n",
       "  '25V': {'mean': -2.161019802093506, 'variance': 0.0018177926540374756},\n",
       "  '26A': {'mean': -2.148794174194336, 'variance': 0.0032409727573394775},\n",
       "  '26R': {'mean': -2.148625373840332, 'variance': 0.005060315132141113},\n",
       "  '26N': {'mean': -2.1512937545776367, 'variance': 0.001063704490661621},\n",
       "  '26D': {'mean': -2.1580092906951904, 'variance': 0.004072427749633789},\n",
       "  '26C': {'mean': -2.119044780731201, 'variance': 0.004335254430770874},\n",
       "  '26Q': {'mean': -2.1616098880767822, 'variance': 0.004179179668426514},\n",
       "  '26E': {'mean': -2.1618571281433105, 'variance': 0.008915364742279053},\n",
       "  '26G': {'mean': -2.135503053665161, 'variance': 0.005921065807342529},\n",
       "  '26H': {'mean': -2.1511964797973633, 'variance': 9.325146675109863e-05},\n",
       "  '26I': {'mean': -2.0972461700439453, 'variance': 0.01694825291633606},\n",
       "  '26L': {'mean': -2.129096508026123, 'variance': 0.005098819732666016},\n",
       "  '26K': {'mean': -2.15885329246521, 'variance': 0.009839236736297607},\n",
       "  '26M': {'mean': -2.1408612728118896, 'variance': 0.005075544118881226},\n",
       "  '26F': {'mean': -2.1266307830810547, 'variance': 0.009530574083328247},\n",
       "  '26P': {'mean': -2.1682188510894775, 'variance': 0.009379208087921143},\n",
       "  '26S': {'mean': -2.144876480102539, 'variance': 0.0009663701057434082},\n",
       "  '26T': {'mean': -2.152632713317871, 'variance': 0.0012909173965454102},\n",
       "  '26W': {'mean': -2.1428635120391846, 'variance': 0.009415119886398315},\n",
       "  '26Y': {'mean': -2.151000499725342, 'variance': 0.004706680774688721},\n",
       "  '26V': {'mean': -2.1114251613616943, 'variance': 0.01080244779586792},\n",
       "  '27A': {'mean': -2.019698143005371, 'variance': 0.09093266725540161},\n",
       "  '27R': {'mean': -2.029600143432617, 'variance': 0.07793176174163818},\n",
       "  '27N': {'mean': -2.129855155944824, 'variance': 0.009189218282699585},\n",
       "  '27D': {'mean': -2.129425048828125, 'variance': 0.010279417037963867},\n",
       "  '27C': {'mean': -1.9970855712890625, 'variance': 0.09603452682495117},\n",
       "  '27Q': {'mean': -2.056520938873291, 'variance': 0.06368586421012878},\n",
       "  '27E': {'mean': -2.0817360877990723, 'variance': 0.055995285511016846},\n",
       "  '27G': {'mean': -2.0533061027526855, 'variance': 0.0677112340927124},\n",
       "  '27H': {'mean': -2.0334668159484863, 'variance': 0.07243025302886963},\n",
       "  '27I': {'mean': -1.9191104173660278, 'variance': 0.16712363064289093},\n",
       "  '27L': {'mean': -1.971252679824829, 'variance': 0.12745827436447144},\n",
       "  '27K': {'mean': -2.0444302558898926, 'variance': 0.07672813534736633},\n",
       "  '27M': {'mean': -1.9816430807113647, 'variance': 0.1088796854019165},\n",
       "  '27F': {'mean': -1.962517499923706, 'variance': 0.1396484375},\n",
       "  '27P': {'mean': -2.079928398132324, 'variance': 0.05314430594444275},\n",
       "  '27S': {'mean': -2.139148712158203, 'variance': 0.0021479129791259766},\n",
       "  '27T': {'mean': -2.1511964797973633, 'variance': 9.325146675109863e-05},\n",
       "  '27W': {'mean': -1.9747776985168457, 'variance': 0.13314607739448547},\n",
       "  '27Y': {'mean': -2.0134735107421875, 'variance': 0.10555028915405273},\n",
       "  '27V': {'mean': -1.9429250955581665, 'variance': 0.1524718999862671},\n",
       "  '28A': {'mean': -2.1511964797973633, 'variance': 9.325146675109863e-05},\n",
       "  '28R': {'mean': -2.1586809158325195, 'variance': 0.006489574909210205},\n",
       "  '28N': {'mean': -2.13718843460083, 'variance': 0.023835211992263794},\n",
       "  '28D': {'mean': -2.163649082183838, 'variance': 0.015792250633239746},\n",
       "  '28C': {'mean': -2.1129050254821777, 'variance': 0.01905551552772522},\n",
       "  '28Q': {'mean': -2.1691651344299316, 'variance': 0.0054212212562561035},\n",
       "  '28E': {'mean': -2.172457218170166, 'variance': 0.007754236459732056},\n",
       "  '28G': {'mean': -2.067676305770874, 'variance': 0.06980207562446594},\n",
       "  '28H': {'mean': -2.137185573577881, 'variance': 0.00957876443862915},\n",
       "  '28I': {'mean': -2.119037389755249, 'variance': 0.02100461721420288},\n",
       "  '28L': {'mean': -2.131955623626709, 'variance': 0.016418159008026123},\n",
       "  '28K': {'mean': -2.165266990661621, 'variance': 0.006841868162155151},\n",
       "  '28M': {'mean': -2.138047933578491, 'variance': 0.006772905588150024},\n",
       "  '28F': {'mean': -2.1339640617370605, 'variance': 0.014086693525314331},\n",
       "  '28P': {'mean': -2.1717426776885986, 'variance': 0.00958821177482605},\n",
       "  '28S': {'mean': -2.1382391452789307, 'variance': 0.013191312551498413},\n",
       "  '28T': {'mean': -2.1543381214141846, 'variance': 0.004040151834487915},\n",
       "  '28W': {'mean': -2.1389400959014893, 'variance': 0.0274946391582489},\n",
       "  '28Y': {'mean': -2.156320571899414, 'variance': 0.0060460567474365234},\n",
       "  '28V': {'mean': -2.1365532875061035, 'variance': 0.00894811749458313},\n",
       "  '29A': {'mean': -2.1511964797973633, 'variance': 9.325146675109863e-05},\n",
       "  '29R': {'mean': -2.144106388092041, 'variance': 0.007828474044799805},\n",
       "  '29N': {'mean': -2.1289854049682617, 'variance': 0.02216285467147827},\n",
       "  '29D': {'mean': -2.1618356704711914, 'variance': 0.006152987480163574},\n",
       "  '29C': {'mean': -2.0131301879882812, 'variance': 0.09544965624809265},\n",
       "  '29Q': {'mean': -2.163461685180664, 'variance': 0.026782482862472534},\n",
       "  '29E': {'mean': -2.1641478538513184, 'variance': 0.02111363410949707},\n",
       "  '29G': {'mean': -2.062922477722168, 'variance': 0.058647722005844116},\n",
       "  '29H': {'mean': -2.102344512939453, 'variance': 0.03337496519088745},\n",
       "  '29I': {'mean': -2.0197715759277344, 'variance': 0.10411855578422546},\n",
       "  '29L': {'mean': -2.0720486640930176, 'variance': 0.061002135276794434},\n",
       "  '29K': {'mean': -2.160651683807373, 'variance': 0.013383418321609497},\n",
       "  '29M': {'mean': -2.0785090923309326, 'variance': 0.05018329620361328},\n",
       "  '29F': {'mean': -2.0171613693237305, 'variance': 0.10962733626365662},\n",
       "  '29P': {'mean': -2.126781940460205, 'variance': 0.040914326906204224},\n",
       "  '29S': {'mean': -2.1376943588256836, 'variance': 0.011764466762542725},\n",
       "  '29T': {'mean': -2.1280243396759033, 'variance': 0.023014426231384277},\n",
       "  '29W': {'mean': -2.026158094406128, 'variance': 0.1044950783252716},\n",
       "  '29Y': {'mean': -2.04685115814209, 'variance': 0.09051084518432617},\n",
       "  '29V': {'mean': -2.062138795852661, 'variance': 0.06604927778244019},\n",
       "  '30A': {'mean': -1.9974364042282104, 'variance': 0.12041842937469482},\n",
       "  '30R': {'mean': -1.9706789255142212, 'variance': 0.12977483868598938},\n",
       "  '30N': {'mean': -1.9649120569229126, 'variance': 0.1457848846912384},\n",
       "  '30D': {'mean': -2.0868234634399414, 'variance': 0.038135647773742676},\n",
       "  '30C': {'mean': -1.844144582748413, 'variance': 0.24252384901046753},\n",
       "  '30Q': {'mean': -2.125211715698242, 'variance': 0.014127373695373535},\n",
       "  '30E': {'mean': -2.1511964797973633, 'variance': 9.325146675109863e-05},\n",
       "  '30G': {'mean': -1.9494664669036865, 'variance': 0.16553573310375214},\n",
       "  '30H': {'mean': -1.9688992500305176, 'variance': 0.1471717357635498},\n",
       "  '30I': {'mean': -1.8181631565093994, 'variance': 0.2712593078613281},\n",
       "  '30L': {'mean': -1.8779014348983765, 'variance': 0.2282772958278656},\n",
       "  '30K': {'mean': -2.0254578590393066, 'variance': 0.0905228853225708},\n",
       "  '30M': {'mean': -1.9605283737182617, 'variance': 0.16007907688617706},\n",
       "  '30F': {'mean': -1.8530998229980469, 'variance': 0.24970407783985138},\n",
       "  '30P': {'mean': -1.8253281116485596, 'variance': 0.2633615732192993},\n",
       "  '30S': {'mean': -1.974528431892395, 'variance': 0.13351291418075562},\n",
       "  '30T': {'mean': -1.9743616580963135, 'variance': 0.14213663339614868},\n",
       "  '30W': {'mean': -1.925930380821228, 'variance': 0.19578394293785095},\n",
       "  '30Y': {'mean': -1.9191863536834717, 'variance': 0.20215870440006256},\n",
       "  '30V': {'mean': -1.841580867767334, 'variance': 0.25541025400161743},\n",
       "  '31A': {'mean': -2.1470820903778076, 'variance': 0.012247860431671143},\n",
       "  '31R': {'mean': -2.0638601779937744, 'variance': 0.07327857613563538},\n",
       "  '31N': {'mean': -2.0365591049194336, 'variance': 0.11013025045394897},\n",
       "  '31D': {'mean': -2.010509967803955, 'variance': 0.13796395063400269},\n",
       "  '31C': {'mean': -2.1351351737976074, 'variance': 0.00967147946357727},\n",
       "  '31Q': {'mean': -2.1011457443237305, 'variance': 0.051722824573516846},\n",
       "  '31E': {'mean': -2.046186685562134, 'variance': 0.09633958339691162},\n",
       "  '31G': {'mean': -2.0399558544158936, 'variance': 0.10253313183784485},\n",
       "  '31H': {'mean': -2.0634920597076416, 'variance': 0.0741381049156189},\n",
       "  '31I': {'mean': -2.137402057647705, 'variance': 0.0029045045375823975},\n",
       "  '31L': {'mean': -2.1435012817382812, 'variance': 0.0033163130283355713},\n",
       "  '31K': {'mean': -2.0355381965637207, 'variance': 0.10160472989082336},\n",
       "  '31M': {'mean': -2.1396589279174805, 'variance': 0.0025648772716522217},\n",
       "  '31F': {'mean': -2.1451287269592285, 'variance': 0.00666576623916626},\n",
       "  '31P': {'mean': -1.844965934753418, 'variance': 0.2492169886827469},\n",
       "  '31S': {'mean': -2.048802137374878, 'variance': 0.0865735113620758},\n",
       "  '31T': {'mean': -2.0949158668518066, 'variance': 0.04514583945274353},\n",
       "  '31W': {'mean': -2.098982572555542, 'variance': 0.043206095695495605},\n",
       "  '31Y': {'mean': -2.1369128227233887, 'variance': 0.019428879022598267},\n",
       "  '31V': {'mean': -2.1511964797973633, 'variance': 9.325146675109863e-05},\n",
       "  '32A': {'mean': -2.111860990524292, 'variance': 0.03511551022529602},\n",
       "  '32R': {'mean': -2.118081569671631, 'variance': 0.040627241134643555},\n",
       "  '32N': {'mean': -1.989511489868164, 'variance': 0.15165114402770996},\n",
       "  '32D': {'mean': -1.9672966003417969, 'variance': 0.17124450206756592},\n",
       "  '32C': {'mean': -2.0533499717712402, 'variance': 0.07491722702980042},\n",
       "  '32Q': {'mean': -2.102848529815674, 'variance': 0.06274926662445068},\n",
       "  '32E': {'mean': -2.0980141162872314, 'variance': 0.06335142254829407},\n",
       "  '32G': {'mean': -1.8615950345993042, 'variance': 0.24035455286502838},\n",
       "  '32H': {'mean': -2.059974193572998, 'variance': 0.08576208353042603},\n",
       "  '32I': {'mean': -2.146393299102783, 'variance': 0.0017788708209991455},\n",
       "  '32L': {'mean': -2.1511964797973633, 'variance': 9.325146675109863e-05},\n",
       "  '32K': {'mean': -2.0862791538238525, 'variance': 0.07219401001930237},\n",
       "  '32M': {'mean': -2.132051944732666, 'variance': 0.013993024826049805},\n",
       "  '32F': {'mean': -2.1154141426086426, 'variance': 0.03223574161529541},\n",
       "  '32P': {'mean': -1.8439054489135742, 'variance': 0.2665706276893616},\n",
       "  '32S': {'mean': -1.9531912803649902, 'variance': 0.16806578636169434},\n",
       "  '32T': {'mean': -1.9904826879501343, 'variance': 0.14146575331687927},\n",
       "  '32W': {'mean': -2.102092742919922, 'variance': 0.052704840898513794},\n",
       "  '32Y': {'mean': -2.1194589138031006, 'variance': 0.0393909215927124},\n",
       "  '32V': {'mean': -2.142716407775879, 'variance': 0.008590936660766602},\n",
       "  '33A': {'mean': -2.1417770385742188, 'variance': 0.014895319938659668},\n",
       "  '33R': {'mean': -2.1002867221832275, 'variance': 0.032419681549072266},\n",
       "  '33N': {'mean': -2.1180686950683594, 'variance': 0.024370253086090088},\n",
       "  '33D': {'mean': -2.1511964797973633, 'variance': 9.325146675109863e-05},\n",
       "  '33C': {'mean': -1.992842674255371, 'variance': 0.1253294050693512},\n",
       "  '33Q': {'mean': -2.144663095474243, 'variance': 0.010050028562545776},\n",
       "  '33E': {'mean': -2.1458234786987305, 'variance': 0.020805448293685913},\n",
       "  '33G': {'mean': -2.0010385513305664, 'variance': 0.10828876495361328},\n",
       "  '33H': {'mean': -2.0866243839263916, 'variance': 0.041533857583999634},\n",
       "  '33I': {'mean': -2.029491901397705, 'variance': 0.1068556010723114},\n",
       "  '33L': {'mean': -2.0383901596069336, 'variance': 0.09173393249511719},\n",
       "  '33K': {'mean': -2.1239254474639893, 'variance': 0.023914992809295654},\n",
       "  '33M': {'mean': -2.042184352874756, 'variance': 0.07975605130195618},\n",
       "  '33F': {'mean': -1.9716819524765015, 'variance': 0.16112273931503296},\n",
       "  '33P': {'mean': -1.9059226512908936, 'variance': 0.22384294867515564},\n",
       "  '33S': {'mean': -2.1141881942749023, 'variance': 0.026943892240524292},\n",
       "  '33T': {'mean': -2.1055822372436523, 'variance': 0.04088529944419861},\n",
       "  '33W': {'mean': -1.9696543216705322, 'variance': 0.16094136238098145},\n",
       "  '33Y': {'mean': -2.0228424072265625, 'variance': 0.12340626120567322},\n",
       "  '33V': {'mean': -2.0667529106140137, 'variance': 0.07434353232383728},\n",
       "  '34A': {'mean': -2.0905768871307373, 'variance': 0.06991821527481079},\n",
       "  '34R': {'mean': -2.1212682723999023, 'variance': 0.0404297411441803},\n",
       "  '34N': {'mean': -2.1511964797973633, 'variance': 9.325146675109863e-05},\n",
       "  '34D': {'mean': -2.1222329139709473, 'variance': 0.022609472274780273},\n",
       "  '34C': {'mean': -2.104250192642212, 'variance': 0.05458956956863403},\n",
       "  '34Q': {'mean': -2.140002489089966, 'variance': 0.02487853169441223},\n",
       "  '34E': {'mean': -2.1444592475891113, 'variance': 0.02852270007133484},\n",
       "  '34G': {'mean': -2.1199984550476074, 'variance': 0.021779358386993408},\n",
       "  '34H': {'mean': -2.140920877456665, 'variance': 0.027159661054611206},\n",
       "  '34I': {'mean': -2.0334157943725586, 'variance': 0.12778645753860474},\n",
       "  '34L': {'mean': -2.0283203125, 'variance': 0.1363145411014557},\n",
       "  '34K': {'mean': -2.1310837268829346, 'variance': 0.03167116641998291},\n",
       "  '34M': {'mean': -2.077601194381714, 'variance': 0.08630886673927307},\n",
       "  '34F': {'mean': -2.0510478019714355, 'variance': 0.12166666984558105},\n",
       "  '34P': {'mean': -1.7936794757843018, 'variance': 0.29142630100250244},\n",
       "  '34S': {'mean': -2.129687786102295, 'variance': 0.008017361164093018},\n",
       "  '34T': {'mean': -2.12941837310791, 'variance': 0.02641141414642334},\n",
       "  '34W': {'mean': -2.061232566833496, 'variance': 0.1164974570274353},\n",
       "  '34Y': {'mean': -2.1178650856018066, 'variance': 0.06542390584945679},\n",
       "  '34V': {'mean': -2.0641868114471436, 'variance': 0.10212954878807068},\n",
       "  '35A': {'mean': -2.1511964797973633, 'variance': 9.325146675109863e-05},\n",
       "  '35R': {'mean': -1.9030243158340454, 'variance': 0.22948986291885376},\n",
       "  '35N': {'mean': -1.8734252452850342, 'variance': 0.25848880410194397},\n",
       "  '35D': {'mean': -1.7125213146209717, 'variance': 0.3507072925567627},\n",
       "  '35C': {'mean': -2.1401138305664062, 'variance': 0.0063516199588775635},\n",
       "  '35Q': {'mean': -1.971606969833374, 'variance': 0.1870833933353424},\n",
       "  '35E': {'mean': -1.8074955940246582, 'variance': 0.3001672625541687},\n",
       "  '35G': {'mean': -1.9590336084365845, 'variance': 0.18951566517353058},\n",
       "  '35H': {'mean': -1.9948612451553345, 'variance': 0.16424044966697693},\n",
       "  '35I': {'mean': -2.117039918899536, 'variance': 0.031733036041259766},\n",
       "  '35L': {'mean': -2.1063318252563477, 'variance': 0.042120546102523804},\n",
       "  '35K': {'mean': -1.8362184762954712, 'variance': 0.2787381410598755},\n",
       "  '35M': {'mean': -2.1435179710388184, 'variance': 0.009218692779541016},\n",
       "  '35F': {'mean': -2.1198840141296387, 'variance': 0.039077967405319214},\n",
       "  '35P': {'mean': -1.7579647302627563, 'variance': 0.330144464969635},\n",
       "  '35S': {'mean': -2.004962682723999, 'variance': 0.14308708906173706},\n",
       "  '35T': {'mean': -2.0779473781585693, 'variance': 0.07451179623603821},\n",
       "  '35W': {'mean': -2.027874231338501, 'variance': 0.1323394775390625},\n",
       "  '35Y': {'mean': -2.119593620300293, 'variance': 0.05335363745689392},\n",
       "  '35V': {'mean': -2.138327121734619, 'variance': 0.015077561140060425},\n",
       "  '36A': {'mean': -2.077960968017578, 'variance': 0.0634932816028595},\n",
       "  '36R': {'mean': -2.1511964797973633, 'variance': 9.325146675109863e-05},\n",
       "  '36N': {'mean': -2.066255569458008, 'variance': 0.09590515494346619},\n",
       "  '36D': {'mean': -1.9147464036941528, 'variance': 0.21981611847877502},\n",
       "  '36C': {'mean': -2.0951409339904785, 'variance': 0.04799485206604004},\n",
       "  '36Q': {'mean': -2.1238574981689453, 'variance': 0.026895791292190552},\n",
       "  '36E': {'mean': -2.0110974311828613, 'variance': 0.12924155592918396},\n",
       "  '36G': {'mean': -1.8147063255310059, 'variance': 0.27200019359588623},\n",
       "  '36H': {'mean': -2.095041513442993, 'variance': 0.05612859129905701},\n",
       "  '36I': {'mean': -2.119398355484009, 'variance': 0.03904375433921814},\n",
       "  '36L': {'mean': -2.1177144050598145, 'variance': 0.031043440103530884},\n",
       "  '36K': {'mean': -2.1548595428466797, 'variance': 0.003887683153152466},\n",
       "  '36M': {'mean': -2.1115775108337402, 'variance': 0.029044926166534424},\n",
       "  '36F': {'mean': -2.0851125717163086, 'variance': 0.07763540744781494},\n",
       "  '36P': {'mean': -1.7778306007385254, 'variance': 0.32509487867355347},\n",
       "  '36S': {'mean': -2.0014753341674805, 'variance': 0.14641273021697998},\n",
       "  '36T': {'mean': -2.0629138946533203, 'variance': 0.10105803608894348},\n",
       "  '36W': {'mean': -2.044863700866699, 'variance': 0.1143510639667511},\n",
       "  '36Y': {'mean': -2.1021957397460938, 'variance': 0.06618791818618774},\n",
       "  '36V': {'mean': -2.1249141693115234, 'variance': 0.02462807297706604},\n",
       "  '37A': {'mean': -2.0655579566955566, 'variance': 0.07538855075836182},\n",
       "  '37R': {'mean': -2.1374270915985107, 'variance': 0.011646777391433716},\n",
       "  '37N': {'mean': -1.9506993293762207, 'variance': 0.18907701969146729},\n",
       "  '37D': {'mean': -1.9586652517318726, 'variance': 0.1890369951725006},\n",
       "  '37C': {'mean': -1.936075210571289, 'variance': 0.18389447033405304},\n",
       "  '37Q': {'mean': -2.1182663440704346, 'variance': 0.034297049045562744},\n",
       "  '37E': {'mean': -2.1025309562683105, 'variance': 0.051624298095703125},\n",
       "  '37G': {'mean': -1.8661563396453857, 'variance': 0.2464720606803894},\n",
       "  '37H': {'mean': -2.0303289890289307, 'variance': 0.11408263444900513},\n",
       "  '37I': {'mean': -1.9887731075286865, 'variance': 0.1462724506855011},\n",
       "  '37L': {'mean': -2.004862070083618, 'variance': 0.13108253479003906},\n",
       "  '37K': {'mean': -2.1511964797973633, 'variance': 9.325146675109863e-05},\n",
       "  '37M': {'mean': -2.00689959526062, 'variance': 0.12961792945861816},\n",
       "  '37F': {'mean': -1.9584730863571167, 'variance': 0.18003149330615997},\n",
       "  '37P': {'mean': -1.736109733581543, 'variance': 0.34125977754592896},\n",
       "  '37S': {'mean': -1.9580235481262207, 'variance': 0.18061023950576782},\n",
       "  '37T': {'mean': -1.9515380859375, 'variance': 0.1908755600452423},\n",
       "  '37W': {'mean': -1.9618723392486572, 'variance': 0.18644452095031738},\n",
       "  '37Y': {'mean': -2.002542018890381, 'variance': 0.15452340245246887},\n",
       "  '37V': {'mean': -1.9959663152694702, 'variance': 0.14191538095474243},\n",
       "  '38A': {'mean': -1.948958396911621, 'variance': 0.21182502806186676},\n",
       "  '38R': {'mean': -1.7402222156524658, 'variance': 0.35934850573539734},\n",
       "  '38N': {'mean': -1.7248996496200562, 'variance': 0.37099793553352356},\n",
       "  '38D': {'mean': -1.6440136432647705, 'variance': 0.39152389764785767},\n",
       "  '38C': {'mean': -1.9479703903198242, 'variance': 0.2162594050168991},\n",
       "  '38Q': {'mean': -1.7630999088287354, 'variance': 0.3496471047401428},\n",
       "  '38E': {'mean': -1.7229607105255127, 'variance': 0.36980482935905457},\n",
       "  '38G': {'mean': -1.7076334953308105, 'variance': 0.3710591197013855},\n",
       "  '38H': {'mean': -1.7912873029708862, 'variance': 0.35345885157585144},\n",
       "  '38I': {'mean': -2.1511964797973633, 'variance': 9.325146675109863e-05},\n",
       "  '38L': {'mean': -2.017650604248047, 'variance': 0.13004925847053528},\n",
       "  '38K': {'mean': -1.7144136428833008, 'variance': 0.3679664433002472},\n",
       "  '38M': {'mean': -1.93253493309021, 'variance': 0.19212304055690765},\n",
       "  '38F': {'mean': -2.035806179046631, 'variance': 0.18089424073696136},\n",
       "  '38P': {'mean': -1.4902079105377197, 'variance': 0.40119650959968567},\n",
       "  '38S': {'mean': -1.7641197443008423, 'variance': 0.3461039662361145},\n",
       "  '38T': {'mean': -1.8845622539520264, 'variance': 0.26450854539871216},\n",
       "  '38W': {'mean': -1.7396605014801025, 'variance': 0.3593302071094513},\n",
       "  '38Y': {'mean': -1.8579906225204468, 'variance': 0.33388495445251465},\n",
       "  '38V': {'mean': -2.131342649459839, 'variance': 0.03170061111450195},\n",
       "  '39A': {'mean': -2.1511964797973633, 'variance': 9.325146675109863e-05},\n",
       "  '39R': {'mean': -2.0223944187164307, 'variance': 0.12882068753242493},\n",
       "  '39N': {'mean': -1.9816217422485352, 'variance': 0.1849614679813385},\n",
       "  '39D': {'mean': -1.8042675256729126, 'variance': 0.3109290301799774},\n",
       "  '39C': {'mean': -2.131347179412842, 'variance': 0.010694652795791626},\n",
       "  '39Q': {'mean': -2.0365443229675293, 'variance': 0.13162413239479065},\n",
       "  '39E': {'mean': -1.9211982488632202, 'variance': 0.22912457585334778},\n",
       "  '39G': {'mean': -2.0783090591430664, 'variance': 0.0914030373096466},\n",
       "  '39H': {'mean': -2.0571889877319336, 'variance': 0.10483527183532715},\n",
       "  '39I': {'mean': -2.1179895401000977, 'variance': 0.036926835775375366},\n",
       "  '39L': {'mean': -2.1205437183380127, 'variance': 0.032184094190597534},\n",
       "  '39K': {'mean': -1.9970979690551758, 'variance': 0.15717604756355286},\n",
       "  '39M': {'mean': -2.1414635181427, 'variance': 0.010169237852096558},\n",
       "  '39F': {'mean': -2.1179585456848145, 'variance': 0.05515599250793457},\n",
       "  '39P': {'mean': -1.594596266746521, 'variance': 0.3933425545692444},\n",
       "  '39S': {'mean': -2.076313018798828, 'variance': 0.08167913556098938},\n",
       "  '39T': {'mean': -2.108839750289917, 'variance': 0.05161541700363159},\n",
       "  '39W': {'mean': -2.0455570220947266, 'variance': 0.13052430748939514},\n",
       "  '39Y': {'mean': -2.1252620220184326, 'variance': 0.05443325638771057},\n",
       "  '39V': {'mean': -2.1374969482421875, 'variance': 0.023908674716949463},\n",
       "  '40A': {'mean': -1.8139710426330566, 'variance': 0.2627054452896118},\n",
       "  '40R': {'mean': -1.8905467987060547, 'variance': 0.21151648461818695},\n",
       "  '40N': {'mean': -1.9329835176467896, 'variance': 0.1943063884973526},\n",
       "  '40D': {'mean': -2.1049957275390625, 'variance': 0.0430469810962677},\n",
       "  '40C': {'mean': -1.603502631187439, 'variance': 0.36331406235694885},\n",
       "  '40Q': {'mean': -2.0062522888183594, 'variance': 0.13087943196296692},\n",
       "  '40E': {'mean': -2.1511964797973633, 'variance': 9.325146675109863e-05},\n",
       "  '40G': {'mean': -1.7989532947540283, 'variance': 0.27763330936431885},\n",
       "  '40H': {'mean': -1.7589654922485352, 'variance': 0.2966887354850769},\n",
       "  '40I': {'mean': -1.4999488592147827, 'variance': 0.3977683186531067},\n",
       "  '40L': {'mean': -1.5649148225784302, 'variance': 0.3793129026889801},\n",
       "  '40K': {'mean': -1.9585903882980347, 'variance': 0.1743936985731125},\n",
       "  '40M': {'mean': -1.5889649391174316, 'variance': 0.36747297644615173},\n",
       "  '40F': {'mean': -1.4977998733520508, 'variance': 0.39575091004371643},\n",
       "  '40P': {'mean': -1.5462114810943604, 'variance': 0.39604419469833374},\n",
       "  '40S': {'mean': -1.8823704719543457, 'variance': 0.22362059354782104},\n",
       "  '40T': {'mean': -1.7679359912872314, 'variance': 0.3011237382888794},\n",
       "  '40W': {'mean': -1.506700038909912, 'variance': 0.3952805995941162},\n",
       "  '40Y': {'mean': -1.5266289710998535, 'variance': 0.38782837986946106},\n",
       "  '40V': {'mean': -1.521187424659729, 'variance': 0.3941570818424225},\n",
       "  '41A': {'mean': -2.156381368637085, 'variance': 0.014742821455001831},\n",
       "  '41R': {'mean': -2.0748353004455566, 'variance': 0.11547324061393738},\n",
       "  '41N': {'mean': -2.0852389335632324, 'variance': 0.10833379626274109},\n",
       "  '41D': {'mean': -2.049386978149414, 'variance': 0.1472388207912445},\n",
       "  '41C': {'mean': -2.125297784805298, 'variance': 0.027537643909454346},\n",
       "  '41Q': {'mean': -2.108177423477173, 'variance': 0.08380946516990662},\n",
       "  '41E': {'mean': -2.070038318634033, 'variance': 0.1266995668411255},\n",
       "  '41G': {'mean': -2.0757675170898438, 'variance': 0.11255499720573425},\n",
       "  '41H': {'mean': -2.1190452575683594, 'variance': 0.0645034909248352},\n",
       "  '41I': {'mean': -2.1249070167541504, 'variance': 0.018587619066238403},\n",
       "  '41L': {'mean': -2.142681121826172, 'variance': 0.004592329263687134},\n",
       "  '41K': {'mean': -2.073066234588623, 'variance': 0.11902943253517151},\n",
       "  '41M': {'mean': -2.1511964797973633, 'variance': 9.325146675109863e-05},\n",
       "  '41F': {'mean': -2.1480493545532227, 'variance': 0.009157359600067139},\n",
       "  '41P': {'mean': -1.7222251892089844, 'variance': 0.36082831025123596},\n",
       "  '41S': {'mean': -2.1149139404296875, 'variance': 0.0676022469997406},\n",
       "  '41T': {'mean': -2.1361076831817627, 'variance': 0.039904385805130005},\n",
       "  '41W': {'mean': -2.13088321685791, 'variance': 0.03368118405342102},\n",
       "  '41Y': {'mean': -2.167365074157715, 'variance': 0.013065487146377563},\n",
       "  '41V': {'mean': -2.1280431747436523, 'variance': 0.027686774730682373},\n",
       "  '42A': {'mean': -2.097336530685425, 'variance': 0.0803508460521698},\n",
       "  '42R': {'mean': -1.8725600242614746, 'variance': 0.2819822132587433},\n",
       "  '42N': {'mean': -1.920153260231018, 'variance': 0.2544713020324707},\n",
       "  '42D': {'mean': -1.80189049243927, 'variance': 0.32576268911361694},\n",
       "  '42C': {'mean': -2.1087727546691895, 'variance': 0.056065648794174194},\n",
       "  '42Q': {'mean': -1.9503672122955322, 'variance': 0.23261521756649017},\n",
       "  '42E': {'mean': -1.9029284715652466, 'variance': 0.2669221758842468},\n",
       "  '42G': {'mean': -1.8908390998840332, 'variance': 0.2672863006591797},\n",
       "  '42H': {'mean': -1.9611862897872925, 'variance': 0.22000934183597565},\n",
       "  '42I': {'mean': -2.1511964797973633, 'variance': 9.325146675109863e-05},\n",
       "  '42L': {'mean': -2.1526684761047363, 'variance': 0.007176727056503296},\n",
       "  '42K': {'mean': -1.8487221002578735, 'variance': 0.2981862425804138},\n",
       "  '42M': {'mean': -2.1498663425445557, 'variance': 0.022649109363555908},\n",
       "  '42F': {'mean': -2.151495933532715, 'variance': 0.029554396867752075},\n",
       "  '42P': {'mean': -1.6376612186431885, 'variance': 0.3848938047885895},\n",
       "  '42S': {'mean': -1.9942123889923096, 'variance': 0.18499746918678284},\n",
       "  '42T': {'mean': -2.0588245391845703, 'variance': 0.12603726983070374},\n",
       "  '42W': {'mean': -2.1063919067382812, 'variance': 0.09636208415031433},\n",
       "  '42Y': {'mean': -2.111921787261963, 'variance': 0.09822666645050049},\n",
       "  '42V': {'mean': -2.148493766784668, 'variance': 0.017279863357543945},\n",
       "  '43A': {'mean': -2.105123519897461, 'variance': 0.03848126530647278},\n",
       "  '43R': {'mean': -2.0912275314331055, 'variance': 0.05341672897338867},\n",
       "  '43N': {'mean': -2.1136226654052734, 'variance': 0.04469838738441467},\n",
       "  '43D': {'mean': -2.059422492980957, 'variance': 0.09804308414459229},\n",
       "  '43C': {'mean': -2.1131796836853027, 'variance': 0.014097481966018677},\n",
       "  '43Q': {'mean': -2.1074681282043457, 'variance': 0.0526944100856781},\n",
       "  '43E': {'mean': -2.0639748573303223, 'variance': 0.09023323655128479},\n",
       "  '43G': {'mean': -2.1204001903533936, 'variance': 0.042973458766937256},\n",
       "  '43H': {'mean': -2.1082465648651123, 'variance': 0.034699201583862305},\n",
       "  '43I': {'mean': -2.1357579231262207, 'variance': 0.005726486444473267},\n",
       "  '43L': {'mean': -2.136535167694092, 'variance': 0.010311245918273926},\n",
       "  '43K': {'mean': -2.1019577980041504, 'variance': 0.05508309602737427},\n",
       "  '43M': {'mean': -2.1387810707092285, 'variance': 0.008345097303390503},\n",
       "  '43F': {'mean': -2.1280715465545654, 'variance': 0.024776488542556763},\n",
       "  '43P': {'mean': -1.9209318161010742, 'variance': 0.22699882090091705},\n",
       "  '43S': {'mean': -2.099924087524414, 'variance': 0.04296451807022095},\n",
       "  '43T': {'mean': -2.1292312145233154, 'variance': 0.023216456174850464},\n",
       "  '43W': {'mean': -2.0937392711639404, 'variance': 0.05932721495628357},\n",
       "  '43Y': {'mean': -2.1355550289154053, 'variance': 0.019568145275115967},\n",
       "  '43V': {'mean': -2.1511964797973633, 'variance': 9.325146675109863e-05},\n",
       "  '44A': {'mean': -2.114217519760132, 'variance': 0.025524258613586426},\n",
       "  '44R': {'mean': -2.111320972442627, 'variance': 0.023750722408294678},\n",
       "  '44N': {'mean': -2.144066333770752, 'variance': 0.011842280626296997},\n",
       "  '44D': {'mean': -2.132081985473633, 'variance': 0.017582207918167114},\n",
       "  '44C': {'mean': -2.0281426906585693, 'variance': 0.09882405400276184},\n",
       "  '44Q': {'mean': -2.121234178543091, 'variance': 0.019417613744735718},\n",
       "  '44E': {'mean': -2.118168830871582, 'variance': 0.024830281734466553},\n",
       "  '44G': {'mean': -2.1511964797973633, 'variance': 9.325146675109863e-05},\n",
       "  '44H': {'mean': -2.118725061416626, 'variance': 0.019183337688446045},\n",
       "  '44I': {'mean': -1.939835548400879, 'variance': 0.17631712555885315},\n",
       "  '44L': {'mean': -1.9990170001983643, 'variance': 0.12166276574134827},\n",
       "  '44K': {'mean': -2.1294431686401367, 'variance': 0.0210706889629364},\n",
       "  '44M': {'mean': -2.030524969100952, 'variance': 0.09668359160423279},\n",
       "  '44F': {'mean': -1.9552538394927979, 'variance': 0.1632842868566513},\n",
       "  '44P': {'mean': -2.0193653106689453, 'variance': 0.13964173197746277},\n",
       "  '44S': {'mean': -2.1327908039093018, 'variance': 0.007373631000518799},\n",
       "  '44T': {'mean': -2.145296812057495, 'variance': 0.004223495721817017},\n",
       "  '44W': {'mean': -1.9625978469848633, 'variance': 0.15801337361335754},\n",
       "  '44Y': {'mean': -2.0127828121185303, 'variance': 0.11982333660125732},\n",
       "  '44V': {'mean': -1.9926857948303223, 'variance': 0.1363377869129181},\n",
       "  '45A': {'mean': -2.153995990753174, 'variance': 0.016024529933929443},\n",
       "  '45R': {'mean': -2.1055715084075928, 'variance': 0.07383519411087036},\n",
       "  '45N': {'mean': -2.0825235843658447, 'variance': 0.10476812720298767},\n",
       "  '45D': {'mean': -2.0474801063537598, 'variance': 0.14087972044944763},\n",
       "  '45C': {'mean': -2.134753704071045, 'variance': 0.01731353998184204},\n",
       "  '45Q': {'mean': -2.1218533515930176, 'variance': 0.06131267547607422},\n",
       "  '45E': {'mean': -2.090153932571411, 'variance': 0.10057404637336731},\n",
       "  '45G': {'mean': -2.066465377807617, 'variance': 0.12389636039733887},\n",
       "  '45H': {'mean': -2.11275053024292, 'variance': 0.06659173965454102},\n",
       "  '45I': {'mean': -2.1383795738220215, 'variance': 0.0091952383518219},\n",
       "  '45L': {'mean': -2.1381113529205322, 'variance': 0.008807063102722168},\n",
       "  '45K': {'mean': -2.099074363708496, 'variance': 0.0855291485786438},\n",
       "  '45M': {'mean': -2.1511964797973633, 'variance': 9.325146675109863e-05},\n",
       "  '45F': {'mean': -2.1473114490509033, 'variance': 0.009340256452560425},\n",
       "  '45P': {'mean': -2.011528491973877, 'variance': 0.16951604187488556},\n",
       "  '45S': {'mean': -2.108931064605713, 'variance': 0.07440158724784851},\n",
       "  '45T': {'mean': -2.1182122230529785, 'variance': 0.07248237729072571},\n",
       "  '45W': {'mean': -2.1491620540618896, 'variance': 0.015312790870666504},\n",
       "  '45Y': {'mean': -2.156437397003174, 'variance': 0.022259235382080078},\n",
       "  '45V': {'mean': -2.151322603225708, 'variance': 0.010008960962295532},\n",
       "  '46A': {'mean': -2.1218020915985107, 'variance': 0.03821304440498352},\n",
       "  '46R': {'mean': -2.1458654403686523, 'variance': 0.001729816198348999},\n",
       "  '46N': {'mean': -2.147273302078247, 'variance': 0.017072439193725586},\n",
       "  '46D': {'mean': -2.1219887733459473, 'variance': 0.038633108139038086},\n",
       "  '46C': {'mean': -2.105264902114868, 'variance': 0.05735000967979431},\n",
       "  '46Q': {'mean': -2.1548585891723633, 'variance': 0.004292100667953491},\n",
       "  '46E': {'mean': -2.14422607421875, 'variance': 0.010995090007781982},\n",
       "  '46G': {'mean': -2.1099538803100586, 'variance': 0.04858827590942383},\n",
       "  '46H': {'mean': -2.1374101638793945, 'variance': 0.030412286520004272},\n",
       "  '46I': {'mean': -2.0906553268432617, 'variance': 0.08228838443756104},\n",
       "  '46L': {'mean': -2.076967716217041, 'variance': 0.09013393521308899},\n",
       "  '46K': {'mean': -2.1511964797973633, 'variance': 9.325146675109863e-05},\n",
       "  '46M': {'mean': -2.1046905517578125, 'variance': 0.06654822826385498},\n",
       "  '46F': {'mean': -2.0888800621032715, 'variance': 0.08773273229598999},\n",
       "  '46P': {'mean': -2.029916286468506, 'variance': 0.13777300715446472},\n",
       "  '46S': {'mean': -2.1320102214813232, 'variance': 0.02912089228630066},\n",
       "  '46T': {'mean': -2.133993625640869, 'variance': 0.04413628578186035},\n",
       "  '46W': {'mean': -2.1098618507385254, 'variance': 0.06871429085731506},\n",
       "  '46Y': {'mean': -2.1219284534454346, 'variance': 0.06822821497917175},\n",
       "  '46V': {'mean': -2.111647605895996, 'variance': 0.06694543361663818},\n",
       "  '47A': {'mean': -2.1391334533691406, 'variance': 0.00435793399810791},\n",
       "  '47R': {'mean': -2.14316987991333, 'variance': 0.0020179450511932373},\n",
       "  '47N': {'mean': -2.147106647491455, 'variance': 0.005082815885543823},\n",
       "  '47D': {'mean': -2.1299736499786377, 'variance': 0.019461005926132202},\n",
       "  '47C': {'mean': -2.101046562194824, 'variance': 0.06267407536506653},\n",
       "  '47Q': {'mean': -2.1511964797973633, 'variance': 9.325146675109863e-05},\n",
       "  '47E': {'mean': -2.1401114463806152, 'variance': 0.008696585893630981},\n",
       "  '47G': {'mean': -2.120943069458008, 'variance': 0.037117600440979004},\n",
       "  '47H': {'mean': -2.13208270072937, 'variance': 0.025077909231185913},\n",
       "  '47I': {'mean': -2.048882007598877, 'variance': 0.1323324739933014},\n",
       "  '47L': {'mean': -2.096497058868408, 'variance': 0.08880507946014404},\n",
       "  '47K': {'mean': -2.146979570388794, 'variance': 0.002394944429397583},\n",
       "  '47M': {'mean': -2.1204094886779785, 'variance': 0.056533247232437134},\n",
       "  '47F': {'mean': -2.0415921211242676, 'variance': 0.14450156688690186},\n",
       "  '47P': {'mean': -2.077056407928467, 'variance': 0.0810147225856781},\n",
       "  '47S': {'mean': -2.135158061981201, 'variance': 0.00912216305732727},\n",
       "  '47T': {'mean': -2.1348061561584473, 'variance': 0.031225353479385376},\n",
       "  '47W': {'mean': -2.0749547481536865, 'variance': 0.11063897609710693},\n",
       "  '47Y': {'mean': -2.0911481380462646, 'variance': 0.1006501317024231},\n",
       "  '47V': {'mean': -2.082542657852173, 'variance': 0.10198786854743958},\n",
       "  '48A': {'mean': -2.0900182723999023, 'variance': 0.03625231981277466},\n",
       "  '48R': {'mean': -2.1097092628479004, 'variance': 0.026705384254455566},\n",
       "  '48N': {'mean': -2.145939588546753, 'variance': 0.006671547889709473},\n",
       "  '48D': {'mean': -2.127467632293701, 'variance': 0.015198469161987305},\n",
       "  '48C': {'mean': -2.093729019165039, 'variance': 0.03636845946311951},\n",
       "  '48Q': {'mean': -2.1204819679260254, 'variance': 0.023578494787216187},\n",
       "  '48E': {'mean': -2.115502119064331, 'variance': 0.024391919374465942},\n",
       "  '48G': {'mean': -2.1511964797973633, 'variance': 9.325146675109863e-05},\n",
       "  '48H': {'mean': -2.123837471008301, 'variance': 0.016778111457824707},\n",
       "  '48I': {'mean': -2.101076602935791, 'variance': 0.03630936145782471},\n",
       "  '48L': {'mean': -2.0867691040039062, 'variance': 0.04824423789978027},\n",
       "  '48K': {'mean': -2.1233787536621094, 'variance': 0.023775607347488403},\n",
       "  '48M': {'mean': -2.091529369354248, 'variance': 0.04361647367477417},\n",
       "  '48F': {'mean': -2.089247941970825, 'variance': 0.047903597354888916},\n",
       "  '48P': {'mean': -2.0957400798797607, 'variance': 0.052519798278808594},\n",
       "  '48S': {'mean': -2.116880416870117, 'variance': 0.012896180152893066},\n",
       "  '48T': {'mean': -2.132237195968628, 'variance': 0.012126624584197998},\n",
       "  '48W': {'mean': -2.0978996753692627, 'variance': 0.052694737911224365},\n",
       "  '48Y': {'mean': -2.112410545349121, 'variance': 0.038571685552597046},\n",
       "  '48V': {'mean': -2.1104321479797363, 'variance': 0.028516024351119995},\n",
       "  '49A': {'mean': -2.131962299346924, 'variance': 0.009100019931793213},\n",
       "  '49R': {'mean': -2.139941692352295, 'variance': 0.011087477207183838},\n",
       "  '49N': {'mean': -2.1373655796051025, 'variance': 0.017432600259780884},\n",
       "  '49D': {'mean': -2.1152236461639404, 'variance': 0.022843480110168457},\n",
       "  '49C': {'mean': -2.13948392868042, 'variance': 0.010271728038787842},\n",
       "  '49Q': {'mean': -2.133439779281616, 'variance': 0.012148082256317139},\n",
       "  '49E': {'mean': -2.127476453781128, 'variance': 0.018312394618988037},\n",
       "  '49G': {'mean': -2.134267807006836, 'variance': 0.011815458536148071},\n",
       "  '49H': {'mean': -2.138258934020996, 'variance': 0.012943059206008911},\n",
       "  '49I': {'mean': -2.1555471420288086, 'variance': 0.0034503042697906494},\n",
       "  '49L': {'mean': -2.1511964797973633, 'variance': 9.325146675109863e-05},\n",
       "  '49K': {'mean': -2.1427664756774902, 'variance': 0.013358622789382935},\n",
       "  '49M': {'mean': -2.143444538116455, 'variance': 0.0026726126670837402},\n",
       "  '49F': {'mean': -2.1565401554107666, 'variance': 0.002855658531188965},\n",
       "  '49P': {'mean': -2.119346857070923, 'variance': 0.03519308567047119},\n",
       "  '49S': {'mean': -2.1342267990112305, 'variance': 0.008727788925170898},\n",
       "  '49T': {'mean': -2.149848461151123, 'variance': 0.009549081325531006},\n",
       "  '49W': {'mean': -2.1654601097106934, 'variance': 0.006542563438415527},\n",
       "  '49Y': {'mean': -2.1648659706115723, 'variance': 0.011892586946487427},\n",
       "  '49V': {'mean': -2.15667724609375, 'variance': 0.0033509433269500732},\n",
       "  '50A': {'mean': -2.116900682449341, 'variance': 0.016612321138381958},\n",
       "  '50R': {'mean': -2.133543014526367, 'variance': 0.021901041269302368},\n",
       "  '50N': {'mean': -2.142237663269043, 'variance': 0.014588028192520142},\n",
       "  '50D': {'mean': -2.1244237422943115, 'variance': 0.018430650234222412},\n",
       "  '50C': {'mean': -2.107664108276367, 'variance': 0.03552812337875366},\n",
       "  '50Q': {'mean': -2.1334667205810547, 'variance': 0.016465753316879272},\n",
       "  '50E': {'mean': -2.130319595336914, 'variance': 0.019062906503677368},\n",
       "  '50G': {'mean': -2.142249345779419, 'variance': 0.006460279226303101},\n",
       "  '50H': {'mean': -2.1329283714294434, 'variance': 0.023337513208389282},\n",
       "  '50I': {'mean': -2.076652765274048, 'variance': 0.09176561236381531},\n",
       "  '50L': {'mean': -2.1065526008605957, 'variance': 0.058798402547836304},\n",
       "  '50K': {'mean': -2.147857666015625, 'variance': 0.013824105262756348},\n",
       "  '50M': {'mean': -2.111367702484131, 'variance': 0.04996359348297119},\n",
       "  '50F': {'mean': -2.092961311340332, 'variance': 0.07753708958625793},\n",
       "  '50P': {'mean': -2.1511964797973633, 'variance': 9.325146675109863e-05},\n",
       "  '50S': {'mean': -2.1297543048858643, 'variance': 0.01590225100517273},\n",
       "  '50T': {'mean': -2.1367878913879395, 'variance': 0.0299052894115448},\n",
       "  '50W': {'mean': -2.1243667602539062, 'variance': 0.049952924251556396},\n",
       "  '50Y': {'mean': -2.132774591445923, 'variance': 0.046106308698654175},\n",
       "  '50V': {'mean': -2.104630470275879, 'variance': 0.06432968378067017},\n",
       "  ...}}"
      ]
     },
     "execution_count": 24,
     "metadata": {},
     "output_type": "execute_result"
    }
   ],
   "source": [
    "ssp_results = sspredict.wait(verbose=True)\n",
    "ssp_results"
   ]
  },
  {
   "cell_type": "code",
   "execution_count": 25,
   "metadata": {},
   "outputs": [
    {
     "data": {
      "text/plain": [
       "{'mean': -1.7794826030731201, 'variance': 0.26442772150039673}"
      ]
     },
     "execution_count": 25,
     "metadata": {},
     "output_type": "execute_result"
    }
   ],
   "source": [
    "ssp_results['acetamide_normalized_fitness']['1A']"
   ]
  },
  {
   "cell_type": "code",
   "execution_count": 26,
   "metadata": {},
   "outputs": [
    {
     "data": {
      "text/html": [
       "<div>\n",
       "<style scoped>\n",
       "    .dataframe tbody tr th:only-of-type {\n",
       "        vertical-align: middle;\n",
       "    }\n",
       "\n",
       "    .dataframe tbody tr th {\n",
       "        vertical-align: top;\n",
       "    }\n",
       "\n",
       "    .dataframe thead th {\n",
       "        text-align: right;\n",
       "    }\n",
       "</style>\n",
       "<table border=\"1\" class=\"dataframe\">\n",
       "  <thead>\n",
       "    <tr style=\"text-align: right;\">\n",
       "      <th></th>\n",
       "      <th>mean</th>\n",
       "      <th>variance</th>\n",
       "      <th>position</th>\n",
       "      <th>amino_acid</th>\n",
       "    </tr>\n",
       "  </thead>\n",
       "  <tbody>\n",
       "    <tr>\n",
       "      <th>1A</th>\n",
       "      <td>-1.779483</td>\n",
       "      <td>0.264428</td>\n",
       "      <td>1</td>\n",
       "      <td>A</td>\n",
       "    </tr>\n",
       "    <tr>\n",
       "      <th>1R</th>\n",
       "      <td>-1.659033</td>\n",
       "      <td>0.103737</td>\n",
       "      <td>1</td>\n",
       "      <td>R</td>\n",
       "    </tr>\n",
       "    <tr>\n",
       "      <th>1N</th>\n",
       "      <td>-1.673235</td>\n",
       "      <td>0.111813</td>\n",
       "      <td>1</td>\n",
       "      <td>N</td>\n",
       "    </tr>\n",
       "    <tr>\n",
       "      <th>1D</th>\n",
       "      <td>-1.875661</td>\n",
       "      <td>0.071059</td>\n",
       "      <td>1</td>\n",
       "      <td>D</td>\n",
       "    </tr>\n",
       "    <tr>\n",
       "      <th>1C</th>\n",
       "      <td>-1.993727</td>\n",
       "      <td>0.032052</td>\n",
       "      <td>1</td>\n",
       "      <td>C</td>\n",
       "    </tr>\n",
       "  </tbody>\n",
       "</table>\n",
       "</div>"
      ],
      "text/plain": [
       "        mean  variance  position amino_acid\n",
       "1A -1.779483  0.264428         1          A\n",
       "1R -1.659033  0.103737         1          R\n",
       "1N -1.673235  0.111813         1          N\n",
       "1D -1.875661  0.071059         1          D\n",
       "1C -1.993727  0.032052         1          C"
      ]
     },
     "execution_count": 26,
     "metadata": {},
     "output_type": "execute_result"
    }
   ],
   "source": [
    "preds = pd.DataFrame(ssp_results['acetamide_normalized_fitness']).T\n",
    "preds['position'] = [int(i[:-1]) for i in preds.index]\n",
    "preds['amino_acid'] = [i[-1] for i in preds.index]\n",
    "preds.head()"
   ]
  },
  {
   "cell_type": "code",
   "execution_count": 27,
   "metadata": {},
   "outputs": [
    {
     "data": {
      "image/png": "[encoded data removed]",
      "text/plain": [
       "<Figure size 1400x500 with 2 Axes>"
      ]
     },
     "metadata": {},
     "output_type": "display_data"
    }
   ],
   "source": [
    "\n",
    "df_pivot = preds.pivot(columns='position', index='amino_acid', values='mean')\n",
    "\n",
    "# Create  heatmap\n",
    "plt.figure(figsize=(14, 5))\n",
    "sns.heatmap(df_pivot, cmap='coolwarm', annot=False, fmt=\".2f\")\n",
    "plt.title('Acetamide Normalized Fitness Heatmap')\n",
    "plt.xlabel('Amino Acid')\n",
    "plt.ylabel('Position')\n",
    "plt.show()\n"
   ]
  },
  {
   "cell_type": "markdown",
   "metadata": {},
   "source": [
    "\n",
    "## Sequence design\n",
    "\n",
    "We can set up a design job using our trained model as a criteria. To do this we will also need to supply a mutation map that defines positions and residues that we want mutated. "
   ]
  },
  {
   "cell_type": "markdown",
   "metadata": {},
   "source": [
    "We have some helper functions that can be used to initialize your design mutation dict:"
   ]
  },
  {
   "cell_type": "code",
   "execution_count": 28,
   "metadata": {},
   "outputs": [
    {
     "name": "stdout",
     "output_type": "stream",
     "text": [
      "WRHGDISSSNDTVGVAVVNYKMPRLHTAAEVLDNARKIAEMIVGMKQGLPGMDLVVFPEYSLQGIMYDPAEMMETAVAIPGEETEIFSRACRKANVWGVFSLTGERHEEHPRKAPYNTLVLIDNNGEIVQKYRKIIPWCPIEGWYPGGQTYVSEGPKGMKISLIICDDGNYPEIWRDCAMKGAELIVRCQGYMYPAKDQQVMMAKAMAWANNCYVAVANAAGFDGVYSYFGHSAIIGFDGRTLGECGEEEMGIQYAQLSLSQIRDARANDQSQNHLFKILHRGYSGLQASGDGDRGLAECPFEFYRTWVTDAEKARENVERLTRSTTGVAQCPVGRLPYEGLEKEA\n",
      "Position 1 - Allowed residues: W\n",
      "Position 2 - Allowed residues: R G I L\n",
      "Position 3 - Allowed residues: H G I L\n",
      "Position 4 - Allowed residues: G\n",
      "Position 5 - Allowed residues: D\n",
      "Position 6 - Allowed residues: I\n"
     ]
    }
   ],
   "source": [
    "from openprotein.api.design import DesignConstraint\n",
    "\n",
    "parent_sequence = dataset.sequence[0]\n",
    "print(parent_sequence)\n",
    "\n",
    "# init the design constraints \n",
    "design = DesignConstraint(parent_sequence)\n",
    "\n",
    "# we'll then update the constraints to allow G,I,L mutations at pos 2, 3\n",
    "design.allow([2, 3], [\"G\", \"I\", \"L\"])\n",
    "\n",
    "# get the mapping\n",
    "mutations = design.as_dict()\n",
    "\n",
    "# Pretty print the first 6 positions\n",
    "for i, (key, value) in enumerate(mutations.items()):\n",
    "    if i < 6:\n",
    "        print(f\"Position {key} - Allowed residues: {' '.join(value)}\")\n",
    "    else:\n",
    "        break\n",
    "    "
   ]
  },
  {
   "cell_type": "code",
   "execution_count": 29,
   "metadata": {},
   "outputs": [],
   "source": [
    "model_id = train.list_models()[0]['model_id']"
   ]
  },
  {
   "cell_type": "code",
   "execution_count": 30,
   "metadata": {},
   "outputs": [
    {
     "data": {
      "text/plain": [
       "DesignJob(status=<JobStatus.PENDING: 'PENDING'>, job_id='fc63af1f-7e97-4b2d-b0b0-b1a54841398e', job_type=<JobType.workflow_design: '/workflow/design'>, created_date=datetime.datetime(2024, 4, 9, 2, 8, 57, 707464), start_date=None, end_date=None, prerequisite_job_id=None, progress_message=None, progress_counter=None, num_records=None, sequence_length=None)"
      ]
     },
     "execution_count": 30,
     "metadata": {},
     "output_type": "execute_result"
    }
   ],
   "source": [
    "from openprotein.api.design import DesignJobCreate, ModelCriterion, NMutationCriterion, Criterion\n",
    "design_data = DesignJobCreate(\n",
    "    assay_id=assay.id,\n",
    "    criteria=[\n",
    "        [\n",
    "            ModelCriterion(\n",
    "                criterion_type='model',\n",
    "                model_id=model_id,\n",
    "                measurement_name=\"acetamide_normalized_fitness\",\n",
    "                criterion=Criterion(target=-0.5, weight=1.0, direction=\"<\")\n",
    "            ),\n",
    "        ],\n",
    "        [NMutationCriterion(criterion_type=\"n_mutations\", )]\n",
    "    ],\n",
    "    num_steps=3,\n",
    "    allowed_tokens=mutations\n",
    ")\n",
    "\n",
    "\n",
    "json.loads(design_data.json())\n",
    "\n",
    "# create the design job\n",
    "design_job = session.design.create_design_job(design_data)\n",
    "\n",
    "design_id = design_job.id\n",
    "design_job\n",
    "\n"
   ]
  },
  {
   "cell_type": "code",
   "execution_count": 31,
   "metadata": {},
   "outputs": [],
   "source": [
    "\n",
    "results = design_job.wait()"
   ]
  },
  {
   "cell_type": "code",
   "execution_count": 32,
   "metadata": {},
   "outputs": [
    {
     "data": {
      "text/plain": [
       "[{'step': 0,\n",
       "  'sample_index': 0,\n",
       "  'sequence': 'WRHGDISSSNDTVGVAVVNYKMPRLHTAAEVLDNARKIAEMIVGMKQGLPGMDLVVFPEYSLQGIMYDPAEMMETAVAIPGEETEIFSRACRKANVWGVFSLTGERHEEHPRKAPYNTLVLIDNNGEIVQKYRKIIPWCPIEGWYPGGQTYVSEGPKGMKISLIICDDGNYPEIWRDCAMKGAELIVRCQGYMYPAKDQQVMMAKAMAWANNCYVAVANAAGFDGVYSYFGHSAIIGFDGRTLGECGEEEMGIQYAQLSLSQIRDARANDQSQNHLFKILHRGYSGLQASGDGDRGLAECPFEFYRTWVTDAEKARENVERLTRSTTGVAQCPVGRLPYEGLEKEA',\n",
       "  'scores': [[{'score': 0.0,\n",
       "     'metadata': {'y_mu': -2.1514909267425537,\n",
       "      'y_var': 0.00010183453559875488}}],\n",
       "   [{'score': 346.0, 'metadata': {'y_mu': None, 'y_var': None}}]]},\n",
       " {'step': 0,\n",
       "  'sample_index': 1,\n",
       "  'sequence': 'WRGGDISSSNDTVGVAVVNYKMPRLHTAAEVLDNARKIAEMIVGMKQGLPGMDLVVFPEYSLQGIMYDPAEMMETAVAIPGEETEIFSRACRKANVWGVFSLTGERHEEHPRKAPYNTLVLIDNNGEIVQKYRKIIPWCPIEGWYPGGQTYVSEGPKGMKISLIICDDGNYPEIWRDCAMKGAELIVRCQGYMYPAKDQQVMMAKAMAWANNCYVAVANAAGFDGVYSYFGHSAIIGFDGRTLGECGEEEMGIQYAQLSLSQIRDARANDQSQNHLFKILHRGYSGLQASGDGDRGLAECPFEFYRTWVTDAEKARENVERLTRSTTGVAQCPVGRLPYEGLEKEA',\n",
       "  'scores': [[{'score': 0.0,\n",
       "     'metadata': {'y_mu': -2.1378421783447266,\n",
       "      'y_var': 0.0019527673721313477}}],\n",
       "   [{'score': 345.0, 'metadata': {'y_mu': None, 'y_var': None}}]]}]"
      ]
     },
     "execution_count": 32,
     "metadata": {},
     "output_type": "execute_result"
    }
   ],
   "source": [
    "results[0:2]# limit results for readability"
   ]
  },
  {
   "cell_type": "markdown",
   "metadata": {},
   "source": [
    "We can also get a specific step from the design process:"
   ]
  },
  {
   "cell_type": "code",
   "execution_count": 33,
   "metadata": {},
   "outputs": [
    {
     "data": {
      "text/plain": [
       "[{'step': 1,\n",
       "  'sample_index': 16,\n",
       "  'sequence': 'WRHGDISSSNDTVGVAVVNYKMPRLHTAAEVLDNARKIAEMIVGMKQGLPGMDLVVFPEYSLQGIMYDPAEMMETAVAIPGEETEIFSRACRKANVWGVFSLTGERHEEHPRKAPYNTLVLIDNNGEIVQKYRKIIPWCPIEGWYPGGQTYVSEGPKGMKISLIICDDGNYPEIWRDCAMKGAELIVRCQGYMYPAKDQQVMMAKAMAWANNCYVAVANAAGFDGVYSYFGHSAIIGFDGRTLGECGEEEMGIQYAQLSLSQIRDARANDQSQNHLFKILHRGYSGLQASGDGDRGLAECPFEFYRTWVTDAEKARENVERLTRSTTGVAQCPVGRLPYEGLEKEA',\n",
       "  'scores': [[{'score': 0.0,\n",
       "     'metadata': {'y_mu': -2.1514909267425537,\n",
       "      'y_var': 0.00010183453559875488}}],\n",
       "   [{'score': 346.0, 'metadata': {'y_mu': None, 'y_var': None}}]]},\n",
       " {'step': 1,\n",
       "  'sample_index': 17,\n",
       "  'sequence': 'WRGGDISSSNDTVGVAVVNYKMPRLHTAAEVLDNARKIAEMIVGMKQGLPGMDLVVFPEYSLQGIMYDPAEMMETAVAIPGEETEIFSRACRKANVWGVFSLTGERHEEHPRKAPYNTLVLIDNNGEIVQKYRKIIPWCPIEGWYPGGQTYVSEGPKGMKISLIICDDGNYPEIWRDCAMKGAELIVRCQGYMYPAKDQQVMMAKAMAWANNCYVAVANAAGFDGVYSYFGHSAIIGFDGRTLGECGEEEMGIQYAQLSLSQIRDARANDQSQNHLFKILHRGYSGLQASGDGDRGLAECPFEFYRTWVTDAEKARENVERLTRSTTGVAQCPVGRLPYEGLEKEA',\n",
       "  'scores': [[{'score': 0.0,\n",
       "     'metadata': {'y_mu': -2.1378421783447266,\n",
       "      'y_var': 0.0019527673721313477}}],\n",
       "   [{'score': 345.0, 'metadata': {'y_mu': None, 'y_var': None}}]]}]"
      ]
     },
     "execution_count": 33,
     "metadata": {},
     "output_type": "execute_result"
    }
   ],
   "source": [
    "design_job.get(step=1)[0:2] # limit results for readability"
   ]
  },
  {
   "cell_type": "markdown",
   "metadata": {},
   "source": [
    "## Resume workflows \n",
    "\n",
    "Lastly, it's possible to resume from where you left off with the job id:"
   ]
  },
  {
   "cell_type": "code",
   "execution_count": 35,
   "metadata": {},
   "outputs": [
    {
     "data": {
      "text/plain": [
       "Job(status=<JobStatus.SUCCESS: 'SUCCESS'>, job_id='150860c1-d8b0-4804-8914-28409bbcc0fe', job_type='/workflow/train', created_date=datetime.datetime(2024, 4, 9, 2, 4, 38, 309629), start_date=datetime.datetime(2024, 4, 9, 2, 5, 39, 87864), end_date=datetime.datetime(2024, 4, 9, 2, 5, 53, 926863), prerequisite_job_id='ccad1469-5843-414c-90cd-2f93149df1f3', progress_message=None, progress_counter=None, num_records=None, sequence_length=None)"
      ]
     },
     "execution_count": 35,
     "metadata": {},
     "output_type": "execute_result"
    }
   ],
   "source": [
    "train = session.load_job(train_id)\n",
    "train"
   ]
  },
  {
   "cell_type": "markdown",
   "metadata": {},
   "source": [
    "This reloaded job can be used as above for predict or design tasks, and those can also be reloaded!"
   ]
  },
  {
   "cell_type": "code",
   "execution_count": 36,
   "metadata": {},
   "outputs": [
    {
     "data": {
      "text/plain": [
       "PredictJob(status=<JobStatus.SUCCESS: 'SUCCESS'>, job_id='44658be8-90e4-4fda-9adf-250332de6754', job_type=<JobType.workflow_predict: '/workflow/predict'>, created_date=datetime.datetime(2024, 4, 9, 2, 6, 5, 583324), start_date=datetime.datetime(2024, 4, 9, 2, 6, 13, 707885), end_date=datetime.datetime(2024, 4, 9, 2, 6, 24, 363649), prerequisite_job_id='150860c1-d8b0-4804-8914-28409bbcc0fe', progress_message=None, progress_counter=None, num_records=None, sequence_length=None, result=None)"
      ]
     },
     "execution_count": 36,
     "metadata": {},
     "output_type": "execute_result"
    }
   ],
   "source": [
    "pjob = session.load_job(pjob_id)\n",
    "pjob"
   ]
  }
 ],
 "metadata": {
  "kernelspec": {
   "display_name": "py38",
   "language": "python",
   "name": "python3"
  },
  "language_info": {
   "codemirror_mode": {
    "name": "ipython",
    "version": 3
   },
   "file_extension": ".py",
   "mimetype": "text/x-python",
   "name": "python",
   "nbconvert_exporter": "python",
   "pygments_lexer": "ipython3",
   "version": "3.8.16"
  },
  "orig_nbformat": 4
 },
 "nbformat": 4,
 "nbformat_minor": 2
}
