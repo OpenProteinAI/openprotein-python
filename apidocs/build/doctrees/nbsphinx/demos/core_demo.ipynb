{
 "cells": [
  {
   "cell_type": "code",
   "execution_count": 1,
   "metadata": {},
   "outputs": [],
   "source": [
    "%matplotlib inline"
   ]
  },
  {
   "cell_type": "markdown",
   "metadata": {},
   "source": [
    "# Demo of Core workflow functionality \n",
    "\n",
    "This notebook will briefly cover how to run `assaydata`, `train`, `predict`, `design` workflows. \n",
    "\n",
    "For more information please [read the docs](https://docs.openprotein.ai/)."
   ]
  },
  {
   "cell_type": "code",
   "execution_count": 2,
   "metadata": {},
   "outputs": [],
   "source": [
    "import numpy as np\n",
    "import matplotlib\n",
    "import matplotlib.pyplot as plt\n",
    "import time\n",
    "import json\n",
    "import pandas as pd\n",
    "import seaborn as sns \n",
    "sns.set() \n",
    "\n",
    "from AWSTools.Batchtools.batch_utils import fakeseq # Used for creating fake protein sequences for testing\n"
   ]
  },
  {
   "cell_type": "markdown",
   "metadata": {},
   "source": [
    "## Setup\n",
    "\n",
    "Connect to the OpenProtein backend with your credentials:"
   ]
  },
  {
   "cell_type": "code",
   "execution_count": 3,
   "metadata": {},
   "outputs": [],
   "source": [
    "import openprotein_python as openprotein\n",
    "\n",
    "with open('../../../../secrets.config', 'r') as f:\n",
    "    config = json.load(f)\n",
    "\n",
    "session = openprotein.connect(username= config['username'], password= config['password']) "
   ]
  },
  {
   "cell_type": "markdown",
   "metadata": {},
   "source": [
    "Load some demo data:"
   ]
  },
  {
   "cell_type": "code",
   "execution_count": 4,
   "metadata": {},
   "outputs": [
    {
     "data": {
      "text/html": [
       "<div>\n",
       "<style scoped>\n",
       "    .dataframe tbody tr th:only-of-type {\n",
       "        vertical-align: middle;\n",
       "    }\n",
       "\n",
       "    .dataframe tbody tr th {\n",
       "        vertical-align: top;\n",
       "    }\n",
       "\n",
       "    .dataframe thead th {\n",
       "        text-align: right;\n",
       "    }\n",
       "</style>\n",
       "<table border=\"1\" class=\"dataframe\">\n",
       "  <thead>\n",
       "    <tr style=\"text-align: right;\">\n",
       "      <th></th>\n",
       "      <th>sequence</th>\n",
       "      <th>isobutyramide_normalized_fitness</th>\n",
       "      <th>acetamide_normalized_fitness</th>\n",
       "      <th>propionamide_normalized_fitness</th>\n",
       "    </tr>\n",
       "  </thead>\n",
       "  <tbody>\n",
       "    <tr>\n",
       "      <th>0</th>\n",
       "      <td>WRHGDISSSNDTVGVAVVNYKMPRLHTAAEVLDNARKIAEMIVGMK...</td>\n",
       "      <td>-0.5174</td>\n",
       "      <td>NaN</td>\n",
       "      <td>NaN</td>\n",
       "    </tr>\n",
       "    <tr>\n",
       "      <th>1</th>\n",
       "      <td>WRHGDISSSNDTVGVAVVNYKMPRLHTAAEVLDNARKIAEMIVGMK...</td>\n",
       "      <td>-0.5154</td>\n",
       "      <td>-2.1514</td>\n",
       "      <td>-1.1457</td>\n",
       "    </tr>\n",
       "  </tbody>\n",
       "</table>\n",
       "</div>"
      ],
      "text/plain": [
       "                                            sequence  \\\n",
       "0  WRHGDISSSNDTVGVAVVNYKMPRLHTAAEVLDNARKIAEMIVGMK...   \n",
       "1  WRHGDISSSNDTVGVAVVNYKMPRLHTAAEVLDNARKIAEMIVGMK...   \n",
       "\n",
       "   isobutyramide_normalized_fitness  acetamide_normalized_fitness  \\\n",
       "0                           -0.5174                           NaN   \n",
       "1                           -0.5154                       -2.1514   \n",
       "\n",
       "   propionamide_normalized_fitness  \n",
       "0                              NaN  \n",
       "1                          -1.1457  "
      ]
     },
     "execution_count": 4,
     "metadata": {},
     "output_type": "execute_result"
    }
   ],
   "source": [
    "dataset = pd.read_csv(\"./data/core.csv\")\n",
    "dataset.head(2)"
   ]
  },
  {
   "cell_type": "markdown",
   "metadata": {},
   "source": [
    "## Data Upload\n",
    "\n",
    "Create the Demo data in the backend to be able to use it with our suite of tools:"
   ]
  },
  {
   "cell_type": "code",
   "execution_count": 5,
   "metadata": {},
   "outputs": [
    {
     "data": {
      "text/plain": [
       "AssayMetadata(assay_name='Dataset Name', assay_description='Dataset description', assay_id='4c0e52b6-92f6-44b1-903e-34470c1338bf', original_filename='assay_data', created_date=datetime.datetime(2023, 8, 4, 4, 9, 40, 976130), num_rows=15, num_entries=41, measurement_names=['isobutyramide_normalized_fitness', 'acetamide_normalized_fitness', 'propionamide_normalized_fitness'], sequence_length=346)"
      ]
     },
     "execution_count": 5,
     "metadata": {},
     "output_type": "execute_result"
    }
   ],
   "source": [
    "# Create\n",
    "assay = session.data.create(dataset, \"Dataset Name\", \"Dataset description\")\n",
    "assay_id = assay.id\n",
    "assay"
   ]
  },
  {
   "cell_type": "markdown",
   "metadata": {},
   "source": [
    "We could also have loaded a job from an old job ID. This will be faster and more efficient for users resuming workflows:"
   ]
  },
  {
   "cell_type": "code",
   "execution_count": 6,
   "metadata": {},
   "outputs": [],
   "source": [
    "assay = session.data.load_job(assay_id) # can reload job to resume workflows"
   ]
  },
  {
   "cell_type": "code",
   "execution_count": 7,
   "metadata": {},
   "outputs": [
    {
     "data": {
      "text/html": [
       "<div>\n",
       "<style scoped>\n",
       "    .dataframe tbody tr th:only-of-type {\n",
       "        vertical-align: middle;\n",
       "    }\n",
       "\n",
       "    .dataframe tbody tr th {\n",
       "        vertical-align: top;\n",
       "    }\n",
       "\n",
       "    .dataframe thead th {\n",
       "        text-align: right;\n",
       "    }\n",
       "</style>\n",
       "<table border=\"1\" class=\"dataframe\">\n",
       "  <thead>\n",
       "    <tr style=\"text-align: right;\">\n",
       "      <th></th>\n",
       "      <th>sequence</th>\n",
       "      <th>isobutyramide_normalized_fitness</th>\n",
       "      <th>acetamide_normalized_fitness</th>\n",
       "      <th>propionamide_normalized_fitness</th>\n",
       "    </tr>\n",
       "  </thead>\n",
       "  <tbody>\n",
       "    <tr>\n",
       "      <th>0</th>\n",
       "      <td>WRHGDISSSNDTVGVAVVNYKMPRLHTAAEVLDNARKIAEMIVGMK...</td>\n",
       "      <td>-0.5174</td>\n",
       "      <td>None</td>\n",
       "      <td>None</td>\n",
       "    </tr>\n",
       "  </tbody>\n",
       "</table>\n",
       "</div>"
      ],
      "text/plain": [
       "                                            sequence  \\\n",
       "0  WRHGDISSSNDTVGVAVVNYKMPRLHTAAEVLDNARKIAEMIVGMK...   \n",
       "\n",
       "   isobutyramide_normalized_fitness acetamide_normalized_fitness  \\\n",
       "0                           -0.5174                         None   \n",
       "\n",
       "  propionamide_normalized_fitness  \n",
       "0                            None  "
      ]
     },
     "execution_count": 7,
     "metadata": {},
     "output_type": "execute_result"
    }
   ],
   "source": [
    "assay.get_first()"
   ]
  },
  {
   "cell_type": "code",
   "execution_count": 8,
   "metadata": {},
   "outputs": [
    {
     "data": {
      "text/html": [
       "<div>\n",
       "<style scoped>\n",
       "    .dataframe tbody tr th:only-of-type {\n",
       "        vertical-align: middle;\n",
       "    }\n",
       "\n",
       "    .dataframe tbody tr th {\n",
       "        vertical-align: top;\n",
       "    }\n",
       "\n",
       "    .dataframe thead th {\n",
       "        text-align: right;\n",
       "    }\n",
       "</style>\n",
       "<table border=\"1\" class=\"dataframe\">\n",
       "  <thead>\n",
       "    <tr style=\"text-align: right;\">\n",
       "      <th></th>\n",
       "      <th>sequence</th>\n",
       "      <th>isobutyramide_normalized_fitness</th>\n",
       "      <th>acetamide_normalized_fitness</th>\n",
       "      <th>propionamide_normalized_fitness</th>\n",
       "    </tr>\n",
       "  </thead>\n",
       "  <tbody>\n",
       "    <tr>\n",
       "      <th>0</th>\n",
       "      <td>MRHGDISSSNDTVGVAVVNYKMPRLHTAAEVLDNARKWAEMIVGMK...</td>\n",
       "      <td>NaN</td>\n",
       "      <td>NaN</td>\n",
       "      <td>-0.7550</td>\n",
       "    </tr>\n",
       "    <tr>\n",
       "      <th>1</th>\n",
       "      <td>MRHGDISSSNDTVGVAVVNYKMPRLHTAAEVLDNARKYAEMIVGMK...</td>\n",
       "      <td>-0.7448</td>\n",
       "      <td>-1.7992</td>\n",
       "      <td>-0.9711</td>\n",
       "    </tr>\n",
       "  </tbody>\n",
       "</table>\n",
       "</div>"
      ],
      "text/plain": [
       "                                            sequence  \\\n",
       "0  MRHGDISSSNDTVGVAVVNYKMPRLHTAAEVLDNARKWAEMIVGMK...   \n",
       "1  MRHGDISSSNDTVGVAVVNYKMPRLHTAAEVLDNARKYAEMIVGMK...   \n",
       "\n",
       "   isobutyramide_normalized_fitness  acetamide_normalized_fitness  \\\n",
       "0                               NaN                           NaN   \n",
       "1                           -0.7448                       -1.7992   \n",
       "\n",
       "   propionamide_normalized_fitness  \n",
       "0                          -0.7550  \n",
       "1                          -0.9711  "
      ]
     },
     "execution_count": 8,
     "metadata": {},
     "output_type": "execute_result"
    }
   ],
   "source": [
    "assay.get_slice(start=3, end=5)"
   ]
  },
  {
   "cell_type": "code",
   "execution_count": 9,
   "metadata": {},
   "outputs": [
    {
     "data": {
      "text/plain": [
       "346"
      ]
     },
     "execution_count": 9,
     "metadata": {},
     "output_type": "execute_result"
    }
   ],
   "source": [
    "assay.sequence_length"
   ]
  },
  {
   "cell_type": "markdown",
   "metadata": {},
   "source": [
    "## Model training\n",
    "\n",
    "We can use the assay object to create a training job:"
   ]
  },
  {
   "cell_type": "code",
   "execution_count": 10,
   "metadata": {},
   "outputs": [
    {
     "data": {
      "text/plain": [
       "Jobplus(status=<JobStatus.PENDING: 'PENDING'>, job_id='32f2b480-f6d9-4d0c-9aeb-ec521d9a7c16', job_type='/workflow/train', created_date=datetime.datetime(2023, 8, 4, 4, 9, 41, 265475), start_date=None, end_date=None, prerequisite_job_id='a5aad829-95d8-4b70-96fe-5d798219bcb5', progress_message=None, progress_counter=None, num_records=None, sequence_length=346)"
      ]
     },
     "execution_count": 10,
     "metadata": {},
     "output_type": "execute_result"
    }
   ],
   "source": [
    "train = session.train.create_training_job(assay,\n",
    "                                          measurement_name=[\"isobutyramide_normalized_fitness\", \"acetamide_normalized_fitness\"],\n",
    "                                          model_name=\"mymodel\") # name the resulting model\n",
    "train_id = train.id\n",
    "train"
   ]
  },
  {
   "cell_type": "code",
   "execution_count": 11,
   "metadata": {},
   "outputs": [],
   "source": [
    "#train = session.train.load_job(train_id)\n",
    "#train"
   ]
  },
  {
   "cell_type": "code",
   "execution_count": 12,
   "metadata": {},
   "outputs": [
    {
     "data": {
      "text/plain": [
       "<JobStatus.PENDING: 'PENDING'>"
      ]
     },
     "execution_count": 12,
     "metadata": {},
     "output_type": "execute_result"
    }
   ],
   "source": [
    "train.refresh()\n",
    "train.status"
   ]
  },
  {
   "cell_type": "markdown",
   "metadata": {},
   "source": [
    "We can wait for the results before proceeding:"
   ]
  },
  {
   "cell_type": "code",
   "execution_count": 13,
   "metadata": {},
   "outputs": [],
   "source": [
    "results = train.wait(verbose=False)"
   ]
  },
  {
   "cell_type": "code",
   "execution_count": 14,
   "metadata": {},
   "outputs": [
    {
     "data": {
      "image/png": "[encoded data removed]",
      "text/plain": [
       "<Figure size 640x480 with 1 Axes>"
      ]
     },
     "metadata": {},
     "output_type": "display_data"
    }
   ],
   "source": [
    "isobut_results = [i for i in results.traingraph if i.tag==\"isobutyramide_normalized_fitness\"]\n",
    "sns.scatterplot(x=[i.step for i in isobut_results], y=[i.loss for i in isobut_results])\n",
    "plt.xlabel(\"Steps\")\n",
    "plt.ylabel(\"Loss\");"
   ]
  },
  {
   "cell_type": "markdown",
   "metadata": {},
   "source": [
    "We can also request a cross-validation job to see the training results in more detail:"
   ]
  },
  {
   "cell_type": "code",
   "execution_count": 15,
   "metadata": {},
   "outputs": [
    {
     "data": {
      "text/plain": [
       "'d86e8ede-2d10-4def-86bc-d84c87a83206'"
      ]
     },
     "execution_count": 15,
     "metadata": {},
     "output_type": "execute_result"
    }
   ],
   "source": [
    "train.crossvalidate()\n",
    "train.crossvalidation.id"
   ]
  },
  {
   "cell_type": "code",
   "execution_count": 16,
   "metadata": {},
   "outputs": [],
   "source": [
    "cvdata = train.crossvalidation.wait()"
   ]
  },
  {
   "cell_type": "code",
   "execution_count": 17,
   "metadata": {},
   "outputs": [
    {
     "data": {
      "image/png": "[encoded data removed]",
      "text/plain": [
       "<Figure size 640x480 with 1 Axes>"
      ]
     },
     "metadata": {},
     "output_type": "display_data"
    }
   ],
   "source": [
    "cvresult = [i for i in cvdata if i.measurement_name == \"isobutyramide_normalized_fitness\"]\n",
    "\n",
    "sns.regplot(x=[i.y for i in cvresult], y=[i.y_mu for i in cvresult])\n",
    "plt.xlabel(\"Y\")\n",
    "plt.ylabel(\"Y-hat\");"
   ]
  },
  {
   "cell_type": "markdown",
   "metadata": {},
   "source": [
    "We can examine the models associated with a train or assaydata set. These will be identical here but multiple train jobs are possible on a single assaydata:"
   ]
  },
  {
   "cell_type": "code",
   "execution_count": 18,
   "metadata": {},
   "outputs": [
    {
     "data": {
      "text/plain": [
       "[{'name': 'mymodel - acetamide_normalized_fitness',\n",
       "  'description': '',\n",
       "  'model_id': 'b565e080-ddb5-418c-9f67-c0468990e57a',\n",
       "  'training_assaydata': '4c0e52b6-92f6-44b1-903e-34470c1338bf',\n",
       "  'job_id': '32f2b480-f6d9-4d0c-9aeb-ec521d9a7c16',\n",
       "  'created_date': '2023-08-04T04:11:22.933136',\n",
       "  'model_type': 'EXACT_GP',\n",
       "  'additional_metadata': {'input_dims': 13,\n",
       "   'embedding_model': 'TorchLowRankSVD',\n",
       "   'sequence_length': 346,\n",
       "   'projection_layer': '4c0e52b6-92f6-44b1-903e-34470c1338bf_pca.joblib',\n",
       "   'measurement_names': ['acetamide_normalized_fitness'],\n",
       "   'original_task_index': 1}},\n",
       " {'name': 'mymodel - isobutyramide_normalized_fitness',\n",
       "  'description': '',\n",
       "  'model_id': '32f2b480-f6d9-4d0c-9aeb-ec521d9a7c16',\n",
       "  'training_assaydata': '4c0e52b6-92f6-44b1-903e-34470c1338bf',\n",
       "  'job_id': '32f2b480-f6d9-4d0c-9aeb-ec521d9a7c16',\n",
       "  'created_date': '2023-08-04T04:11:22.395893',\n",
       "  'model_type': 'EXACT_GP',\n",
       "  'additional_metadata': {'input_dims': 13,\n",
       "   'embedding_model': 'TorchLowRankSVD',\n",
       "   'sequence_length': 346,\n",
       "   'projection_layer': '4c0e52b6-92f6-44b1-903e-34470c1338bf_pca.joblib',\n",
       "   'measurement_names': ['isobutyramide_normalized_fitness'],\n",
       "   'original_task_index': 0}}]"
      ]
     },
     "execution_count": 18,
     "metadata": {},
     "output_type": "execute_result"
    }
   ],
   "source": [
    "train.list_models()"
   ]
  },
  {
   "cell_type": "code",
   "execution_count": 19,
   "metadata": {},
   "outputs": [
    {
     "data": {
      "text/plain": [
       "[{'name': 'mymodel - acetamide_normalized_fitness',\n",
       "  'description': '',\n",
       "  'model_id': 'b565e080-ddb5-418c-9f67-c0468990e57a',\n",
       "  'training_assaydata': '4c0e52b6-92f6-44b1-903e-34470c1338bf',\n",
       "  'job_id': '32f2b480-f6d9-4d0c-9aeb-ec521d9a7c16',\n",
       "  'created_date': '2023-08-04T04:11:22.933136',\n",
       "  'model_type': 'EXACT_GP',\n",
       "  'additional_metadata': {'input_dims': 13,\n",
       "   'embedding_model': 'TorchLowRankSVD',\n",
       "   'sequence_length': 346,\n",
       "   'projection_layer': '4c0e52b6-92f6-44b1-903e-34470c1338bf_pca.joblib',\n",
       "   'measurement_names': ['acetamide_normalized_fitness'],\n",
       "   'original_task_index': 1}},\n",
       " {'name': 'mymodel - isobutyramide_normalized_fitness',\n",
       "  'description': '',\n",
       "  'model_id': '32f2b480-f6d9-4d0c-9aeb-ec521d9a7c16',\n",
       "  'training_assaydata': '4c0e52b6-92f6-44b1-903e-34470c1338bf',\n",
       "  'job_id': '32f2b480-f6d9-4d0c-9aeb-ec521d9a7c16',\n",
       "  'created_date': '2023-08-04T04:11:22.395893',\n",
       "  'model_type': 'EXACT_GP',\n",
       "  'additional_metadata': {'input_dims': 13,\n",
       "   'embedding_model': 'TorchLowRankSVD',\n",
       "   'sequence_length': 346,\n",
       "   'projection_layer': '4c0e52b6-92f6-44b1-903e-34470c1338bf_pca.joblib',\n",
       "   'measurement_names': ['isobutyramide_normalized_fitness'],\n",
       "   'original_task_index': 0}}]"
      ]
     },
     "execution_count": 19,
     "metadata": {},
     "output_type": "execute_result"
    }
   ],
   "source": [
    "assay.list_models()"
   ]
  },
  {
   "cell_type": "markdown",
   "metadata": {},
   "source": [
    "Let's take one of these models for further use:"
   ]
  },
  {
   "cell_type": "code",
   "execution_count": 20,
   "metadata": {},
   "outputs": [
    {
     "data": {
      "text/plain": [
       "{'name': 'mymodel - acetamide_normalized_fitness',\n",
       " 'description': '',\n",
       " 'model_id': 'b565e080-ddb5-418c-9f67-c0468990e57a',\n",
       " 'training_assaydata': '4c0e52b6-92f6-44b1-903e-34470c1338bf',\n",
       " 'job_id': '32f2b480-f6d9-4d0c-9aeb-ec521d9a7c16',\n",
       " 'created_date': '2023-08-04T04:11:22.933136',\n",
       " 'model_type': 'EXACT_GP',\n",
       " 'additional_metadata': {'input_dims': 13,\n",
       "  'embedding_model': 'TorchLowRankSVD',\n",
       "  'sequence_length': 346,\n",
       "  'projection_layer': '4c0e52b6-92f6-44b1-903e-34470c1338bf_pca.joblib',\n",
       "  'measurement_names': ['acetamide_normalized_fitness'],\n",
       "  'original_task_index': 1}}"
      ]
     },
     "execution_count": 20,
     "metadata": {},
     "output_type": "execute_result"
    }
   ],
   "source": [
    "model_id = train.list_models()[0]['model_id']\n",
    "train.list_models()[0]"
   ]
  },
  {
   "cell_type": "markdown",
   "metadata": {},
   "source": [
    "## Sequence design\n",
    "\n",
    "We can set up a design job using our trained model as a criteria:"
   ]
  },
  {
   "cell_type": "code",
   "execution_count": 22,
   "metadata": {},
   "outputs": [
    {
     "data": {
      "text/plain": [
       "{'assay_id': '4c0e52b6-92f6-44b1-903e-34470c1338bf',\n",
       " 'criteria': [[{'criterion_type': 'model',\n",
       "    'model_id': 'b565e080-ddb5-418c-9f67-c0468990e57a',\n",
       "    'measurement_name': 'acetamide_normalized_fitness',\n",
       "    'criterion': {'target': -0.5, 'weight': 1.0, 'direction': '<'}}],\n",
       "  [{'criterion_type': 'n_mutations'}]],\n",
       " 'num_steps': 10,\n",
       " 'pop_size': None,\n",
       " 'n_offsprings': None,\n",
       " 'crossover_prob': None,\n",
       " 'crossover_prob_pointwise': None,\n",
       " 'mutation_average_mutations_per_seq': None,\n",
       " 'mutation_positions': [2, 13]}"
      ]
     },
     "execution_count": 22,
     "metadata": {},
     "output_type": "execute_result"
    }
   ],
   "source": [
    "from openprotein_python.models import DesignJobCreate, ModelCriterion, NMutationCriterion, Criterion\n",
    "design_data = DesignJobCreate(\n",
    "    assay_id=assay.id,\n",
    "    criteria=[\n",
    "        [\n",
    "            ModelCriterion(\n",
    "                criterion_type='model',\n",
    "                model_id=model_id,\n",
    "                measurement_name=\"acetamide_normalized_fitness\",\n",
    "                criterion=Criterion(target=-0.5, weight=1.0, direction=\"<\")\n",
    "            ),\n",
    "        ],\n",
    "        [NMutationCriterion(criterion_type=\"n_mutations\", )]\n",
    "    ],\n",
    "    mutation_positions=[2,13],\n",
    "    num_steps=10\n",
    ")\n",
    "\n",
    "\n",
    "json.loads(design_data.json())\n",
    "\n"
   ]
  },
  {
   "cell_type": "code",
   "execution_count": 23,
   "metadata": {},
   "outputs": [
    {
     "data": {
      "text/plain": [
       "Job(status=<JobStatus.PENDING: 'PENDING'>, job_id='7379c52b-a7b9-48b2-8d62-5583b2724a47', job_type='/workflow/design', created_date=datetime.datetime(2023, 8, 4, 4, 11, 48, 431695), start_date=None, end_date=None, prerequisite_job_id=None, progress_message=None, progress_counter=None, num_records=None)"
      ]
     },
     "execution_count": 23,
     "metadata": {},
     "output_type": "execute_result"
    }
   ],
   "source": [
    "# create the design job\n",
    "design_job = session.design.create_design_job(design_data)\n",
    "design_id = design_job.id\n",
    "design_job"
   ]
  },
  {
   "cell_type": "code",
   "execution_count": 24,
   "metadata": {},
   "outputs": [],
   "source": [
    "\n",
    "#design_job = session.design.load_job(design_id)\n"
   ]
  },
  {
   "cell_type": "code",
   "execution_count": 25,
   "metadata": {},
   "outputs": [
    {
     "data": {
      "text/plain": [
       "[DesignStep(step=9, sample_index=2557, sequence='MRHGDIMSSNMTVGVAVVFPKMPRDRSGEWRLDNADKIKYMTAGMKRKQQQYQLVVEPIRVWQGQMWDYAEYTEQMCYIPGCETSIHSDACKKVNVWGVYSLMGEKHEEHIDKAQYYTCDLIDMDGTFADKYYKISPWYQIEQWYWGQQDYVSRDPVDMKIYLAFCDCHNYPEIWYDTAMKGAYCCVPCNGSMQPAKDDEQQMAKAMQWCHNCYVEVKNMASGSGVQSDFRVSASIIFDQRIVAETGCTEMCIQYAQLSLSDQRYARCEPQSINKQFTIQMRGYSGLQASGDGDRPLIACPRHFVRTYVGTRVIYRESVHGNIRSTTGSAQADVGAWEYKMYENDA', initial_scores=[0, 195], scores=[[DesignSubscore(score=0, metadata=DesignMetadata(y_mu=-1.0524402856826782, y_var=0.008635343983769417))], [DesignSubscore(score=195, metadata=DesignMetadata(y_mu=None, y_var=None))]], umap1=9.221505165100098, umap2=5.6895341873168945),\n",
       " DesignStep(step=9, sample_index=2558, sequence='RRHGDISSNWDTYGVRVVNYTCPRLGHWAEVLANAPNCPGQILGMRLMLRGATGGRCPMYSLMGIMLTCAERMLTAQACVSETVHDFSEACRVATVWGVFKAGTQRCEECGIKGPYNCLVLIPQNGEAQQCYRKILLPCPMEGDYAQTQTYDSANPKGFESSQNHCRDPNEPSEWRDCASFGAELIVRCQGYRYPAKQIWPMNPKNMRWANNWYTGVANAACRDPHESIFPHSMIRGFDGRTWGYQGWEECITQCFQESLQQILSCRANDQSQNETFKIVKRSWRVLQALKRGDRGLNELCFRFYRTWVNDCPKARENVGRLTRSSPGCAQWSVGGLNYWGLEHRA', initial_scores=[0, 196], scores=[[DesignSubscore(score=0, metadata=DesignMetadata(y_mu=-1.0524402856826782, y_var=0.008635343983769417))], [DesignSubscore(score=196, metadata=DesignMetadata(y_mu=None, y_var=None))]], umap1=6.276093482971191, umap2=3.623070240020752),\n",
       " DesignStep(step=9, sample_index=2559, sequence='MRHGDISSSNDTVGVAVVNYKMPRLHTAAEVLDNARKLAEMIVGMKQGLPGMDLVVFPEYSLQGIMYDPAEMMETAVAIPGEETEIFSRACRKANVWGVFSLTGERHEEHPRKAPYNTLVLIDNNGEIVQKYRKIIPWCPIEGWYPGGQTYVSEGPKGMKISLIICDDGNYPEIWRDCAMKGAELIVRCQGYMYPAKDQQVMMAKAMAWANNCYVAVANAAGFDGVYSYFGHSAIIGFDGRTLGECGEEEMGIQYAQLSLSQIRDARANDQSQNHLFKILHRGYSGLQASGDGDRGLAECPFEFYRTWVTDAEKARENVERLTRSTTGVAQCPVGRLPYEGLEKEA', initial_scores=[0, 346], scores=[[DesignSubscore(score=0, metadata=DesignMetadata(y_mu=-1.0229432582855225, y_var=0.008387535810470581))], [DesignSubscore(score=346, metadata=DesignMetadata(y_mu=None, y_var=None))]], umap1=6.0364813804626465, umap2=4.060112476348877)]"
      ]
     },
     "execution_count": 25,
     "metadata": {},
     "output_type": "execute_result"
    }
   ],
   "source": [
    "results = design_job.wait()\n",
    "results[-3:]"
   ]
  },
  {
   "cell_type": "markdown",
   "metadata": {},
   "source": [
    "We can access the design results:"
   ]
  },
  {
   "cell_type": "code",
   "execution_count": 26,
   "metadata": {},
   "outputs": [
    {
     "data": {
      "text/plain": [
       "[[DesignSubscore(score=0, metadata=DesignMetadata(y_mu=-1.0229432582855225, y_var=0.008387535810470581))],\n",
       " [DesignSubscore(score=346, metadata=DesignMetadata(y_mu=None, y_var=None))]]"
      ]
     },
     "execution_count": 26,
     "metadata": {},
     "output_type": "execute_result"
    }
   ],
   "source": [
    "results[-1].scores"
   ]
  },
  {
   "cell_type": "markdown",
   "metadata": {},
   "source": [
    "## Sequence predictions\n",
    "\n",
    "We can also predict scores for new sequences using our models trained on our old sequences:"
   ]
  },
  {
   "cell_type": "code",
   "execution_count": 27,
   "metadata": {},
   "outputs": [
    {
     "data": {
      "text/plain": [
       "['MVINYHGGMLRTPNHQMEMFQPEFYKCDGILVREQCWLKKWGGIPEFHARIMDCFQQQARMAGNKPIGYKHLYLLHMWCFEVIQAFTNQIAYGKQLPGDHPRTNWYHFEHTMNCNPQLHFTSGSLYRSTMEKLAYSCNYTYCVQTHMYYHRREVIEMLSPSNPARTARHHPHVDMELQIIINVENQVVIPTDWNPWWIRIMCIEPDRWDCMQKKDKVFSTHFRNINVCIRPEHRDDIFDEMYCKYPHRVECQHFSGWKGLPNINPHHRTFTTCGMDPPRMWCLRKVWIDTGKYPAFYSEAQGQFQCPKYEKDAYAKGFRTELGHEISSQYEVGNFTMTNQAIAGLA',\n",
       " 'QRMNDISWFCLAEWYWYKKEWILMFLCDTDGDENQAKCQQINVQIIIYVPSRAVVEIMEALFVMSAHLYWYTAVADNFLLDSHLLDGRDNTTFMIIGTRQWSIVHRSGLSYYKQNDLSNKLQMQKRRLLMPEMWWIRNWPWLQLVLNMENARHTGYYHQSRNGVWQWIDLLEAQRGCHQRGYVNTRQALFFAADHQLWDHTIIYTVQWEPAHQKDDQVRKMICAEYDCIIVKSSAYCFCNFQFHQKEFGFKCFIVSHGALSLTYLHYVVFRPKEEPHWHGTISACKDDRPYGLWLMGTPPYFWAPSGKLANWNMMEPCETQDCFANNYPESWLKFWWVMTTGSKPS',\n",
       " 'NSIMWHDIKCPRMMQWAWHVDNVATEVNTYNGDQTKGNGKFAHAQPSHFPYMFFWQMAIMGYHIDAAFPCLKNELVHGMCQWECLCIVNGRPVKPYENSVFSYHYDSEAKSYKFDKEEPMMFQFFELIQTATTHEYVWHECSSNQQNIGLNSQMNRHICQPEILIPLYRVTLLESGPMIVRHSAIKTYEPGPGWLPTGDFIKSFRQRTDMLIWTGFNRNVRVVGMMAFKTMHLGPAVCEFSQEDHHDHTLRWKHKWTKACKYWDIRQIANQLPCFSELEHKKTLIHCETQKDKFESKWLMRMLCDRPHSEVDMYHHCQAVNFERKWTSLQGWCQSGKVTYPCDDPT']"
      ]
     },
     "execution_count": 27,
     "metadata": {},
     "output_type": "execute_result"
    }
   ],
   "source": [
    "# Create some random sequences to predict\n",
    "np.random.seed(111)\n",
    "p_seqs = [fakeseq(assay.sequence_length) for i in range(3)]\n",
    "p_seqs\n"
   ]
  },
  {
   "cell_type": "code",
   "execution_count": 28,
   "metadata": {},
   "outputs": [
    {
     "data": {
      "text/plain": [
       "Job(status=<JobStatus.PENDING: 'PENDING'>, job_id='d7fe72d9-1f5b-4889-ad66-2f4a9b619978', job_type='/workflow/predict', created_date=None, start_date=None, end_date=None, prerequisite_job_id=None, progress_message=None, progress_counter=0, num_records=None)"
      ]
     },
     "execution_count": 28,
     "metadata": {},
     "output_type": "execute_result"
    }
   ],
   "source": [
    "pjob = session.predict.create_predict_job(sequences=p_seqs, train_job=train)\n",
    "pjob_id = pjob.id\n",
    "pjob\n"
   ]
  },
  {
   "cell_type": "code",
   "execution_count": 29,
   "metadata": {},
   "outputs": [
    {
     "name": "stderr",
     "output_type": "stream",
     "text": [
      "Waiting: 100%|██████████| 100/100 [00:35<00:00,  2.83it/s, status=SUCCESS]\n"
     ]
    }
   ],
   "source": [
    "results = pjob.wait(verbose=True)"
   ]
  },
  {
   "cell_type": "code",
   "execution_count": 30,
   "metadata": {},
   "outputs": [
    {
     "data": {
      "text/plain": [
       "{'sequence': 'MVINYHGGMLRTPNHQMEMFQPEFYKCDGILVREQCWLKKWGGIPEFHARIMDCFQQQARMAGNKPIGYKHLYLLHMWCFEVIQAFTNQIAYGKQLPGDHPRTNWYHFEHTMNCNPQLHFTSGSLYRSTMEKLAYSCNYTYCVQTHMYYHRREVIEMLSPSNPARTARHHPHVDMELQIIINVENQVVIPTDWNPWWIRIMCIEPDRWDCMQKKDKVFSTHFRNINVCIRPEHRDDIFDEMYCKYPHRVECQHFSGWKGLPNINPHHRTFTTCGMDPPRMWCLRKVWIDTGKYPAFYSEAQGQFQCPKYEKDAYAKGFRTELGHEISSQYEVGNFTMTNQAIAGLA',\n",
       " 'predictions': [{'model_id': '32f2b480-f6d9-4d0c-9aeb-ec521d9a7c16',\n",
       "   'model_name': 'mymodel - isobutyramide_normalized_fitness',\n",
       "   'properties': {'isobutyramide_normalized_fitness': {'y_mu': -0.579990804195404,\n",
       "     'y_var': 0.07199262827634811}}},\n",
       "  {'model_id': 'b565e080-ddb5-418c-9f67-c0468990e57a',\n",
       "   'model_name': 'mymodel - acetamide_normalized_fitness',\n",
       "   'properties': {'acetamide_normalized_fitness': {'y_mu': -1.0524402856826782,\n",
       "     'y_var': 0.008635327219963074}}}]}"
      ]
     },
     "execution_count": 30,
     "metadata": {},
     "output_type": "execute_result"
    }
   ],
   "source": [
    "results[0].dict()"
   ]
  },
  {
   "cell_type": "markdown",
   "metadata": {},
   "source": [
    "We can also send a single sequence for single site mutation analysis:"
   ]
  },
  {
   "cell_type": "code",
   "execution_count": 31,
   "metadata": {},
   "outputs": [],
   "source": [
    "sequence = assay.get_first().sequence[0]\n",
    "\n",
    "sspredict = session.predict.create_predict_single_site(sequence, train)"
   ]
  },
  {
   "cell_type": "code",
   "execution_count": 32,
   "metadata": {},
   "outputs": [
    {
     "name": "stderr",
     "output_type": "stream",
     "text": [
      "Waiting: 100%|██████████| 100/100 [04:21<00:00,  2.62s/it, status=SUCCESS]\n"
     ]
    },
    {
     "data": {
      "text/plain": [
       "[SequencePrediction(position=0, amino_acid='A', predictions=[Prediction(model_id='32f2b480-f6d9-4d0c-9aeb-ec521d9a7c16', model_name='mymodel - isobutyramide_normalized_fitness', properties={'isobutyramide_normalized_fitness': {'y_mu': -0.5117711424827576, 'y_var': 0.046446166932582855}}), Prediction(model_id='b565e080-ddb5-418c-9f67-c0468990e57a', model_name='mymodel - acetamide_normalized_fitness', properties={'acetamide_normalized_fitness': {'y_mu': -1.0585060119628906, 'y_var': 0.00857548974454403}})]),\n",
       " SequencePrediction(position=0, amino_acid='R', predictions=[Prediction(model_id='32f2b480-f6d9-4d0c-9aeb-ec521d9a7c16', model_name='mymodel - isobutyramide_normalized_fitness', properties={'isobutyramide_normalized_fitness': {'y_mu': -0.3882597088813782, 'y_var': 0.018137391656637192}}), Prediction(model_id='b565e080-ddb5-418c-9f67-c0468990e57a', model_name='mymodel - acetamide_normalized_fitness', properties={'acetamide_normalized_fitness': {'y_mu': -1.0603432655334473, 'y_var': 0.008428620174527168}})]),\n",
       " SequencePrediction(position=0, amino_acid='N', predictions=[Prediction(model_id='32f2b480-f6d9-4d0c-9aeb-ec521d9a7c16', model_name='mymodel - isobutyramide_normalized_fitness', properties={'isobutyramide_normalized_fitness': {'y_mu': -0.39606380462646484, 'y_var': 0.019559957087039948}}), Prediction(model_id='b565e080-ddb5-418c-9f67-c0468990e57a', model_name='mymodel - acetamide_normalized_fitness', properties={'acetamide_normalized_fitness': {'y_mu': -1.0605355501174927, 'y_var': 0.00843595527112484}})])]"
      ]
     },
     "execution_count": 32,
     "metadata": {},
     "output_type": "execute_result"
    }
   ],
   "source": [
    "ssp_results = sspredict.wait(verbose=True)\n",
    "ssp_results[0:3]"
   ]
  },
  {
   "cell_type": "code",
   "execution_count": 33,
   "metadata": {},
   "outputs": [
    {
     "data": {
      "text/plain": [
       "{'position': 0,\n",
       " 'amino_acid': 'A',\n",
       " 'predictions': [{'model_id': '32f2b480-f6d9-4d0c-9aeb-ec521d9a7c16',\n",
       "   'model_name': 'mymodel - isobutyramide_normalized_fitness',\n",
       "   'properties': {'isobutyramide_normalized_fitness': {'y_mu': -0.5117711424827576,\n",
       "     'y_var': 0.046446166932582855}}},\n",
       "  {'model_id': 'b565e080-ddb5-418c-9f67-c0468990e57a',\n",
       "   'model_name': 'mymodel - acetamide_normalized_fitness',\n",
       "   'properties': {'acetamide_normalized_fitness': {'y_mu': -1.0585060119628906,\n",
       "     'y_var': 0.00857548974454403}}}]}"
      ]
     },
     "execution_count": 33,
     "metadata": {},
     "output_type": "execute_result"
    }
   ],
   "source": [
    "ssp_results[0:3][0].dict()"
   ]
  },
  {
   "cell_type": "code",
   "execution_count": 36,
   "metadata": {},
   "outputs": [
    {
     "data": {
      "text/html": [
       "<div>\n",
       "<style scoped>\n",
       "    .dataframe tbody tr th:only-of-type {\n",
       "        vertical-align: middle;\n",
       "    }\n",
       "\n",
       "    .dataframe tbody tr th {\n",
       "        vertical-align: top;\n",
       "    }\n",
       "\n",
       "    .dataframe thead th {\n",
       "        text-align: right;\n",
       "    }\n",
       "</style>\n",
       "<table border=\"1\" class=\"dataframe\">\n",
       "  <thead>\n",
       "    <tr style=\"text-align: right;\">\n",
       "      <th></th>\n",
       "      <th>position</th>\n",
       "      <th>amino_acid</th>\n",
       "      <th>predictions</th>\n",
       "      <th>acetamide_normalized_fitness</th>\n",
       "    </tr>\n",
       "  </thead>\n",
       "  <tbody>\n",
       "    <tr>\n",
       "      <th>0</th>\n",
       "      <td>0</td>\n",
       "      <td>A</td>\n",
       "      <td>[{'model_id': '32f2b480-f6d9-4d0c-9aeb-ec521d9...</td>\n",
       "      <td>-1.058506</td>\n",
       "    </tr>\n",
       "    <tr>\n",
       "      <th>1</th>\n",
       "      <td>0</td>\n",
       "      <td>R</td>\n",
       "      <td>[{'model_id': '32f2b480-f6d9-4d0c-9aeb-ec521d9...</td>\n",
       "      <td>-1.060343</td>\n",
       "    </tr>\n",
       "    <tr>\n",
       "      <th>2</th>\n",
       "      <td>0</td>\n",
       "      <td>N</td>\n",
       "      <td>[{'model_id': '32f2b480-f6d9-4d0c-9aeb-ec521d9...</td>\n",
       "      <td>-1.060536</td>\n",
       "    </tr>\n",
       "    <tr>\n",
       "      <th>3</th>\n",
       "      <td>0</td>\n",
       "      <td>D</td>\n",
       "      <td>[{'model_id': '32f2b480-f6d9-4d0c-9aeb-ec521d9...</td>\n",
       "      <td>-1.064618</td>\n",
       "    </tr>\n",
       "    <tr>\n",
       "      <th>4</th>\n",
       "      <td>0</td>\n",
       "      <td>C</td>\n",
       "      <td>[{'model_id': '32f2b480-f6d9-4d0c-9aeb-ec521d9...</td>\n",
       "      <td>-1.067208</td>\n",
       "    </tr>\n",
       "  </tbody>\n",
       "</table>\n",
       "</div>"
      ],
      "text/plain": [
       "   position amino_acid                                        predictions  \\\n",
       "0         0          A  [{'model_id': '32f2b480-f6d9-4d0c-9aeb-ec521d9...   \n",
       "1         0          R  [{'model_id': '32f2b480-f6d9-4d0c-9aeb-ec521d9...   \n",
       "2         0          N  [{'model_id': '32f2b480-f6d9-4d0c-9aeb-ec521d9...   \n",
       "3         0          D  [{'model_id': '32f2b480-f6d9-4d0c-9aeb-ec521d9...   \n",
       "4         0          C  [{'model_id': '32f2b480-f6d9-4d0c-9aeb-ec521d9...   \n",
       "\n",
       "   acetamide_normalized_fitness  \n",
       "0                     -1.058506  \n",
       "1                     -1.060343  \n",
       "2                     -1.060536  \n",
       "3                     -1.064618  \n",
       "4                     -1.067208  "
      ]
     },
     "execution_count": 36,
     "metadata": {},
     "output_type": "execute_result"
    }
   ],
   "source": [
    "preds = pd.DataFrame([i.dict() for i in ssp_results])\n",
    "preds['acetamide_normalized_fitness'] = [i[1]['properties']['acetamide_normalized_fitness']['y_mu'] for i in preds.predictions]\n",
    "preds.head()"
   ]
  },
  {
   "cell_type": "code",
   "execution_count": 37,
   "metadata": {},
   "outputs": [
    {
     "data": {
      "image/png": "[encoded data removed]",
      "text/plain": [
       "<Figure size 1400x500 with 2 Axes>"
      ]
     },
     "metadata": {},
     "output_type": "display_data"
    }
   ],
   "source": [
    "\n",
    "df_pivot = preds.pivot(columns='position', index='amino_acid', values='acetamide_normalized_fitness')\n",
    "\n",
    "# Create  heatmap\n",
    "plt.figure(figsize=(14, 5))\n",
    "sns.heatmap(df_pivot, cmap='coolwarm', annot=False, fmt=\".2f\")\n",
    "plt.title('Acetamide Normalized Fitness Heatmap')\n",
    "plt.xlabel('Amino Acid')\n",
    "plt.ylabel('Position')\n",
    "plt.show()\n"
   ]
  },
  {
   "cell_type": "markdown",
   "metadata": {},
   "source": [
    "## Resume workflows \n",
    "\n",
    "Lastly, it's possible to resume from where you left off with the job id:"
   ]
  },
  {
   "cell_type": "code",
   "execution_count": 38,
   "metadata": {},
   "outputs": [
    {
     "data": {
      "text/plain": [
       "Jobplus(status=<JobStatus.SUCCESS: 'SUCCESS'>, job_id='32f2b480-f6d9-4d0c-9aeb-ec521d9a7c16', job_type='/workflow/train', created_date=datetime.datetime(2023, 8, 4, 4, 9, 41, 265475), start_date=datetime.datetime(2023, 8, 4, 4, 10, 50, 448570), end_date=datetime.datetime(2023, 8, 4, 4, 11, 23, 169511), prerequisite_job_id='a5aad829-95d8-4b70-96fe-5d798219bcb5', progress_message=None, progress_counter=None, num_records=None, sequence_length=346)"
      ]
     },
     "execution_count": 38,
     "metadata": {},
     "output_type": "execute_result"
    }
   ],
   "source": [
    "train = session.train.load_job(train_id)\n",
    "train"
   ]
  },
  {
   "cell_type": "markdown",
   "metadata": {},
   "source": [
    "This reloaded job can be used as above for predict or design tasks, and those can also be reloaded!"
   ]
  },
  {
   "cell_type": "code",
   "execution_count": 39,
   "metadata": {},
   "outputs": [
    {
     "data": {
      "text/plain": [
       "Job(status=<JobStatus.SUCCESS: 'SUCCESS'>, job_id='d7fe72d9-1f5b-4889-ad66-2f4a9b619978', job_type='/workflow/predict', created_date=datetime.datetime(2023, 8, 4, 4, 24, 47, 600909), start_date=datetime.datetime(2023, 8, 4, 4, 24, 53, 718138), end_date=datetime.datetime(2023, 8, 4, 4, 25, 19, 662641), prerequisite_job_id='32f2b480-f6d9-4d0c-9aeb-ec521d9a7c16', progress_message=None, progress_counter=None, num_records=None)"
      ]
     },
     "execution_count": 39,
     "metadata": {},
     "output_type": "execute_result"
    }
   ],
   "source": [
    "pjob = session.predict.load_job(pjob_id)\n",
    "pjob"
   ]
  }
 ],
 "metadata": {
  "kernelspec": {
   "display_name": "py38",
   "language": "python",
   "name": "python3"
  },
  "language_info": {
   "codemirror_mode": {
    "name": "ipython",
    "version": 3
   },
   "file_extension": ".py",
   "mimetype": "text/x-python",
   "name": "python",
   "nbconvert_exporter": "python",
   "pygments_lexer": "ipython3",
   "version": "3.8.16"
  }
 },
 "nbformat": 4,
 "nbformat_minor": 2
}
